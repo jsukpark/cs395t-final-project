{
 "cells": [
  {
   "cell_type": "code",
   "execution_count": null,
   "id": "805805d6-d1ef-4e25-9c51-8dd722b4c03e",
   "metadata": {},
   "outputs": [],
   "source": [
    "import matplotlib.pyplot as plt\n",
    "import matplotlib.animation as animation\n",
    "import torch, time, sys\n",
    "import numpy as np\n",
    "import scipy.integrate\n",
    "solve_ivp = scipy.integrate.solve_ivp"
   ]
  },
  {
   "cell_type": "code",
   "execution_count": null,
   "id": "fb32104b-6ae5-414f-8a3f-d9550ee9d1af",
   "metadata": {},
   "outputs": [],
   "source": [
    "import os\n",
    "\n",
    "cwd = os.getcwd()  # Get the current working directory (cwd)\n",
    "files = os.listdir(cwd)  # Get all the files in that directory\n",
    "print(\"Files in %r: %s\" % (cwd, files))"
   ]
  },
  {
   "cell_type": "code",
   "execution_count": null,
   "id": "1445344f-2d1a-4b2d-95a0-8770147af1fd",
   "metadata": {},
   "outputs": [],
   "source": [
    "import pickle\n",
    "\n",
    "with open('expert_rollout.pickle', 'rb') as dbfile:\n",
    "    expert_rollout = pickle.load(dbfile)\n",
    "with open('airl_rollout.pickle', 'rb') as dbfile:\n",
    "    baseln_rollout = pickle.load(dbfile)\n",
    "# with open('hnn_rollout.pickle', 'rb') as dbfile:  # TODO: Uncomment after running improved algo\n",
    "#     improv_rollout = pickle.load(dbfile)\n"
   ]
  },
  {
   "cell_type": "code",
   "execution_count": null,
   "id": "51efabe3",
   "metadata": {},
   "outputs": [],
   "source": [
    "obs_expert = np.array([traj.obs for traj in expert_rollout])[4:,...]\n",
    "obs_baseln = np.array([traj.obs for traj in baseln_rollout])[4:,...]\n",
    "# obs_improv = np.array([traj.obs for traj in improv_rollout])  # TODO: Uncomment after running improved algo"
   ]
  },
  {
   "cell_type": "code",
   "execution_count": null,
   "id": "9db5be63",
   "metadata": {},
   "outputs": [],
   "source": [
    "obs_expert[..., 0].shape"
   ]
  },
  {
   "cell_type": "code",
   "execution_count": null,
   "id": "97b18dec",
   "metadata": {},
   "outputs": [],
   "source": [
    "def obs_to_angles(observations: np.ndarray) -> np.ndarray:\n",
    "    \"\"\"Given a (N, 2) array of cosines and sines,\n",
    "    return a (N,) array of angles (in radians)\n",
    "    \"\"\"\n",
    "    cosines, sines = observations[..., 0], observations[..., 1]\n",
    "    angles = np.arccos(cosines)\n",
    "    return np.where(sines < 0, -angles, angles)\n"
   ]
  },
  {
   "cell_type": "code",
   "execution_count": null,
   "id": "aaed96b3",
   "metadata": {},
   "outputs": [],
   "source": [
    "fig, axes = plt.subplots(nrows=2, ncols=1, dpi=100, figsize=(15., 10.), facecolor='w')\n",
    "colors = {'expert': 'black', 'baseline': 'blue', 'improved': 'red'}\n",
    "fig.suptitle('Angles as functions of steps')\n",
    "for idx in range(2):\n",
    "    # axes[idx].set_title(fr'$\\theta_{idx+1}$ as a function of steps')\n",
    "    for key, obs in {'expert': obs_expert,\n",
    "                     'baseline': obs_baseln,\n",
    "                     # 'improved': obs_improv,  # TODO: Uncomment after obtaining obs_improv\n",
    "                     }.items():\n",
    "        thetas = obs_to_angles(obs[..., (2*idx):(2*idx+2)])\n",
    "        # https://en.wikipedia.org/wiki/Circular_mean\n",
    "        # See above for the rationale for computing angle mean as below:\n",
    "        theta_mean = obs_to_angles(np.mean(obs[..., (2*idx):(2*idx+2)], axis=0))\n",
    "        assert thetas.ndim == 2 and theta_mean.ndim == 1\n",
    "        assert (thetas.shape[1],) == theta_mean.shape\n",
    "        axes[idx].plot(thetas.T, c=colors[key], alpha=0.1)\n",
    "        axes[idx].plot(theta_mean, c=colors[key], label=key)\n",
    "    axes[idx].set_ylim(-np.pi, np.pi)\n",
    "    axes[idx].set_yticks(\n",
    "        [-np.pi, -np.pi/2, 0., np.pi/2, np.pi],\n",
    "        labels=[r'$-\\pi$', r'$-\\pi/2$', r'$0$', r'$\\pi/2$', r'$\\pi$'],\n",
    "    )\n",
    "    axes[idx].set_ylabel(fr'$\\theta_{idx+1}$ (radians)')\n",
    "    axes[idx].set_xlim(0, 512)\n",
    "    axes[idx].set_xlabel('steps')\n",
    "    axes[idx].legend()\n",
    "plt.tight_layout()\n",
    "plt.grid()\n",
    "plt.show()"
   ]
  },
  {
   "cell_type": "code",
   "execution_count": null,
   "id": "b0d3ec57",
   "metadata": {},
   "outputs": [],
   "source": [
    "rew_expert = np.array([traj.rews for traj in expert_rollout])\n",
    "rew_baseln = np.array([traj.rews for traj in baseln_rollout])"
   ]
  },
  {
   "cell_type": "code",
   "execution_count": null,
   "id": "10db117f",
   "metadata": {},
   "outputs": [],
   "source": [
    "plt.plot(rew_expert.T, color='black', alpha=0.1)\n",
    "plt.plot(np.mean(rew_expert, axis=0), color='black', label='expert')\n",
    "plt.plot(rew_baseln.T, color='blue', alpha=0.1)\n",
    "plt.plot(np.mean(rew_baseln, axis=0), color='blue', label='baseline')\n",
    "plt.xlim(0, 512)\n",
    "plt.ylim(-1, 0)\n",
    "plt.xlabel('steps')\n",
    "plt.ylabel('reward')\n",
    "plt.title('Expected immediate reward as a function of steps')\n",
    "plt.legend()\n",
    "plt.grid()\n",
    "plt.tight_layout()\n",
    "plt.show()"
   ]
  },
  {
   "cell_type": "code",
   "execution_count": null,
   "id": "5fd82df9-02f8-4d96-ab22-7754cb3776e1",
   "metadata": {},
   "outputs": [],
   "source": [
    "# obs_expert_0 =np.transpose(np.array(expert_rollout[0].obs))\n",
    "# obs_expert_1 =np.transpose(np.array(expert_rollout[1].obs))\n",
    "\n",
    "# lw = 3 #linewidth\n",
    "# fs=9\n",
    "# ts=15\n",
    "# tpad = 7\n",
    "# ls=12\n",
    "\n",
    "# fig = plt.figure(figsize=[15,4], dpi=100)\n",
    "# plt.subplot(1,3,1)\n",
    "# plt.title('Trajectories', fontsize=ts, pad=tpad)\n",
    "# colors = ['orange', 'purple']\n",
    "\n",
    "# plt.plot(obs_expert_0[1], obs_expert_0[2], '-', c=colors[0], label='True path, roll out {}'.format(0), linewidth=2)\n",
    "    \n",
    "# plt.plot(obs_expert_1[1], obs_expert_1[2], '--', c=colors[1], label='True path, roll out {}'.format(1), linewidth=2)\n",
    "\n",
    "# plt.axis('equal')\n",
    "# plt.xlabel('$x$', fontsize=ls) ; plt.ylabel('$y$', fontsize=ls)\n",
    "# plt.legend(fontsize=fs)\n",
    "# \"\"\"\n",
    "# plt.subplot(1,3,2)\n",
    "# real_pe, real_ke, real_etot = potential_energy(orbit), kinetic_energy(orbit), total_energy(orbit)\n",
    "# plt.title('Ground truth energy', fontsize=ts, pad=tpad)\n",
    "# plt.xlabel('Time')\n",
    "# plt.plot(settings['t_eval'], real_pe, 'g:', label='Potential', linewidth=lw)\n",
    "# plt.plot(settings['t_eval'], real_ke, 'c-.', label='Kinetic', linewidth=lw)\n",
    "# plt.plot(settings['t_eval'], real_etot, 'k-', label='Total', linewidth=lw)\n",
    "# plt.legend(fontsize=fs)\n",
    "# plt.xlim(*settings['t_span'])\n",
    "# ymin = np.min([real_pe.min(), real_ke.min(), real_etot.min()])\n",
    "# ymax = np.max([real_pe.max(), real_ke.max(), real_etot.max()])\n",
    "# plt.ylim(ymin, ymax)\n",
    "\n",
    "# plt.subplot(1,3,3)\n",
    "# plt.title('Baseline NN energy', fontsize=ts, pad=tpad)\n",
    "# plt.xlabel('Time')\n",
    "# plt.plot(settings['t_eval'], potential_energy(base_orbit), 'g:', label='Potential', linewidth=lw)\n",
    "# plt.plot(settings['t_eval'], kinetic_energy(base_orbit), 'c-.', label='Kinetic', linewidth=lw)\n",
    "# plt.plot(settings['t_eval'], total_energy(base_orbit), 'k-', label='Total', linewidth=lw)\n",
    "# plt.legend(fontsize=fs)\n",
    "# plt.xlim(*settings['t_span'])\n",
    "# plt.ylim(ymin, ymax)\n",
    "# \"\"\"\n",
    "# plt.tight_layout() ; plt.show()\n",
    "# #fig.savefig('{}/orbits-base-example.{}'.format(args.fig_dir, FORMAT))"
   ]
  }
 ],
 "metadata": {
  "kernelspec": {
   "display_name": "Python 3 (ipykernel)",
   "language": "python",
   "name": "python3"
  },
  "language_info": {
   "codemirror_mode": {
    "name": "ipython",
    "version": 3
   },
   "file_extension": ".py",
   "mimetype": "text/x-python",
   "name": "python",
   "nbconvert_exporter": "python",
   "pygments_lexer": "ipython3",
   "version": "3.10.13"
  }
 },
 "nbformat": 4,
 "nbformat_minor": 5
}
