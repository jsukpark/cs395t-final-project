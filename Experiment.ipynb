{
 "cells": [
  {
   "cell_type": "code",
   "execution_count": 36,
   "metadata": {},
   "outputs": [],
   "source": [
    "import os\n",
    "import shutil\n",
    "\n",
    "import numpy as np\n",
    "import gymnasium as gym\n",
    "from gymnasium import Wrapper, Env\n",
    "from gymnasium.wrappers import RecordVideo\n",
    "from stable_baselines3 import PPO\n"
   ]
  },
  {
   "cell_type": "code",
   "execution_count": 37,
   "metadata": {},
   "outputs": [],
   "source": [
    "def obs_to_state(obs):\n",
    "    c1, s1, c2, s2, o1, o2 = obs\n",
    "    t1, t2 = np.arccos(c1), np.arccos(c2)\n",
    "    if s1 < 0: t1 = -t1\n",
    "    if s2 < 0: t2 = -t2\n",
    "    return np.array([t1, t2, o1, o2])\n",
    "\n",
    "\n",
    "# TODO: Get this to work; we need episode lengths to be constant. See:\n",
    "# https://imitation.readthedocs.io/en/latest/main-concepts/variable_horizon.html\n",
    "class FixEpisodeLength(Wrapper):\n",
    "    def __init__(self, env: Env):\n",
    "        super().__init__(env)\n",
    "        self.freeze = False\n",
    "        self.last_obs = None\n",
    "        self.success_reward = None\n",
    "    \n",
    "    def step(self, action):\n",
    "        obs, reward, done, truncated, info = self.env.step(action)\n",
    "        if self.freeze:\n",
    "            obs, reward = self.last_obs, self.success_reward\n",
    "            # self.env.state = obs_to_state(obs)  # TODO: Acrobat-specific\n",
    "        elif done:\n",
    "            self.freeze = True\n",
    "            self.success_reward = reward\n",
    "        self.last_obs = obs\n",
    "        return obs, reward, False, truncated, info\n",
    "    \n",
    "    def reset(self, **kwargs):\n",
    "        self.freeze = False\n",
    "        self.last_obs = None\n",
    "        self.success_reward = None\n",
    "        return self.env.reset(**kwargs)\n",
    "\n",
    "\n",
    "env = gym.make(\"Acrobot-v1\", max_episode_steps=512, render_mode=\"rgb_array\")\n",
    "# env = FixEpisodeLength(env)"
   ]
  },
  {
   "cell_type": "code",
   "execution_count": 39,
   "metadata": {},
   "outputs": [
    {
     "name": "stderr",
     "output_type": "stream",
     "text": [
      "/usr/local/anaconda3/envs/PML/lib/python3.11/site-packages/gymnasium/wrappers/record_video.py:94: UserWarning: \u001b[33mWARN: Overwriting existing videos at /Users/dk/Documents/Academic/UT2023/CS395T_Fall/cs395t-final-project/gym-results/oracle/train folder (try specifying a different `video_folder` for the `RecordVideo` wrapper if this is not desired)\u001b[0m\n",
      "  logger.warn(\n"
     ]
    },
    {
     "name": "stdout",
     "output_type": "stream",
     "text": [
      "Using cpu device\n",
      "Wrapping the env with a `Monitor` wrapper\n",
      "Wrapping the env in a DummyVecEnv.\n",
      "Moviepy - Building video /Users/dk/Documents/Academic/UT2023/CS395T_Fall/cs395t-final-project/gym-results/oracle/train/rl-video-episode-0.mp4.\n",
      "Moviepy - Writing video /Users/dk/Documents/Academic/UT2023/CS395T_Fall/cs395t-final-project/gym-results/oracle/train/rl-video-episode-0.mp4\n",
      "\n"
     ]
    },
    {
     "name": "stderr",
     "output_type": "stream",
     "text": [
      "                                                                                                     \r"
     ]
    },
    {
     "name": "stdout",
     "output_type": "stream",
     "text": [
      "Moviepy - Done !\n",
      "Moviepy - video ready /Users/dk/Documents/Academic/UT2023/CS395T_Fall/cs395t-final-project/gym-results/oracle/train/rl-video-episode-0.mp4\n",
      "Moviepy - Building video /Users/dk/Documents/Academic/UT2023/CS395T_Fall/cs395t-final-project/gym-results/oracle/train/rl-video-episode-1.mp4.\n",
      "Moviepy - Writing video /Users/dk/Documents/Academic/UT2023/CS395T_Fall/cs395t-final-project/gym-results/oracle/train/rl-video-episode-1.mp4\n",
      "\n"
     ]
    },
    {
     "name": "stderr",
     "output_type": "stream",
     "text": [
      "                                                                                                     \r"
     ]
    },
    {
     "name": "stdout",
     "output_type": "stream",
     "text": [
      "Moviepy - Done !\n",
      "Moviepy - video ready /Users/dk/Documents/Academic/UT2023/CS395T_Fall/cs395t-final-project/gym-results/oracle/train/rl-video-episode-1.mp4\n",
      "Moviepy - Building video /Users/dk/Documents/Academic/UT2023/CS395T_Fall/cs395t-final-project/gym-results/oracle/train/rl-video-episode-2.mp4.\n",
      "Moviepy - Writing video /Users/dk/Documents/Academic/UT2023/CS395T_Fall/cs395t-final-project/gym-results/oracle/train/rl-video-episode-2.mp4\n",
      "\n"
     ]
    },
    {
     "name": "stderr",
     "output_type": "stream",
     "text": [
      "                                                                                                     \r"
     ]
    },
    {
     "name": "stdout",
     "output_type": "stream",
     "text": [
      "Moviepy - Done !\n",
      "Moviepy - video ready /Users/dk/Documents/Academic/UT2023/CS395T_Fall/cs395t-final-project/gym-results/oracle/train/rl-video-episode-2.mp4\n",
      "Moviepy - Building video /Users/dk/Documents/Academic/UT2023/CS395T_Fall/cs395t-final-project/gym-results/oracle/train/rl-video-episode-3.mp4.\n",
      "Moviepy - Writing video /Users/dk/Documents/Academic/UT2023/CS395T_Fall/cs395t-final-project/gym-results/oracle/train/rl-video-episode-3.mp4\n",
      "\n"
     ]
    },
    {
     "name": "stderr",
     "output_type": "stream",
     "text": [
      "                                                                                                     \r"
     ]
    },
    {
     "name": "stdout",
     "output_type": "stream",
     "text": [
      "Moviepy - Done !\n",
      "Moviepy - video ready /Users/dk/Documents/Academic/UT2023/CS395T_Fall/cs395t-final-project/gym-results/oracle/train/rl-video-episode-3.mp4\n",
      "---------------------------------\n",
      "| rollout/           |          |\n",
      "|    ep_len_mean     | 480      |\n",
      "|    ep_rew_mean     | -480     |\n",
      "| time/              |          |\n",
      "|    fps             | 170      |\n",
      "|    iterations      | 1        |\n",
      "|    time_elapsed    | 12       |\n",
      "|    total_timesteps | 2048     |\n",
      "---------------------------------\n",
      "Moviepy - Building video /Users/dk/Documents/Academic/UT2023/CS395T_Fall/cs395t-final-project/gym-results/oracle/train/rl-video-episode-4.mp4.\n",
      "Moviepy - Writing video /Users/dk/Documents/Academic/UT2023/CS395T_Fall/cs395t-final-project/gym-results/oracle/train/rl-video-episode-4.mp4\n",
      "\n"
     ]
    },
    {
     "name": "stderr",
     "output_type": "stream",
     "text": [
      "                                                                                                     \r"
     ]
    },
    {
     "name": "stdout",
     "output_type": "stream",
     "text": [
      "Moviepy - Done !\n",
      "Moviepy - video ready /Users/dk/Documents/Academic/UT2023/CS395T_Fall/cs395t-final-project/gym-results/oracle/train/rl-video-episode-4.mp4\n",
      "Moviepy - Building video /Users/dk/Documents/Academic/UT2023/CS395T_Fall/cs395t-final-project/gym-results/oracle/train/rl-video-episode-5.mp4.\n",
      "Moviepy - Writing video /Users/dk/Documents/Academic/UT2023/CS395T_Fall/cs395t-final-project/gym-results/oracle/train/rl-video-episode-5.mp4\n",
      "\n"
     ]
    },
    {
     "name": "stderr",
     "output_type": "stream",
     "text": [
      "                                                                                                     \r"
     ]
    },
    {
     "name": "stdout",
     "output_type": "stream",
     "text": [
      "Moviepy - Done !\n",
      "Moviepy - video ready /Users/dk/Documents/Academic/UT2023/CS395T_Fall/cs395t-final-project/gym-results/oracle/train/rl-video-episode-5.mp4\n",
      "Moviepy - Building video /Users/dk/Documents/Academic/UT2023/CS395T_Fall/cs395t-final-project/gym-results/oracle/train/rl-video-episode-6.mp4.\n",
      "Moviepy - Writing video /Users/dk/Documents/Academic/UT2023/CS395T_Fall/cs395t-final-project/gym-results/oracle/train/rl-video-episode-6.mp4\n",
      "\n"
     ]
    },
    {
     "name": "stderr",
     "output_type": "stream",
     "text": [
      "                                                                                                     \r"
     ]
    },
    {
     "name": "stdout",
     "output_type": "stream",
     "text": [
      "Moviepy - Done !\n",
      "Moviepy - video ready /Users/dk/Documents/Academic/UT2023/CS395T_Fall/cs395t-final-project/gym-results/oracle/train/rl-video-episode-6.mp4\n",
      "Moviepy - Building video /Users/dk/Documents/Academic/UT2023/CS395T_Fall/cs395t-final-project/gym-results/oracle/train/rl-video-episode-7.mp4.\n",
      "Moviepy - Writing video /Users/dk/Documents/Academic/UT2023/CS395T_Fall/cs395t-final-project/gym-results/oracle/train/rl-video-episode-7.mp4\n",
      "\n"
     ]
    },
    {
     "name": "stderr",
     "output_type": "stream",
     "text": [
      "                                                                                                     \r"
     ]
    },
    {
     "name": "stdout",
     "output_type": "stream",
     "text": [
      "Moviepy - Done !\n",
      "Moviepy - video ready /Users/dk/Documents/Academic/UT2023/CS395T_Fall/cs395t-final-project/gym-results/oracle/train/rl-video-episode-7.mp4\n",
      "-----------------------------------------\n",
      "| rollout/                |             |\n",
      "|    ep_len_mean          | 496         |\n",
      "|    ep_rew_mean          | -496        |\n",
      "| time/                   |             |\n",
      "|    fps                  | 149         |\n",
      "|    iterations           | 2           |\n",
      "|    time_elapsed         | 27          |\n",
      "|    total_timesteps      | 4096        |\n",
      "| train/                  |             |\n",
      "|    approx_kl            | 0.003556368 |\n",
      "|    clip_fraction        | 0.00444     |\n",
      "|    clip_range           | 0.2         |\n",
      "|    entropy_loss         | -1.1        |\n",
      "|    explained_variance   | -0.0304     |\n",
      "|    learning_rate        | 0.0003      |\n",
      "|    loss                 | 19.2        |\n",
      "|    n_updates            | 10          |\n",
      "|    policy_gradient_loss | -0.00257    |\n",
      "|    value_loss           | 144         |\n",
      "-----------------------------------------\n",
      "Moviepy - Building video /Users/dk/Documents/Academic/UT2023/CS395T_Fall/cs395t-final-project/gym-results/oracle/train/rl-video-episode-8.mp4.\n",
      "Moviepy - Writing video /Users/dk/Documents/Academic/UT2023/CS395T_Fall/cs395t-final-project/gym-results/oracle/train/rl-video-episode-8.mp4\n",
      "\n"
     ]
    },
    {
     "name": "stderr",
     "output_type": "stream",
     "text": [
      "                                                                                                     \r"
     ]
    },
    {
     "name": "stdout",
     "output_type": "stream",
     "text": [
      "Moviepy - Done !\n",
      "Moviepy - video ready /Users/dk/Documents/Academic/UT2023/CS395T_Fall/cs395t-final-project/gym-results/oracle/train/rl-video-episode-8.mp4\n",
      "Moviepy - Building video /Users/dk/Documents/Academic/UT2023/CS395T_Fall/cs395t-final-project/gym-results/oracle/train/rl-video-episode-9.mp4.\n",
      "Moviepy - Writing video /Users/dk/Documents/Academic/UT2023/CS395T_Fall/cs395t-final-project/gym-results/oracle/train/rl-video-episode-9.mp4\n",
      "\n"
     ]
    },
    {
     "name": "stderr",
     "output_type": "stream",
     "text": [
      "                                                                                                     \r"
     ]
    },
    {
     "name": "stdout",
     "output_type": "stream",
     "text": [
      "Moviepy - Done !\n",
      "Moviepy - video ready /Users/dk/Documents/Academic/UT2023/CS395T_Fall/cs395t-final-project/gym-results/oracle/train/rl-video-episode-9.mp4\n",
      "Moviepy - Building video /Users/dk/Documents/Academic/UT2023/CS395T_Fall/cs395t-final-project/gym-results/oracle/train/rl-video-episode-10.mp4.\n",
      "Moviepy - Writing video /Users/dk/Documents/Academic/UT2023/CS395T_Fall/cs395t-final-project/gym-results/oracle/train/rl-video-episode-10.mp4\n",
      "\n"
     ]
    },
    {
     "name": "stderr",
     "output_type": "stream",
     "text": [
      "                                                                                                     \r"
     ]
    },
    {
     "name": "stdout",
     "output_type": "stream",
     "text": [
      "Moviepy - Done !\n",
      "Moviepy - video ready /Users/dk/Documents/Academic/UT2023/CS395T_Fall/cs395t-final-project/gym-results/oracle/train/rl-video-episode-10.mp4\n",
      "Moviepy - Building video /Users/dk/Documents/Academic/UT2023/CS395T_Fall/cs395t-final-project/gym-results/oracle/train/rl-video-episode-11.mp4.\n",
      "Moviepy - Writing video /Users/dk/Documents/Academic/UT2023/CS395T_Fall/cs395t-final-project/gym-results/oracle/train/rl-video-episode-11.mp4\n",
      "\n"
     ]
    },
    {
     "name": "stderr",
     "output_type": "stream",
     "text": [
      "                                                                                                     \r"
     ]
    },
    {
     "name": "stdout",
     "output_type": "stream",
     "text": [
      "Moviepy - Done !\n",
      "Moviepy - video ready /Users/dk/Documents/Academic/UT2023/CS395T_Fall/cs395t-final-project/gym-results/oracle/train/rl-video-episode-11.mp4\n",
      "----------------------------------------\n",
      "| rollout/                |            |\n",
      "|    ep_len_mean          | 502        |\n",
      "|    ep_rew_mean          | -501       |\n",
      "| time/                   |            |\n",
      "|    fps                  | 147        |\n",
      "|    iterations           | 3          |\n",
      "|    time_elapsed         | 41         |\n",
      "|    total_timesteps      | 6144       |\n",
      "| train/                  |            |\n",
      "|    approx_kl            | 0.00415776 |\n",
      "|    clip_fraction        | 0.00229    |\n",
      "|    clip_range           | 0.2        |\n",
      "|    entropy_loss         | -1.09      |\n",
      "|    explained_variance   | 0.00241    |\n",
      "|    learning_rate        | 0.0003     |\n",
      "|    loss                 | 21.7       |\n",
      "|    n_updates            | 20         |\n",
      "|    policy_gradient_loss | -0.00096   |\n",
      "|    value_loss           | 109        |\n",
      "----------------------------------------\n",
      "Moviepy - Building video /Users/dk/Documents/Academic/UT2023/CS395T_Fall/cs395t-final-project/gym-results/oracle/train/rl-video-episode-12.mp4.\n",
      "Moviepy - Writing video /Users/dk/Documents/Academic/UT2023/CS395T_Fall/cs395t-final-project/gym-results/oracle/train/rl-video-episode-12.mp4\n",
      "\n"
     ]
    },
    {
     "name": "stderr",
     "output_type": "stream",
     "text": [
      "                                                                                                     \r"
     ]
    },
    {
     "name": "stdout",
     "output_type": "stream",
     "text": [
      "Moviepy - Done !\n",
      "Moviepy - video ready /Users/dk/Documents/Academic/UT2023/CS395T_Fall/cs395t-final-project/gym-results/oracle/train/rl-video-episode-12.mp4\n",
      "Moviepy - Building video /Users/dk/Documents/Academic/UT2023/CS395T_Fall/cs395t-final-project/gym-results/oracle/train/rl-video-episode-13.mp4.\n",
      "Moviepy - Writing video /Users/dk/Documents/Academic/UT2023/CS395T_Fall/cs395t-final-project/gym-results/oracle/train/rl-video-episode-13.mp4\n",
      "\n"
     ]
    },
    {
     "name": "stderr",
     "output_type": "stream",
     "text": [
      "                                                                                                     \r"
     ]
    },
    {
     "name": "stdout",
     "output_type": "stream",
     "text": [
      "Moviepy - Done !\n",
      "Moviepy - video ready /Users/dk/Documents/Academic/UT2023/CS395T_Fall/cs395t-final-project/gym-results/oracle/train/rl-video-episode-13.mp4\n",
      "Moviepy - Building video /Users/dk/Documents/Academic/UT2023/CS395T_Fall/cs395t-final-project/gym-results/oracle/train/rl-video-episode-14.mp4.\n",
      "Moviepy - Writing video /Users/dk/Documents/Academic/UT2023/CS395T_Fall/cs395t-final-project/gym-results/oracle/train/rl-video-episode-14.mp4\n",
      "\n"
     ]
    },
    {
     "name": "stderr",
     "output_type": "stream",
     "text": [
      "                                                                                                     \r"
     ]
    },
    {
     "name": "stdout",
     "output_type": "stream",
     "text": [
      "Moviepy - Done !\n",
      "Moviepy - video ready /Users/dk/Documents/Academic/UT2023/CS395T_Fall/cs395t-final-project/gym-results/oracle/train/rl-video-episode-14.mp4\n",
      "Moviepy - Building video /Users/dk/Documents/Academic/UT2023/CS395T_Fall/cs395t-final-project/gym-results/oracle/train/rl-video-episode-15.mp4.\n",
      "Moviepy - Writing video /Users/dk/Documents/Academic/UT2023/CS395T_Fall/cs395t-final-project/gym-results/oracle/train/rl-video-episode-15.mp4\n",
      "\n"
     ]
    },
    {
     "name": "stderr",
     "output_type": "stream",
     "text": [
      "                                                                                                     \r"
     ]
    },
    {
     "name": "stdout",
     "output_type": "stream",
     "text": [
      "Moviepy - Done !\n",
      "Moviepy - video ready /Users/dk/Documents/Academic/UT2023/CS395T_Fall/cs395t-final-project/gym-results/oracle/train/rl-video-episode-15.mp4\n",
      "-----------------------------------------\n",
      "| rollout/                |             |\n",
      "|    ep_len_mean          | 504         |\n",
      "|    ep_rew_mean          | -504        |\n",
      "| time/                   |             |\n",
      "|    fps                  | 148         |\n",
      "|    iterations           | 4           |\n",
      "|    time_elapsed         | 55          |\n",
      "|    total_timesteps      | 8192        |\n",
      "| train/                  |             |\n",
      "|    approx_kl            | 0.010258327 |\n",
      "|    clip_fraction        | 0.0551      |\n",
      "|    clip_range           | 0.2         |\n",
      "|    entropy_loss         | -1.09       |\n",
      "|    explained_variance   | 0.0025      |\n",
      "|    learning_rate        | 0.0003      |\n",
      "|    loss                 | 20.8        |\n",
      "|    n_updates            | 30          |\n",
      "|    policy_gradient_loss | -0.00454    |\n",
      "|    value_loss           | 98.8        |\n",
      "-----------------------------------------\n",
      "Moviepy - Building video /Users/dk/Documents/Academic/UT2023/CS395T_Fall/cs395t-final-project/gym-results/oracle/train/rl-video-episode-16.mp4.\n",
      "Moviepy - Writing video /Users/dk/Documents/Academic/UT2023/CS395T_Fall/cs395t-final-project/gym-results/oracle/train/rl-video-episode-16.mp4\n",
      "\n"
     ]
    },
    {
     "name": "stderr",
     "output_type": "stream",
     "text": [
      "                                                                                                     \r"
     ]
    },
    {
     "name": "stdout",
     "output_type": "stream",
     "text": [
      "Moviepy - Done !\n",
      "Moviepy - video ready /Users/dk/Documents/Academic/UT2023/CS395T_Fall/cs395t-final-project/gym-results/oracle/train/rl-video-episode-16.mp4\n",
      "Moviepy - Building video /Users/dk/Documents/Academic/UT2023/CS395T_Fall/cs395t-final-project/gym-results/oracle/train/rl-video-episode-17.mp4.\n",
      "Moviepy - Writing video /Users/dk/Documents/Academic/UT2023/CS395T_Fall/cs395t-final-project/gym-results/oracle/train/rl-video-episode-17.mp4\n",
      "\n"
     ]
    },
    {
     "name": "stderr",
     "output_type": "stream",
     "text": [
      "                                                                                                     \r"
     ]
    },
    {
     "name": "stdout",
     "output_type": "stream",
     "text": [
      "Moviepy - Done !\n",
      "Moviepy - video ready /Users/dk/Documents/Academic/UT2023/CS395T_Fall/cs395t-final-project/gym-results/oracle/train/rl-video-episode-17.mp4\n",
      "Moviepy - Building video /Users/dk/Documents/Academic/UT2023/CS395T_Fall/cs395t-final-project/gym-results/oracle/train/rl-video-episode-18.mp4.\n",
      "Moviepy - Writing video /Users/dk/Documents/Academic/UT2023/CS395T_Fall/cs395t-final-project/gym-results/oracle/train/rl-video-episode-18.mp4\n",
      "\n"
     ]
    },
    {
     "name": "stderr",
     "output_type": "stream",
     "text": [
      "                                                                                                     \r"
     ]
    },
    {
     "name": "stdout",
     "output_type": "stream",
     "text": [
      "Moviepy - Done !\n",
      "Moviepy - video ready /Users/dk/Documents/Academic/UT2023/CS395T_Fall/cs395t-final-project/gym-results/oracle/train/rl-video-episode-18.mp4\n",
      "Moviepy - Building video /Users/dk/Documents/Academic/UT2023/CS395T_Fall/cs395t-final-project/gym-results/oracle/train/rl-video-episode-19.mp4.\n",
      "Moviepy - Writing video /Users/dk/Documents/Academic/UT2023/CS395T_Fall/cs395t-final-project/gym-results/oracle/train/rl-video-episode-19.mp4\n",
      "\n"
     ]
    },
    {
     "name": "stderr",
     "output_type": "stream",
     "text": [
      "                                                                                                     \r"
     ]
    },
    {
     "name": "stdout",
     "output_type": "stream",
     "text": [
      "Moviepy - Done !\n",
      "Moviepy - video ready /Users/dk/Documents/Academic/UT2023/CS395T_Fall/cs395t-final-project/gym-results/oracle/train/rl-video-episode-19.mp4\n",
      "-----------------------------------------\n",
      "| rollout/                |             |\n",
      "|    ep_len_mean          | 506         |\n",
      "|    ep_rew_mean          | -506        |\n",
      "| time/                   |             |\n",
      "|    fps                  | 144         |\n",
      "|    iterations           | 5           |\n",
      "|    time_elapsed         | 70          |\n",
      "|    total_timesteps      | 10240       |\n",
      "| train/                  |             |\n",
      "|    approx_kl            | 0.009465017 |\n",
      "|    clip_fraction        | 0.0242      |\n",
      "|    clip_range           | 0.2         |\n",
      "|    entropy_loss         | -1.09       |\n",
      "|    explained_variance   | -0.00254    |\n",
      "|    learning_rate        | 0.0003      |\n",
      "|    loss                 | 15.7        |\n",
      "|    n_updates            | 40          |\n",
      "|    policy_gradient_loss | -0.00291    |\n",
      "|    value_loss           | 79.4        |\n",
      "-----------------------------------------\n",
      "Moviepy - Building video /Users/dk/Documents/Academic/UT2023/CS395T_Fall/cs395t-final-project/gym-results/oracle/train/rl-video-episode-20.mp4.\n",
      "Moviepy - Writing video /Users/dk/Documents/Academic/UT2023/CS395T_Fall/cs395t-final-project/gym-results/oracle/train/rl-video-episode-20.mp4\n",
      "\n"
     ]
    },
    {
     "name": "stderr",
     "output_type": "stream",
     "text": [
      "                                                                                                     \r"
     ]
    },
    {
     "name": "stdout",
     "output_type": "stream",
     "text": [
      "Moviepy - Done !\n",
      "Moviepy - video ready /Users/dk/Documents/Academic/UT2023/CS395T_Fall/cs395t-final-project/gym-results/oracle/train/rl-video-episode-20.mp4\n",
      "Moviepy - Building video /Users/dk/Documents/Academic/UT2023/CS395T_Fall/cs395t-final-project/gym-results/oracle/train/rl-video-episode-21.mp4.\n",
      "Moviepy - Writing video /Users/dk/Documents/Academic/UT2023/CS395T_Fall/cs395t-final-project/gym-results/oracle/train/rl-video-episode-21.mp4\n",
      "\n"
     ]
    },
    {
     "name": "stderr",
     "output_type": "stream",
     "text": [
      "                                                                                                     \r"
     ]
    },
    {
     "name": "stdout",
     "output_type": "stream",
     "text": [
      "Moviepy - Done !\n",
      "Moviepy - video ready /Users/dk/Documents/Academic/UT2023/CS395T_Fall/cs395t-final-project/gym-results/oracle/train/rl-video-episode-21.mp4\n",
      "Moviepy - Building video /Users/dk/Documents/Academic/UT2023/CS395T_Fall/cs395t-final-project/gym-results/oracle/train/rl-video-episode-22.mp4.\n",
      "Moviepy - Writing video /Users/dk/Documents/Academic/UT2023/CS395T_Fall/cs395t-final-project/gym-results/oracle/train/rl-video-episode-22.mp4\n",
      "\n"
     ]
    },
    {
     "name": "stderr",
     "output_type": "stream",
     "text": [
      "                                                                                                     \r"
     ]
    },
    {
     "name": "stdout",
     "output_type": "stream",
     "text": [
      "Moviepy - Done !\n",
      "Moviepy - video ready /Users/dk/Documents/Academic/UT2023/CS395T_Fall/cs395t-final-project/gym-results/oracle/train/rl-video-episode-22.mp4\n",
      "Moviepy - Building video /Users/dk/Documents/Academic/UT2023/CS395T_Fall/cs395t-final-project/gym-results/oracle/train/rl-video-episode-23.mp4.\n",
      "Moviepy - Writing video /Users/dk/Documents/Academic/UT2023/CS395T_Fall/cs395t-final-project/gym-results/oracle/train/rl-video-episode-23.mp4\n",
      "\n"
     ]
    },
    {
     "name": "stderr",
     "output_type": "stream",
     "text": [
      "                                                                                                     \r"
     ]
    },
    {
     "name": "stdout",
     "output_type": "stream",
     "text": [
      "Moviepy - Done !\n",
      "Moviepy - video ready /Users/dk/Documents/Academic/UT2023/CS395T_Fall/cs395t-final-project/gym-results/oracle/train/rl-video-episode-23.mp4\n",
      "------------------------------------------\n",
      "| rollout/                |              |\n",
      "|    ep_len_mean          | 507          |\n",
      "|    ep_rew_mean          | -507         |\n",
      "| time/                   |              |\n",
      "|    fps                  | 147          |\n",
      "|    iterations           | 6            |\n",
      "|    time_elapsed         | 83           |\n",
      "|    total_timesteps      | 12288        |\n",
      "| train/                  |              |\n",
      "|    approx_kl            | 0.0054701674 |\n",
      "|    clip_fraction        | 0.0214       |\n",
      "|    clip_range           | 0.2          |\n",
      "|    entropy_loss         | -1.08        |\n",
      "|    explained_variance   | 0.00941      |\n",
      "|    learning_rate        | 0.0003       |\n",
      "|    loss                 | 11.2         |\n",
      "|    n_updates            | 50           |\n",
      "|    policy_gradient_loss | -0.00271     |\n",
      "|    value_loss           | 64.1         |\n",
      "------------------------------------------\n",
      "Moviepy - Building video /Users/dk/Documents/Academic/UT2023/CS395T_Fall/cs395t-final-project/gym-results/oracle/train/rl-video-episode-24.mp4.\n",
      "Moviepy - Writing video /Users/dk/Documents/Academic/UT2023/CS395T_Fall/cs395t-final-project/gym-results/oracle/train/rl-video-episode-24.mp4\n",
      "\n"
     ]
    },
    {
     "name": "stderr",
     "output_type": "stream",
     "text": [
      "                                                                                                     \r"
     ]
    },
    {
     "name": "stdout",
     "output_type": "stream",
     "text": [
      "Moviepy - Done !\n",
      "Moviepy - video ready /Users/dk/Documents/Academic/UT2023/CS395T_Fall/cs395t-final-project/gym-results/oracle/train/rl-video-episode-24.mp4\n",
      "Moviepy - Building video /Users/dk/Documents/Academic/UT2023/CS395T_Fall/cs395t-final-project/gym-results/oracle/train/rl-video-episode-25.mp4.\n",
      "Moviepy - Writing video /Users/dk/Documents/Academic/UT2023/CS395T_Fall/cs395t-final-project/gym-results/oracle/train/rl-video-episode-25.mp4\n",
      "\n"
     ]
    },
    {
     "name": "stderr",
     "output_type": "stream",
     "text": [
      "                                                                                                     \r"
     ]
    },
    {
     "name": "stdout",
     "output_type": "stream",
     "text": [
      "Moviepy - Done !\n",
      "Moviepy - video ready /Users/dk/Documents/Academic/UT2023/CS395T_Fall/cs395t-final-project/gym-results/oracle/train/rl-video-episode-25.mp4\n",
      "Moviepy - Building video /Users/dk/Documents/Academic/UT2023/CS395T_Fall/cs395t-final-project/gym-results/oracle/train/rl-video-episode-26.mp4.\n",
      "Moviepy - Writing video /Users/dk/Documents/Academic/UT2023/CS395T_Fall/cs395t-final-project/gym-results/oracle/train/rl-video-episode-26.mp4\n",
      "\n"
     ]
    },
    {
     "name": "stderr",
     "output_type": "stream",
     "text": [
      "                                                                                                     \r"
     ]
    },
    {
     "name": "stdout",
     "output_type": "stream",
     "text": [
      "Moviepy - Done !\n",
      "Moviepy - video ready /Users/dk/Documents/Academic/UT2023/CS395T_Fall/cs395t-final-project/gym-results/oracle/train/rl-video-episode-26.mp4\n",
      "Moviepy - Building video /Users/dk/Documents/Academic/UT2023/CS395T_Fall/cs395t-final-project/gym-results/oracle/train/rl-video-episode-27.mp4.\n",
      "Moviepy - Writing video /Users/dk/Documents/Academic/UT2023/CS395T_Fall/cs395t-final-project/gym-results/oracle/train/rl-video-episode-27.mp4\n",
      "\n"
     ]
    },
    {
     "name": "stderr",
     "output_type": "stream",
     "text": [
      "                                                                                                     \r"
     ]
    },
    {
     "name": "stdout",
     "output_type": "stream",
     "text": [
      "Moviepy - Done !\n",
      "Moviepy - video ready /Users/dk/Documents/Academic/UT2023/CS395T_Fall/cs395t-final-project/gym-results/oracle/train/rl-video-episode-27.mp4\n",
      "Moviepy - Building video /Users/dk/Documents/Academic/UT2023/CS395T_Fall/cs395t-final-project/gym-results/oracle/train/rl-video-episode-28.mp4.\n",
      "Moviepy - Writing video /Users/dk/Documents/Academic/UT2023/CS395T_Fall/cs395t-final-project/gym-results/oracle/train/rl-video-episode-28.mp4\n",
      "\n"
     ]
    },
    {
     "name": "stderr",
     "output_type": "stream",
     "text": [
      "                                                                                                     \r"
     ]
    },
    {
     "name": "stdout",
     "output_type": "stream",
     "text": [
      "Moviepy - Done !\n",
      "Moviepy - video ready /Users/dk/Documents/Academic/UT2023/CS395T_Fall/cs395t-final-project/gym-results/oracle/train/rl-video-episode-28.mp4\n",
      "------------------------------------------\n",
      "| rollout/                |              |\n",
      "|    ep_len_mean          | 490          |\n",
      "|    ep_rew_mean          | -489         |\n",
      "| time/                   |              |\n",
      "|    fps                  | 147          |\n",
      "|    iterations           | 7            |\n",
      "|    time_elapsed         | 97           |\n",
      "|    total_timesteps      | 14336        |\n",
      "| train/                  |              |\n",
      "|    approx_kl            | 0.0072997697 |\n",
      "|    clip_fraction        | 0.029        |\n",
      "|    clip_range           | 0.2          |\n",
      "|    entropy_loss         | -1.08        |\n",
      "|    explained_variance   | -0.0522      |\n",
      "|    learning_rate        | 0.0003       |\n",
      "|    loss                 | 13.7         |\n",
      "|    n_updates            | 60           |\n",
      "|    policy_gradient_loss | -0.0036      |\n",
      "|    value_loss           | 58.8         |\n",
      "------------------------------------------\n",
      "Moviepy - Building video /Users/dk/Documents/Academic/UT2023/CS395T_Fall/cs395t-final-project/gym-results/oracle/train/rl-video-episode-29.mp4.\n",
      "Moviepy - Writing video /Users/dk/Documents/Academic/UT2023/CS395T_Fall/cs395t-final-project/gym-results/oracle/train/rl-video-episode-29.mp4\n",
      "\n"
     ]
    },
    {
     "name": "stderr",
     "output_type": "stream",
     "text": [
      "                                                                                                     \r"
     ]
    },
    {
     "name": "stdout",
     "output_type": "stream",
     "text": [
      "Moviepy - Done !\n",
      "Moviepy - video ready /Users/dk/Documents/Academic/UT2023/CS395T_Fall/cs395t-final-project/gym-results/oracle/train/rl-video-episode-29.mp4\n",
      "Moviepy - Building video /Users/dk/Documents/Academic/UT2023/CS395T_Fall/cs395t-final-project/gym-results/oracle/train/rl-video-episode-30.mp4.\n",
      "Moviepy - Writing video /Users/dk/Documents/Academic/UT2023/CS395T_Fall/cs395t-final-project/gym-results/oracle/train/rl-video-episode-30.mp4\n",
      "\n"
     ]
    },
    {
     "name": "stderr",
     "output_type": "stream",
     "text": [
      "                                                                                                     \r"
     ]
    },
    {
     "name": "stdout",
     "output_type": "stream",
     "text": [
      "Moviepy - Done !\n",
      "Moviepy - video ready /Users/dk/Documents/Academic/UT2023/CS395T_Fall/cs395t-final-project/gym-results/oracle/train/rl-video-episode-30.mp4\n",
      "Moviepy - Building video /Users/dk/Documents/Academic/UT2023/CS395T_Fall/cs395t-final-project/gym-results/oracle/train/rl-video-episode-31.mp4.\n",
      "Moviepy - Writing video /Users/dk/Documents/Academic/UT2023/CS395T_Fall/cs395t-final-project/gym-results/oracle/train/rl-video-episode-31.mp4\n",
      "\n"
     ]
    },
    {
     "name": "stderr",
     "output_type": "stream",
     "text": [
      "                                                                                                     \r"
     ]
    },
    {
     "name": "stdout",
     "output_type": "stream",
     "text": [
      "Moviepy - Done !\n",
      "Moviepy - video ready /Users/dk/Documents/Academic/UT2023/CS395T_Fall/cs395t-final-project/gym-results/oracle/train/rl-video-episode-31.mp4\n",
      "Moviepy - Building video /Users/dk/Documents/Academic/UT2023/CS395T_Fall/cs395t-final-project/gym-results/oracle/train/rl-video-episode-32.mp4.\n",
      "Moviepy - Writing video /Users/dk/Documents/Academic/UT2023/CS395T_Fall/cs395t-final-project/gym-results/oracle/train/rl-video-episode-32.mp4\n",
      "\n"
     ]
    },
    {
     "name": "stderr",
     "output_type": "stream",
     "text": [
      "                                                                                                     \r"
     ]
    },
    {
     "name": "stdout",
     "output_type": "stream",
     "text": [
      "Moviepy - Done !\n",
      "Moviepy - video ready /Users/dk/Documents/Academic/UT2023/CS395T_Fall/cs395t-final-project/gym-results/oracle/train/rl-video-episode-32.mp4\n",
      "Moviepy - Building video /Users/dk/Documents/Academic/UT2023/CS395T_Fall/cs395t-final-project/gym-results/oracle/train/rl-video-episode-33.mp4.\n",
      "Moviepy - Writing video /Users/dk/Documents/Academic/UT2023/CS395T_Fall/cs395t-final-project/gym-results/oracle/train/rl-video-episode-33.mp4\n",
      "\n"
     ]
    },
    {
     "name": "stderr",
     "output_type": "stream",
     "text": [
      "                                                                                                     \r"
     ]
    },
    {
     "name": "stdout",
     "output_type": "stream",
     "text": [
      "Moviepy - Done !\n",
      "Moviepy - video ready /Users/dk/Documents/Academic/UT2023/CS395T_Fall/cs395t-final-project/gym-results/oracle/train/rl-video-episode-33.mp4\n",
      "Moviepy - Building video /Users/dk/Documents/Academic/UT2023/CS395T_Fall/cs395t-final-project/gym-results/oracle/train/rl-video-episode-34.mp4.\n",
      "Moviepy - Writing video /Users/dk/Documents/Academic/UT2023/CS395T_Fall/cs395t-final-project/gym-results/oracle/train/rl-video-episode-34.mp4\n",
      "\n"
     ]
    },
    {
     "name": "stderr",
     "output_type": "stream",
     "text": [
      "                                                                                                     \r"
     ]
    },
    {
     "name": "stdout",
     "output_type": "stream",
     "text": [
      "Moviepy - Done !\n",
      "Moviepy - video ready /Users/dk/Documents/Academic/UT2023/CS395T_Fall/cs395t-final-project/gym-results/oracle/train/rl-video-episode-34.mp4\n",
      "-----------------------------------------\n",
      "| rollout/                |             |\n",
      "|    ep_len_mean          | 462         |\n",
      "|    ep_rew_mean          | -462        |\n",
      "| time/                   |             |\n",
      "|    fps                  | 148         |\n",
      "|    iterations           | 8           |\n",
      "|    time_elapsed         | 110         |\n",
      "|    total_timesteps      | 16384       |\n",
      "| train/                  |             |\n",
      "|    approx_kl            | 0.008670125 |\n",
      "|    clip_fraction        | 0.104       |\n",
      "|    clip_range           | 0.2         |\n",
      "|    entropy_loss         | -1.05       |\n",
      "|    explained_variance   | 0.00981     |\n",
      "|    learning_rate        | 0.0003      |\n",
      "|    loss                 | 10.9        |\n",
      "|    n_updates            | 70          |\n",
      "|    policy_gradient_loss | -0.0107     |\n",
      "|    value_loss           | 65          |\n",
      "-----------------------------------------\n",
      "Moviepy - Building video /Users/dk/Documents/Academic/UT2023/CS395T_Fall/cs395t-final-project/gym-results/oracle/train/rl-video-episode-35.mp4.\n",
      "Moviepy - Writing video /Users/dk/Documents/Academic/UT2023/CS395T_Fall/cs395t-final-project/gym-results/oracle/train/rl-video-episode-35.mp4\n",
      "\n"
     ]
    },
    {
     "name": "stderr",
     "output_type": "stream",
     "text": [
      "                                                                                                     \r"
     ]
    },
    {
     "name": "stdout",
     "output_type": "stream",
     "text": [
      "Moviepy - Done !\n",
      "Moviepy - video ready /Users/dk/Documents/Academic/UT2023/CS395T_Fall/cs395t-final-project/gym-results/oracle/train/rl-video-episode-35.mp4\n"
     ]
    }
   ],
   "source": [
    "def wrap_around_video_recorder(env, folder):\n",
    "    return RecordVideo(\n",
    "        env, folder,\n",
    "        episode_trigger=(lambda episode_id: True),\n",
    "    )\n",
    "\n",
    "\n",
    "# Initialize video recording output directory\n",
    "output_folder = os.path.join(os.getcwd(), 'gym-results', 'oracle')\n",
    "os.makedirs(output_folder, exist_ok=True)\n",
    "\n",
    "train_output_folder = os.path.join(output_folder, 'train')\n",
    "shutil.rmtree(train_output_folder, ignore_errors=True)\n",
    "os.makedirs(train_output_folder, exist_ok=True)\n",
    "\n",
    "# Wrap around video recorder\n",
    "env = wrap_around_video_recorder(\n",
    "    env,\n",
    "    train_output_folder,\n",
    ")\n",
    "\n",
    "# Train a policy\n",
    "model = PPO(\"MlpPolicy\", env, verbose=1, seed=0).learn(total_timesteps=16384)\n",
    "env.close()\n",
    "model.save('my-model')"
   ]
  },
  {
   "cell_type": "markdown",
   "metadata": {},
   "source": [
    "We now generate oracle dataset using the trained policy model."
   ]
  },
  {
   "cell_type": "code",
   "execution_count": null,
   "metadata": {},
   "outputs": [],
   "source": [
    "# # Generate oracle data using the trained policy\n",
    "# test_output_folder = os.path.join(output_folder, 'test')\n",
    "# shutil.rmtree(test_output_folder, ignore_errors=True)\n",
    "# os.makedirs(test_output_folder, exist_ok=True)\n",
    "\n",
    "# env = wrap_around_video_recorder(\n",
    "#     get_env(),\n",
    "#     test_output_folder,\n",
    "# )\n",
    "\n",
    "# trajectories = []  # trajectories is a list of lists\n",
    "# seed = 1\n",
    "# trajectories.append([])\n",
    "# obs, info = env.reset(seed=seed)\n",
    "# T = 10000\n",
    "# for i in range(T):\n",
    "#     trajectories[-1].append(obs)\n",
    "#     action, _state = model.predict(obs, deterministic=True)\n",
    "#     trajectories[-1].append(action)\n",
    "#     obs, reward, done, truncated, info = env.step(action)\n",
    "#     trajectories[-1].append(reward)\n",
    "#     if done or truncated:\n",
    "#         if i + 1 == T:\n",
    "#             # will close outside the loop, no need to reset\n",
    "#             continue\n",
    "#         trajectories[-1].append(obs)\n",
    "#         seed += 1  # try a new seed\n",
    "#         trajectories.append([])\n",
    "#         obs, info = env.reset(seed=seed)\n",
    "# trajectories[-1].append(obs)\n",
    "# env.close()"
   ]
  },
  {
   "cell_type": "code",
   "execution_count": null,
   "metadata": {},
   "outputs": [],
   "source": [
    "# data_output_folder = os.path.join(output_folder, 'data')\n",
    "# shutil.rmtree(data_output_folder, ignore_errors=True)\n",
    "# os.makedirs(data_output_folder, exist_ok=True)\n",
    "\n",
    "# for e_idx, trajectory in enumerate(trajectories):\n",
    "#     assert len(trajectory) % 3 == 1\n",
    "#     states, actions, rewards = [], [], []\n",
    "#     for idx, elem in enumerate(trajectory):\n",
    "#         if idx % 3 == 0:    # state\n",
    "#             states.append(elem)\n",
    "#         elif idx % 3 == 1:  # action\n",
    "#             actions.append(elem)\n",
    "#         else:               # reward\n",
    "#             rewards.append(elem)\n",
    "#     data = {\n",
    "#         'states': np.stack(states),\n",
    "#         'actions': np.stack(actions),\n",
    "#         'rewards': np.array(rewards),\n",
    "#     }\n",
    "#     filename = f'episode-{e_idx}.npz'\n",
    "#     filepath = os.path.join(data_output_folder, filename)\n",
    "#     np.savez_compressed(filepath, **data)\n"
   ]
  },
  {
   "cell_type": "markdown",
   "metadata": {},
   "source": [
    "### Imitation Learning Using AIRL"
   ]
  },
  {
   "cell_type": "code",
   "execution_count": null,
   "metadata": {},
   "outputs": [],
   "source": [
    "# model.save('my-model')\n",
    "\n",
    "# from stable_baselines3.ppo import MlpPolicy\n",
    "# newmodel = PPO.load('my-model.zip')\n",
    "# type(newmodel)"
   ]
  },
  {
   "cell_type": "code",
   "execution_count": null,
   "metadata": {},
   "outputs": [],
   "source": [
    "from stable_baselines3.common.evaluation import evaluate_policy\n",
    "\n",
    "from imitation.algorithms.adversarial.airl import AIRL\n",
    "from imitation.data import rollout\n",
    "from imitation.data.wrappers import RolloutInfoWrapper\n",
    "from imitation.policies.serialize import load_policy\n",
    "from imitation.rewards.reward_nets import BasicShapedRewardNet\n",
    "from imitation.util.networks import RunningNorm\n",
    "from imitation.util.util import make_vec_env"
   ]
  },
  {
   "cell_type": "code",
   "execution_count": null,
   "metadata": {},
   "outputs": [],
   "source": [
    "SEED = 42"
   ]
  },
  {
   "cell_type": "code",
   "execution_count": null,
   "metadata": {},
   "outputs": [],
   "source": [
    "env = make_vec_env(\n",
    "    \"Acrobot-v1\",\n",
    "    rng=np.random.default_rng(SEED),\n",
    "    n_envs=8,\n",
    "    post_wrappers=[\n",
    "        # FixEpisodeLength,\n",
    "        lambda env, _: RolloutInfoWrapper(env),  # to compute rollouts\n",
    "    ],\n",
    ")"
   ]
  },
  {
   "cell_type": "code",
   "execution_count": null,
   "metadata": {},
   "outputs": [],
   "source": [
    "expert = model.policy\n",
    "expert"
   ]
  },
  {
   "cell_type": "code",
   "execution_count": null,
   "metadata": {},
   "outputs": [],
   "source": [
    "rollouts = rollout.rollout(\n",
    "    expert,\n",
    "    env,\n",
    "    rollout.make_sample_until(min_episodes=60),\n",
    "    rng=np.random.default_rng(SEED),\n",
    ")"
   ]
  },
  {
   "cell_type": "code",
   "execution_count": null,
   "metadata": {},
   "outputs": [],
   "source": [
    "learner = PPO(\n",
    "    env=env,\n",
    "    policy=\"MlpPolicy\",\n",
    "    batch_size=64,\n",
    "    ent_coef=0.0,\n",
    "    learning_rate=0.0005,\n",
    "    gamma=0.95,\n",
    "    clip_range=0.1,\n",
    "    vf_coef=0.1,\n",
    "    n_epochs=5,\n",
    "    seed=SEED,\n",
    ")\n",
    "#same as PPO2\n",
    "#multi agent learning, parallelism: https://stable-baselines.readthedocs.io/en/master/guide/vec_envs.html"
   ]
  },
  {
   "cell_type": "code",
   "execution_count": null,
   "metadata": {},
   "outputs": [],
   "source": [
    "reward_net = BasicShapedRewardNet(\n",
    "    observation_space=env.observation_space,\n",
    "    action_space=env.action_space,\n",
    "    normalize_input_layer=RunningNorm,\n",
    ")"
   ]
  },
  {
   "cell_type": "code",
   "execution_count": null,
   "metadata": {},
   "outputs": [],
   "source": [
    "airl_trainer = AIRL(\n",
    "    demonstrations=rollouts,\n",
    "    demo_batch_size=2048,\n",
    "    gen_replay_buffer_capacity=512,\n",
    "    n_disc_updates_per_round=16,\n",
    "    venv=env,\n",
    "    gen_algo=learner,\n",
    "    reward_net=reward_net,\n",
    "    allow_variable_horizon=True,  # TODO: Implement FixEpisodeLength() wrapper and disable this\n",
    ")"
   ]
  },
  {
   "cell_type": "code",
   "execution_count": null,
   "metadata": {},
   "outputs": [],
   "source": [
    "env.seed(SEED)\n",
    "learner_rewards_before_training, _ = evaluate_policy(\n",
    "    learner, env, 100, return_episode_rewards=True,\n",
    ")\n"
   ]
  },
  {
   "cell_type": "code",
   "execution_count": null,
   "metadata": {},
   "outputs": [],
   "source": [
    "airl_trainer.train(20000)  # Train for 2_000_000 steps to match expert.\n",
    "env.seed(SEED)\n",
    "learner_rewards_after_training, _ = evaluate_policy(\n",
    "    learner, env, 100, return_episode_rewards=True,\n",
    ")\n",
    "#check if evaluate policy has option  has option deterministic=True\n"
   ]
  },
  {
   "cell_type": "code",
   "execution_count": null,
   "metadata": {},
   "outputs": [],
   "source": [
    "print(\"mean reward after training:\", np.mean(learner_rewards_after_training))\n",
    "print(\"mean reward before training:\", np.mean(learner_rewards_before_training))"
   ]
  },
  {
   "cell_type": "code",
   "execution_count": null,
   "metadata": {},
   "outputs": [],
   "source": [
    "#EvalCallback for time series of learning curve\n",
    "#RL evaluation source: https://arxiv.org/abs/1709.06560"
   ]
  },
  {
   "cell_type": "code",
   "execution_count": null,
   "metadata": {},
   "outputs": [],
   "source": []
  }
 ],
 "metadata": {
  "kernelspec": {
   "display_name": "Python 3 (ipykernel)",
   "language": "python",
   "name": "python3"
  },
  "language_info": {
   "codemirror_mode": {
    "name": "ipython",
    "version": 3
   },
   "file_extension": ".py",
   "mimetype": "text/x-python",
   "name": "python",
   "nbconvert_exporter": "python",
   "pygments_lexer": "ipython3",
   "version": "3.11.5"
  }
 },
 "nbformat": 4,
 "nbformat_minor": 4
}
