{
 "cells": [
  {
   "cell_type": "code",
   "execution_count": 1,
   "metadata": {},
   "outputs": [
    {
     "name": "stderr",
     "output_type": "stream",
     "text": [
      "2023-12-11 15:31:30.918093: I tensorflow/core/platform/cpu_feature_guard.cc:182] This TensorFlow binary is optimized to use available CPU instructions in performance-critical operations.\n",
      "To enable the following instructions: AVX2 FMA, in other operations, rebuild TensorFlow with the appropriate compiler flags.\n"
     ]
    }
   ],
   "source": [
    "import os\n",
    "import shutil\n",
    "from functools import partial\n",
    "\n",
    "import numpy as np\n",
    "import gymnasium as gym\n",
    "from gymnasium import Wrapper, Env\n",
    "from gymnasium.wrappers import RecordVideo, TimeLimit\n",
    "from stable_baselines3 import PPO\n",
    "from seals.util import AbsorbAfterDoneWrapper"
   ]
  },
  {
   "cell_type": "code",
   "execution_count": 2,
   "metadata": {},
   "outputs": [],
   "source": [
    "env = gym.make(\"Acrobot-v1\", render_mode=\"rgb_array\")\n",
    "env = TimeLimit(AbsorbAfterDoneWrapper(env), max_episode_steps=512)"
   ]
  },
  {
   "cell_type": "code",
   "execution_count": 3,
   "metadata": {},
   "outputs": [
    {
     "name": "stderr",
     "output_type": "stream",
     "text": [
      "/Users/jsukpk/Workstation/CSEM/cs395t-final-project/.env/lib/python3.10/site-packages/gymnasium/wrappers/record_video.py:94: UserWarning: \u001b[33mWARN: Overwriting existing videos at /Users/jsukpk/Workstation/CSEM/cs395t-final-project/gym-results/oracle/train folder (try specifying a different `video_folder` for the `RecordVideo` wrapper if this is not desired)\u001b[0m\n",
      "  logger.warn(\n"
     ]
    },
    {
     "name": "stdout",
     "output_type": "stream",
     "text": [
      "Using cpu device\n",
      "Wrapping the env with a `Monitor` wrapper\n",
      "Wrapping the env in a DummyVecEnv.\n",
      "Moviepy - Building video /Users/jsukpk/Workstation/CSEM/cs395t-final-project/gym-results/oracle/train/rl-video-episode-0.mp4.\n",
      "Moviepy - Writing video /Users/jsukpk/Workstation/CSEM/cs395t-final-project/gym-results/oracle/train/rl-video-episode-0.mp4\n",
      "\n"
     ]
    },
    {
     "name": "stderr",
     "output_type": "stream",
     "text": [
      "                                                               \r"
     ]
    },
    {
     "name": "stdout",
     "output_type": "stream",
     "text": [
      "Moviepy - Done !\n",
      "Moviepy - video ready /Users/jsukpk/Workstation/CSEM/cs395t-final-project/gym-results/oracle/train/rl-video-episode-0.mp4\n",
      "Moviepy - Building video /Users/jsukpk/Workstation/CSEM/cs395t-final-project/gym-results/oracle/train/rl-video-episode-1.mp4.\n",
      "Moviepy - Writing video /Users/jsukpk/Workstation/CSEM/cs395t-final-project/gym-results/oracle/train/rl-video-episode-1.mp4\n",
      "\n"
     ]
    },
    {
     "name": "stderr",
     "output_type": "stream",
     "text": [
      "                                                               \r"
     ]
    },
    {
     "name": "stdout",
     "output_type": "stream",
     "text": [
      "Moviepy - Done !\n",
      "Moviepy - video ready /Users/jsukpk/Workstation/CSEM/cs395t-final-project/gym-results/oracle/train/rl-video-episode-1.mp4\n",
      "Moviepy - Building video /Users/jsukpk/Workstation/CSEM/cs395t-final-project/gym-results/oracle/train/rl-video-episode-2.mp4.\n",
      "Moviepy - Writing video /Users/jsukpk/Workstation/CSEM/cs395t-final-project/gym-results/oracle/train/rl-video-episode-2.mp4\n",
      "\n"
     ]
    },
    {
     "name": "stderr",
     "output_type": "stream",
     "text": [
      "                                                               \r"
     ]
    },
    {
     "name": "stdout",
     "output_type": "stream",
     "text": [
      "Moviepy - Done !\n",
      "Moviepy - video ready /Users/jsukpk/Workstation/CSEM/cs395t-final-project/gym-results/oracle/train/rl-video-episode-2.mp4\n",
      "Moviepy - Building video /Users/jsukpk/Workstation/CSEM/cs395t-final-project/gym-results/oracle/train/rl-video-episode-3.mp4.\n",
      "Moviepy - Writing video /Users/jsukpk/Workstation/CSEM/cs395t-final-project/gym-results/oracle/train/rl-video-episode-3.mp4\n",
      "\n"
     ]
    },
    {
     "name": "stderr",
     "output_type": "stream",
     "text": [
      "                                                               \r"
     ]
    },
    {
     "name": "stdout",
     "output_type": "stream",
     "text": [
      "Moviepy - Done !\n",
      "Moviepy - video ready /Users/jsukpk/Workstation/CSEM/cs395t-final-project/gym-results/oracle/train/rl-video-episode-3.mp4\n",
      "---------------------------------\n",
      "| rollout/           |          |\n",
      "|    ep_len_mean     | 512      |\n",
      "|    ep_rew_mean     | -471     |\n",
      "| time/              |          |\n",
      "|    fps             | 95       |\n",
      "|    iterations      | 1        |\n",
      "|    time_elapsed    | 21       |\n",
      "|    total_timesteps | 2048     |\n",
      "---------------------------------\n",
      "Moviepy - Building video /Users/jsukpk/Workstation/CSEM/cs395t-final-project/gym-results/oracle/train/rl-video-episode-4.mp4.\n",
      "Moviepy - Writing video /Users/jsukpk/Workstation/CSEM/cs395t-final-project/gym-results/oracle/train/rl-video-episode-4.mp4\n",
      "\n"
     ]
    },
    {
     "name": "stderr",
     "output_type": "stream",
     "text": [
      "                                                               \r"
     ]
    },
    {
     "name": "stdout",
     "output_type": "stream",
     "text": [
      "Moviepy - Done !\n",
      "Moviepy - video ready /Users/jsukpk/Workstation/CSEM/cs395t-final-project/gym-results/oracle/train/rl-video-episode-4.mp4\n",
      "Moviepy - Building video /Users/jsukpk/Workstation/CSEM/cs395t-final-project/gym-results/oracle/train/rl-video-episode-5.mp4.\n",
      "Moviepy - Writing video /Users/jsukpk/Workstation/CSEM/cs395t-final-project/gym-results/oracle/train/rl-video-episode-5.mp4\n",
      "\n"
     ]
    },
    {
     "name": "stderr",
     "output_type": "stream",
     "text": [
      "                                                               \r"
     ]
    },
    {
     "name": "stdout",
     "output_type": "stream",
     "text": [
      "Moviepy - Done !\n",
      "Moviepy - video ready /Users/jsukpk/Workstation/CSEM/cs395t-final-project/gym-results/oracle/train/rl-video-episode-5.mp4\n",
      "Moviepy - Building video /Users/jsukpk/Workstation/CSEM/cs395t-final-project/gym-results/oracle/train/rl-video-episode-6.mp4.\n",
      "Moviepy - Writing video /Users/jsukpk/Workstation/CSEM/cs395t-final-project/gym-results/oracle/train/rl-video-episode-6.mp4\n",
      "\n"
     ]
    },
    {
     "name": "stderr",
     "output_type": "stream",
     "text": [
      "                                                               \r"
     ]
    },
    {
     "name": "stdout",
     "output_type": "stream",
     "text": [
      "Moviepy - Done !\n",
      "Moviepy - video ready /Users/jsukpk/Workstation/CSEM/cs395t-final-project/gym-results/oracle/train/rl-video-episode-6.mp4\n",
      "Moviepy - Building video /Users/jsukpk/Workstation/CSEM/cs395t-final-project/gym-results/oracle/train/rl-video-episode-7.mp4.\n",
      "Moviepy - Writing video /Users/jsukpk/Workstation/CSEM/cs395t-final-project/gym-results/oracle/train/rl-video-episode-7.mp4\n",
      "\n"
     ]
    },
    {
     "name": "stderr",
     "output_type": "stream",
     "text": [
      "                                                               \r"
     ]
    },
    {
     "name": "stdout",
     "output_type": "stream",
     "text": [
      "Moviepy - Done !\n",
      "Moviepy - video ready /Users/jsukpk/Workstation/CSEM/cs395t-final-project/gym-results/oracle/train/rl-video-episode-7.mp4\n",
      "-----------------------------------------\n",
      "| rollout/                |             |\n",
      "|    ep_len_mean          | 512         |\n",
      "|    ep_rew_mean          | -486        |\n",
      "| time/                   |             |\n",
      "|    fps                  | 80          |\n",
      "|    iterations           | 2           |\n",
      "|    time_elapsed         | 51          |\n",
      "|    total_timesteps      | 4096        |\n",
      "| train/                  |             |\n",
      "|    approx_kl            | 0.008708655 |\n",
      "|    clip_fraction        | 0.043       |\n",
      "|    clip_range           | 0.2         |\n",
      "|    entropy_loss         | -1.09       |\n",
      "|    explained_variance   | -0.035      |\n",
      "|    learning_rate        | 0.0003      |\n",
      "|    loss                 | 20.8        |\n",
      "|    n_updates            | 10          |\n",
      "|    policy_gradient_loss | -0.00466    |\n",
      "|    value_loss           | 142         |\n",
      "-----------------------------------------\n",
      "Moviepy - Building video /Users/jsukpk/Workstation/CSEM/cs395t-final-project/gym-results/oracle/train/rl-video-episode-8.mp4.\n",
      "Moviepy - Writing video /Users/jsukpk/Workstation/CSEM/cs395t-final-project/gym-results/oracle/train/rl-video-episode-8.mp4\n",
      "\n"
     ]
    },
    {
     "name": "stderr",
     "output_type": "stream",
     "text": [
      "                                                               \r"
     ]
    },
    {
     "name": "stdout",
     "output_type": "stream",
     "text": [
      "Moviepy - Done !\n",
      "Moviepy - video ready /Users/jsukpk/Workstation/CSEM/cs395t-final-project/gym-results/oracle/train/rl-video-episode-8.mp4\n",
      "Moviepy - Building video /Users/jsukpk/Workstation/CSEM/cs395t-final-project/gym-results/oracle/train/rl-video-episode-9.mp4.\n",
      "Moviepy - Writing video /Users/jsukpk/Workstation/CSEM/cs395t-final-project/gym-results/oracle/train/rl-video-episode-9.mp4\n",
      "\n"
     ]
    },
    {
     "name": "stderr",
     "output_type": "stream",
     "text": [
      "                                                               \r"
     ]
    },
    {
     "name": "stdout",
     "output_type": "stream",
     "text": [
      "Moviepy - Done !\n",
      "Moviepy - video ready /Users/jsukpk/Workstation/CSEM/cs395t-final-project/gym-results/oracle/train/rl-video-episode-9.mp4\n",
      "Moviepy - Building video /Users/jsukpk/Workstation/CSEM/cs395t-final-project/gym-results/oracle/train/rl-video-episode-10.mp4.\n",
      "Moviepy - Writing video /Users/jsukpk/Workstation/CSEM/cs395t-final-project/gym-results/oracle/train/rl-video-episode-10.mp4\n",
      "\n"
     ]
    },
    {
     "name": "stderr",
     "output_type": "stream",
     "text": [
      "                                                               \r"
     ]
    },
    {
     "name": "stdout",
     "output_type": "stream",
     "text": [
      "Moviepy - Done !\n",
      "Moviepy - video ready /Users/jsukpk/Workstation/CSEM/cs395t-final-project/gym-results/oracle/train/rl-video-episode-10.mp4\n",
      "Moviepy - Building video /Users/jsukpk/Workstation/CSEM/cs395t-final-project/gym-results/oracle/train/rl-video-episode-11.mp4.\n",
      "Moviepy - Writing video /Users/jsukpk/Workstation/CSEM/cs395t-final-project/gym-results/oracle/train/rl-video-episode-11.mp4\n",
      "\n"
     ]
    },
    {
     "name": "stderr",
     "output_type": "stream",
     "text": [
      "                                                               "
     ]
    },
    {
     "name": "stdout",
     "output_type": "stream",
     "text": [
      "Moviepy - Done !\n",
      "Moviepy - video ready /Users/jsukpk/Workstation/CSEM/cs395t-final-project/gym-results/oracle/train/rl-video-episode-11.mp4\n",
      "-----------------------------------------\n",
      "| rollout/                |             |\n",
      "|    ep_len_mean          | 512         |\n",
      "|    ep_rew_mean          | -435        |\n",
      "| time/                   |             |\n",
      "|    fps                  | 87          |\n",
      "|    iterations           | 3           |\n",
      "|    time_elapsed         | 70          |\n",
      "|    total_timesteps      | 6144        |\n",
      "| train/                  |             |\n",
      "|    approx_kl            | 0.009627201 |\n",
      "|    clip_fraction        | 0.075       |\n",
      "|    clip_range           | 0.2         |\n",
      "|    entropy_loss         | -1.08       |\n",
      "|    explained_variance   | 0.2         |\n",
      "|    learning_rate        | 0.0003      |\n",
      "|    loss                 | 25          |\n",
      "|    n_updates            | 20          |\n",
      "|    policy_gradient_loss | -0.0044     |\n",
      "|    value_loss           | 110         |\n",
      "-----------------------------------------\n"
     ]
    },
    {
     "name": "stderr",
     "output_type": "stream",
     "text": [
      "\r"
     ]
    },
    {
     "name": "stdout",
     "output_type": "stream",
     "text": [
      "Moviepy - Building video /Users/jsukpk/Workstation/CSEM/cs395t-final-project/gym-results/oracle/train/rl-video-episode-12.mp4.\n",
      "Moviepy - Writing video /Users/jsukpk/Workstation/CSEM/cs395t-final-project/gym-results/oracle/train/rl-video-episode-12.mp4\n",
      "\n"
     ]
    },
    {
     "name": "stderr",
     "output_type": "stream",
     "text": [
      "                                                               \r"
     ]
    },
    {
     "name": "stdout",
     "output_type": "stream",
     "text": [
      "Moviepy - Done !\n",
      "Moviepy - video ready /Users/jsukpk/Workstation/CSEM/cs395t-final-project/gym-results/oracle/train/rl-video-episode-12.mp4\n",
      "Moviepy - Building video /Users/jsukpk/Workstation/CSEM/cs395t-final-project/gym-results/oracle/train/rl-video-episode-13.mp4.\n",
      "Moviepy - Writing video /Users/jsukpk/Workstation/CSEM/cs395t-final-project/gym-results/oracle/train/rl-video-episode-13.mp4\n",
      "\n"
     ]
    },
    {
     "name": "stderr",
     "output_type": "stream",
     "text": [
      "                                                               \r"
     ]
    },
    {
     "name": "stdout",
     "output_type": "stream",
     "text": [
      "Moviepy - Done !\n",
      "Moviepy - video ready /Users/jsukpk/Workstation/CSEM/cs395t-final-project/gym-results/oracle/train/rl-video-episode-13.mp4\n",
      "Moviepy - Building video /Users/jsukpk/Workstation/CSEM/cs395t-final-project/gym-results/oracle/train/rl-video-episode-14.mp4.\n",
      "Moviepy - Writing video /Users/jsukpk/Workstation/CSEM/cs395t-final-project/gym-results/oracle/train/rl-video-episode-14.mp4\n",
      "\n"
     ]
    },
    {
     "name": "stderr",
     "output_type": "stream",
     "text": [
      "                                                               \r"
     ]
    },
    {
     "name": "stdout",
     "output_type": "stream",
     "text": [
      "Moviepy - Done !\n",
      "Moviepy - video ready /Users/jsukpk/Workstation/CSEM/cs395t-final-project/gym-results/oracle/train/rl-video-episode-14.mp4\n",
      "Moviepy - Building video /Users/jsukpk/Workstation/CSEM/cs395t-final-project/gym-results/oracle/train/rl-video-episode-15.mp4.\n",
      "Moviepy - Writing video /Users/jsukpk/Workstation/CSEM/cs395t-final-project/gym-results/oracle/train/rl-video-episode-15.mp4\n",
      "\n"
     ]
    },
    {
     "name": "stderr",
     "output_type": "stream",
     "text": [
      "                                                               \r"
     ]
    },
    {
     "name": "stdout",
     "output_type": "stream",
     "text": [
      "Moviepy - Done !\n",
      "Moviepy - video ready /Users/jsukpk/Workstation/CSEM/cs395t-final-project/gym-results/oracle/train/rl-video-episode-15.mp4\n",
      "------------------------------------------\n",
      "| rollout/                |              |\n",
      "|    ep_len_mean          | 512          |\n",
      "|    ep_rew_mean          | -391         |\n",
      "| time/                   |              |\n",
      "|    fps                  | 90           |\n",
      "|    iterations           | 4            |\n",
      "|    time_elapsed         | 90           |\n",
      "|    total_timesteps      | 8192         |\n",
      "| train/                  |              |\n",
      "|    approx_kl            | 0.0091726165 |\n",
      "|    clip_fraction        | 0.0476       |\n",
      "|    clip_range           | 0.2          |\n",
      "|    entropy_loss         | -1.07        |\n",
      "|    explained_variance   | 0.368        |\n",
      "|    learning_rate        | 0.0003       |\n",
      "|    loss                 | 15.4         |\n",
      "|    n_updates            | 30           |\n",
      "|    policy_gradient_loss | -0.00548     |\n",
      "|    value_loss           | 67.4         |\n",
      "------------------------------------------\n",
      "Moviepy - Building video /Users/jsukpk/Workstation/CSEM/cs395t-final-project/gym-results/oracle/train/rl-video-episode-16.mp4.\n",
      "Moviepy - Writing video /Users/jsukpk/Workstation/CSEM/cs395t-final-project/gym-results/oracle/train/rl-video-episode-16.mp4\n",
      "\n"
     ]
    },
    {
     "name": "stderr",
     "output_type": "stream",
     "text": [
      "                                                               \r"
     ]
    },
    {
     "name": "stdout",
     "output_type": "stream",
     "text": [
      "Moviepy - Done !\n",
      "Moviepy - video ready /Users/jsukpk/Workstation/CSEM/cs395t-final-project/gym-results/oracle/train/rl-video-episode-16.mp4\n",
      "Moviepy - Building video /Users/jsukpk/Workstation/CSEM/cs395t-final-project/gym-results/oracle/train/rl-video-episode-17.mp4.\n",
      "Moviepy - Writing video /Users/jsukpk/Workstation/CSEM/cs395t-final-project/gym-results/oracle/train/rl-video-episode-17.mp4\n",
      "\n"
     ]
    },
    {
     "name": "stderr",
     "output_type": "stream",
     "text": [
      "                                                               \r"
     ]
    },
    {
     "name": "stdout",
     "output_type": "stream",
     "text": [
      "Moviepy - Done !\n",
      "Moviepy - video ready /Users/jsukpk/Workstation/CSEM/cs395t-final-project/gym-results/oracle/train/rl-video-episode-17.mp4\n",
      "Moviepy - Building video /Users/jsukpk/Workstation/CSEM/cs395t-final-project/gym-results/oracle/train/rl-video-episode-18.mp4.\n",
      "Moviepy - Writing video /Users/jsukpk/Workstation/CSEM/cs395t-final-project/gym-results/oracle/train/rl-video-episode-18.mp4\n",
      "\n"
     ]
    },
    {
     "name": "stderr",
     "output_type": "stream",
     "text": [
      "                                                               \r"
     ]
    },
    {
     "name": "stdout",
     "output_type": "stream",
     "text": [
      "Moviepy - Done !\n",
      "Moviepy - video ready /Users/jsukpk/Workstation/CSEM/cs395t-final-project/gym-results/oracle/train/rl-video-episode-18.mp4\n",
      "Moviepy - Building video /Users/jsukpk/Workstation/CSEM/cs395t-final-project/gym-results/oracle/train/rl-video-episode-19.mp4.\n",
      "Moviepy - Writing video /Users/jsukpk/Workstation/CSEM/cs395t-final-project/gym-results/oracle/train/rl-video-episode-19.mp4\n",
      "\n"
     ]
    },
    {
     "name": "stderr",
     "output_type": "stream",
     "text": [
      "                                                               \r"
     ]
    },
    {
     "name": "stdout",
     "output_type": "stream",
     "text": [
      "Moviepy - Done !\n",
      "Moviepy - video ready /Users/jsukpk/Workstation/CSEM/cs395t-final-project/gym-results/oracle/train/rl-video-episode-19.mp4\n",
      "----------------------------------------\n",
      "| rollout/                |            |\n",
      "|    ep_len_mean          | 512        |\n",
      "|    ep_rew_mean          | -369       |\n",
      "| time/                   |            |\n",
      "|    fps                  | 91         |\n",
      "|    iterations           | 5          |\n",
      "|    time_elapsed         | 111        |\n",
      "|    total_timesteps      | 10240      |\n",
      "| train/                  |            |\n",
      "|    approx_kl            | 0.00712494 |\n",
      "|    clip_fraction        | 0.0458     |\n",
      "|    clip_range           | 0.2        |\n",
      "|    entropy_loss         | -1.04      |\n",
      "|    explained_variance   | 0.827      |\n",
      "|    learning_rate        | 0.0003     |\n",
      "|    loss                 | 22         |\n",
      "|    n_updates            | 40         |\n",
      "|    policy_gradient_loss | -0.00383   |\n",
      "|    value_loss           | 44.4       |\n",
      "----------------------------------------\n",
      "Moviepy - Building video /Users/jsukpk/Workstation/CSEM/cs395t-final-project/gym-results/oracle/train/rl-video-episode-20.mp4.\n",
      "Moviepy - Writing video /Users/jsukpk/Workstation/CSEM/cs395t-final-project/gym-results/oracle/train/rl-video-episode-20.mp4\n",
      "\n"
     ]
    },
    {
     "name": "stderr",
     "output_type": "stream",
     "text": [
      "                                                               \r"
     ]
    },
    {
     "name": "stdout",
     "output_type": "stream",
     "text": [
      "Moviepy - Done !\n",
      "Moviepy - video ready /Users/jsukpk/Workstation/CSEM/cs395t-final-project/gym-results/oracle/train/rl-video-episode-20.mp4\n",
      "Moviepy - Building video /Users/jsukpk/Workstation/CSEM/cs395t-final-project/gym-results/oracle/train/rl-video-episode-21.mp4.\n",
      "Moviepy - Writing video /Users/jsukpk/Workstation/CSEM/cs395t-final-project/gym-results/oracle/train/rl-video-episode-21.mp4\n",
      "\n"
     ]
    },
    {
     "name": "stderr",
     "output_type": "stream",
     "text": [
      "                                                               \r"
     ]
    },
    {
     "name": "stdout",
     "output_type": "stream",
     "text": [
      "Moviepy - Done !\n",
      "Moviepy - video ready /Users/jsukpk/Workstation/CSEM/cs395t-final-project/gym-results/oracle/train/rl-video-episode-21.mp4\n",
      "Moviepy - Building video /Users/jsukpk/Workstation/CSEM/cs395t-final-project/gym-results/oracle/train/rl-video-episode-22.mp4.\n",
      "Moviepy - Writing video /Users/jsukpk/Workstation/CSEM/cs395t-final-project/gym-results/oracle/train/rl-video-episode-22.mp4\n",
      "\n"
     ]
    },
    {
     "name": "stderr",
     "output_type": "stream",
     "text": [
      "                                                               \r"
     ]
    },
    {
     "name": "stdout",
     "output_type": "stream",
     "text": [
      "Moviepy - Done !\n",
      "Moviepy - video ready /Users/jsukpk/Workstation/CSEM/cs395t-final-project/gym-results/oracle/train/rl-video-episode-22.mp4\n",
      "Moviepy - Building video /Users/jsukpk/Workstation/CSEM/cs395t-final-project/gym-results/oracle/train/rl-video-episode-23.mp4.\n",
      "Moviepy - Writing video /Users/jsukpk/Workstation/CSEM/cs395t-final-project/gym-results/oracle/train/rl-video-episode-23.mp4\n",
      "\n"
     ]
    },
    {
     "name": "stderr",
     "output_type": "stream",
     "text": [
      "                                                               \r"
     ]
    },
    {
     "name": "stdout",
     "output_type": "stream",
     "text": [
      "Moviepy - Done !\n",
      "Moviepy - video ready /Users/jsukpk/Workstation/CSEM/cs395t-final-project/gym-results/oracle/train/rl-video-episode-23.mp4\n",
      "-----------------------------------------\n",
      "| rollout/                |             |\n",
      "|    ep_len_mean          | 512         |\n",
      "|    ep_rew_mean          | -352        |\n",
      "| time/                   |             |\n",
      "|    fps                  | 93          |\n",
      "|    iterations           | 6           |\n",
      "|    time_elapsed         | 131         |\n",
      "|    total_timesteps      | 12288       |\n",
      "| train/                  |             |\n",
      "|    approx_kl            | 0.009557413 |\n",
      "|    clip_fraction        | 0.0552      |\n",
      "|    clip_range           | 0.2         |\n",
      "|    entropy_loss         | -1.01       |\n",
      "|    explained_variance   | 0.81        |\n",
      "|    learning_rate        | 0.0003      |\n",
      "|    loss                 | 5.78        |\n",
      "|    n_updates            | 50          |\n",
      "|    policy_gradient_loss | -0.00706    |\n",
      "|    value_loss           | 38.5        |\n",
      "-----------------------------------------\n",
      "Moviepy - Building video /Users/jsukpk/Workstation/CSEM/cs395t-final-project/gym-results/oracle/train/rl-video-episode-24.mp4.\n",
      "Moviepy - Writing video /Users/jsukpk/Workstation/CSEM/cs395t-final-project/gym-results/oracle/train/rl-video-episode-24.mp4\n",
      "\n"
     ]
    },
    {
     "name": "stderr",
     "output_type": "stream",
     "text": [
      "                                                               \r"
     ]
    },
    {
     "name": "stdout",
     "output_type": "stream",
     "text": [
      "Moviepy - Done !\n",
      "Moviepy - video ready /Users/jsukpk/Workstation/CSEM/cs395t-final-project/gym-results/oracle/train/rl-video-episode-24.mp4\n",
      "Moviepy - Building video /Users/jsukpk/Workstation/CSEM/cs395t-final-project/gym-results/oracle/train/rl-video-episode-25.mp4.\n",
      "Moviepy - Writing video /Users/jsukpk/Workstation/CSEM/cs395t-final-project/gym-results/oracle/train/rl-video-episode-25.mp4\n",
      "\n"
     ]
    },
    {
     "name": "stderr",
     "output_type": "stream",
     "text": [
      "                                                               \r"
     ]
    },
    {
     "name": "stdout",
     "output_type": "stream",
     "text": [
      "Moviepy - Done !\n",
      "Moviepy - video ready /Users/jsukpk/Workstation/CSEM/cs395t-final-project/gym-results/oracle/train/rl-video-episode-25.mp4\n",
      "Moviepy - Building video /Users/jsukpk/Workstation/CSEM/cs395t-final-project/gym-results/oracle/train/rl-video-episode-26.mp4.\n",
      "Moviepy - Writing video /Users/jsukpk/Workstation/CSEM/cs395t-final-project/gym-results/oracle/train/rl-video-episode-26.mp4\n",
      "\n"
     ]
    },
    {
     "name": "stderr",
     "output_type": "stream",
     "text": [
      "                                                               \r"
     ]
    },
    {
     "name": "stdout",
     "output_type": "stream",
     "text": [
      "Moviepy - Done !\n",
      "Moviepy - video ready /Users/jsukpk/Workstation/CSEM/cs395t-final-project/gym-results/oracle/train/rl-video-episode-26.mp4\n",
      "Moviepy - Building video /Users/jsukpk/Workstation/CSEM/cs395t-final-project/gym-results/oracle/train/rl-video-episode-27.mp4.\n",
      "Moviepy - Writing video /Users/jsukpk/Workstation/CSEM/cs395t-final-project/gym-results/oracle/train/rl-video-episode-27.mp4\n",
      "\n"
     ]
    },
    {
     "name": "stderr",
     "output_type": "stream",
     "text": [
      "                                                               \r"
     ]
    },
    {
     "name": "stdout",
     "output_type": "stream",
     "text": [
      "Moviepy - Done !\n",
      "Moviepy - video ready /Users/jsukpk/Workstation/CSEM/cs395t-final-project/gym-results/oracle/train/rl-video-episode-27.mp4\n",
      "-----------------------------------------\n",
      "| rollout/                |             |\n",
      "|    ep_len_mean          | 512         |\n",
      "|    ep_rew_mean          | -335        |\n",
      "| time/                   |             |\n",
      "|    fps                  | 94          |\n",
      "|    iterations           | 7           |\n",
      "|    time_elapsed         | 151         |\n",
      "|    total_timesteps      | 14336       |\n",
      "| train/                  |             |\n",
      "|    approx_kl            | 0.008196017 |\n",
      "|    clip_fraction        | 0.0519      |\n",
      "|    clip_range           | 0.2         |\n",
      "|    entropy_loss         | -0.969      |\n",
      "|    explained_variance   | 0.863       |\n",
      "|    learning_rate        | 0.0003      |\n",
      "|    loss                 | 9.69        |\n",
      "|    n_updates            | 60          |\n",
      "|    policy_gradient_loss | -0.00489    |\n",
      "|    value_loss           | 35.9        |\n",
      "-----------------------------------------\n",
      "Moviepy - Building video /Users/jsukpk/Workstation/CSEM/cs395t-final-project/gym-results/oracle/train/rl-video-episode-28.mp4.\n",
      "Moviepy - Writing video /Users/jsukpk/Workstation/CSEM/cs395t-final-project/gym-results/oracle/train/rl-video-episode-28.mp4\n",
      "\n"
     ]
    },
    {
     "name": "stderr",
     "output_type": "stream",
     "text": [
      "                                                               \r"
     ]
    },
    {
     "name": "stdout",
     "output_type": "stream",
     "text": [
      "Moviepy - Done !\n",
      "Moviepy - video ready /Users/jsukpk/Workstation/CSEM/cs395t-final-project/gym-results/oracle/train/rl-video-episode-28.mp4\n",
      "Moviepy - Building video /Users/jsukpk/Workstation/CSEM/cs395t-final-project/gym-results/oracle/train/rl-video-episode-29.mp4.\n",
      "Moviepy - Writing video /Users/jsukpk/Workstation/CSEM/cs395t-final-project/gym-results/oracle/train/rl-video-episode-29.mp4\n",
      "\n"
     ]
    },
    {
     "name": "stderr",
     "output_type": "stream",
     "text": [
      "                                                               \r"
     ]
    },
    {
     "name": "stdout",
     "output_type": "stream",
     "text": [
      "Moviepy - Done !\n",
      "Moviepy - video ready /Users/jsukpk/Workstation/CSEM/cs395t-final-project/gym-results/oracle/train/rl-video-episode-29.mp4\n",
      "Moviepy - Building video /Users/jsukpk/Workstation/CSEM/cs395t-final-project/gym-results/oracle/train/rl-video-episode-30.mp4.\n",
      "Moviepy - Writing video /Users/jsukpk/Workstation/CSEM/cs395t-final-project/gym-results/oracle/train/rl-video-episode-30.mp4\n",
      "\n"
     ]
    },
    {
     "name": "stderr",
     "output_type": "stream",
     "text": [
      "                                                               \r"
     ]
    },
    {
     "name": "stdout",
     "output_type": "stream",
     "text": [
      "Moviepy - Done !\n",
      "Moviepy - video ready /Users/jsukpk/Workstation/CSEM/cs395t-final-project/gym-results/oracle/train/rl-video-episode-30.mp4\n",
      "Moviepy - Building video /Users/jsukpk/Workstation/CSEM/cs395t-final-project/gym-results/oracle/train/rl-video-episode-31.mp4.\n",
      "Moviepy - Writing video /Users/jsukpk/Workstation/CSEM/cs395t-final-project/gym-results/oracle/train/rl-video-episode-31.mp4\n",
      "\n"
     ]
    },
    {
     "name": "stderr",
     "output_type": "stream",
     "text": [
      "                                                               "
     ]
    },
    {
     "name": "stdout",
     "output_type": "stream",
     "text": [
      "Moviepy - Done !\n",
      "Moviepy - video ready /Users/jsukpk/Workstation/CSEM/cs395t-final-project/gym-results/oracle/train/rl-video-episode-31.mp4\n",
      "-----------------------------------------\n",
      "| rollout/                |             |\n",
      "|    ep_len_mean          | 512         |\n",
      "|    ep_rew_mean          | -315        |\n",
      "| time/                   |             |\n",
      "|    fps                  | 95          |\n",
      "|    iterations           | 8           |\n",
      "|    time_elapsed         | 171         |\n",
      "|    total_timesteps      | 16384       |\n",
      "| train/                  |             |\n",
      "|    approx_kl            | 0.004292572 |\n",
      "|    clip_fraction        | 0.0385      |\n",
      "|    clip_range           | 0.2         |\n",
      "|    entropy_loss         | -0.948      |\n",
      "|    explained_variance   | 0.875       |\n",
      "|    learning_rate        | 0.0003      |\n",
      "|    loss                 | 7.59        |\n",
      "|    n_updates            | 70          |\n",
      "|    policy_gradient_loss | -0.00339    |\n",
      "|    value_loss           | 30.1        |\n",
      "-----------------------------------------\n"
     ]
    },
    {
     "name": "stderr",
     "output_type": "stream",
     "text": [
      "\r"
     ]
    },
    {
     "name": "stdout",
     "output_type": "stream",
     "text": [
      "Moviepy - Building video /Users/jsukpk/Workstation/CSEM/cs395t-final-project/gym-results/oracle/train/rl-video-episode-32.mp4.\n",
      "Moviepy - Writing video /Users/jsukpk/Workstation/CSEM/cs395t-final-project/gym-results/oracle/train/rl-video-episode-32.mp4\n",
      "\n"
     ]
    },
    {
     "name": "stderr",
     "output_type": "stream",
     "text": [
      "                                                  "
     ]
    },
    {
     "name": "stdout",
     "output_type": "stream",
     "text": [
      "Moviepy - Done !\n",
      "Moviepy - video ready /Users/jsukpk/Workstation/CSEM/cs395t-final-project/gym-results/oracle/train/rl-video-episode-32.mp4\n"
     ]
    },
    {
     "name": "stderr",
     "output_type": "stream",
     "text": [
      "\r"
     ]
    }
   ],
   "source": [
    "def wrap_around_video_recorder(env, folder):\n",
    "    return RecordVideo(\n",
    "        env, folder,\n",
    "        episode_trigger=(lambda episode_id: True),\n",
    "    )\n",
    "\n",
    "\n",
    "# Initialize video recording output directory\n",
    "output_folder = os.path.join(os.getcwd(), 'gym-results', 'oracle')\n",
    "os.makedirs(output_folder, exist_ok=True)\n",
    "\n",
    "train_output_folder = os.path.join(output_folder, 'train')\n",
    "shutil.rmtree(train_output_folder, ignore_errors=True)\n",
    "os.makedirs(train_output_folder, exist_ok=True)\n",
    "\n",
    "# Wrap around video recorder\n",
    "env = wrap_around_video_recorder(\n",
    "    env,\n",
    "    train_output_folder,\n",
    ")\n",
    "\n",
    "# Train a policy\n",
    "model = PPO(\"MlpPolicy\", env, verbose=1, seed=0).learn(total_timesteps=16384)\n",
    "env.close()\n",
    "model.save('my-model')"
   ]
  },
  {
   "cell_type": "markdown",
   "metadata": {},
   "source": [
    "We now generate oracle dataset using the trained policy model."
   ]
  },
  {
   "cell_type": "markdown",
   "metadata": {},
   "source": [
    "### Imitation Learning Using AIRL"
   ]
  },
  {
   "cell_type": "code",
   "execution_count": 4,
   "metadata": {},
   "outputs": [
    {
     "name": "stderr",
     "output_type": "stream",
     "text": [
      "/Users/jsukpk/Workstation/CSEM/cs395t-final-project/.env/lib/python3.10/site-packages/tqdm/auto.py:21: TqdmWarning: IProgress not found. Please update jupyter and ipywidgets. See https://ipywidgets.readthedocs.io/en/stable/user_install.html\n",
      "  from .autonotebook import tqdm as notebook_tqdm\n"
     ]
    }
   ],
   "source": [
    "from stable_baselines3.common.evaluation import evaluate_policy\n",
    "\n",
    "from imitation.algorithms.adversarial.airl import AIRL\n",
    "from imitation.data import rollout\n",
    "from imitation.data.wrappers import RolloutInfoWrapper\n",
    "from imitation.policies.serialize import load_policy\n",
    "from imitation.rewards.reward_nets import BasicShapedRewardNet\n",
    "from imitation.util.networks import RunningNorm\n",
    "from imitation.util.util import make_vec_env"
   ]
  },
  {
   "cell_type": "code",
   "execution_count": 5,
   "metadata": {},
   "outputs": [],
   "source": [
    "SEED = 42"
   ]
  },
  {
   "cell_type": "code",
   "execution_count": 6,
   "metadata": {},
   "outputs": [],
   "source": [
    "env = make_vec_env(\n",
    "    \"Acrobot-v1\",\n",
    "    rng=np.random.default_rng(SEED),\n",
    "    n_envs=8,\n",
    "    post_wrappers=[\n",
    "        lambda env, _: AbsorbAfterDoneWrapper(env),\n",
    "        lambda env, _: TimeLimit(env, max_episode_steps=512),\n",
    "        lambda env, _: RolloutInfoWrapper(env),  # to compute rollouts\n",
    "    ],\n",
    ")"
   ]
  },
  {
   "cell_type": "code",
   "execution_count": 7,
   "metadata": {},
   "outputs": [
    {
     "data": {
      "text/plain": [
       "ActorCriticPolicy(\n",
       "  (features_extractor): FlattenExtractor(\n",
       "    (flatten): Flatten(start_dim=1, end_dim=-1)\n",
       "  )\n",
       "  (pi_features_extractor): FlattenExtractor(\n",
       "    (flatten): Flatten(start_dim=1, end_dim=-1)\n",
       "  )\n",
       "  (vf_features_extractor): FlattenExtractor(\n",
       "    (flatten): Flatten(start_dim=1, end_dim=-1)\n",
       "  )\n",
       "  (mlp_extractor): MlpExtractor(\n",
       "    (policy_net): Sequential(\n",
       "      (0): Linear(in_features=6, out_features=64, bias=True)\n",
       "      (1): Tanh()\n",
       "      (2): Linear(in_features=64, out_features=64, bias=True)\n",
       "      (3): Tanh()\n",
       "    )\n",
       "    (value_net): Sequential(\n",
       "      (0): Linear(in_features=6, out_features=64, bias=True)\n",
       "      (1): Tanh()\n",
       "      (2): Linear(in_features=64, out_features=64, bias=True)\n",
       "      (3): Tanh()\n",
       "    )\n",
       "  )\n",
       "  (action_net): Linear(in_features=64, out_features=3, bias=True)\n",
       "  (value_net): Linear(in_features=64, out_features=1, bias=True)\n",
       ")"
      ]
     },
     "execution_count": 7,
     "metadata": {},
     "output_type": "execute_result"
    }
   ],
   "source": [
    "expert = model.policy\n",
    "expert"
   ]
  },
  {
   "cell_type": "code",
   "execution_count": 8,
   "metadata": {},
   "outputs": [],
   "source": [
    "rollouts = rollout.rollout(\n",
    "    expert,\n",
    "    env,\n",
    "    rollout.make_sample_until(min_episodes=60),\n",
    "    rng=np.random.default_rng(SEED),\n",
    ")"
   ]
  },
  {
   "cell_type": "code",
   "execution_count": 9,
   "metadata": {},
   "outputs": [],
   "source": [
    "learner = PPO(\n",
    "    env=env,\n",
    "    policy=\"MlpPolicy\",\n",
    "    batch_size=64,\n",
    "    ent_coef=0.0,\n",
    "    learning_rate=0.0005,\n",
    "    gamma=0.95,\n",
    "    clip_range=0.1,\n",
    "    vf_coef=0.1,\n",
    "    n_epochs=5,\n",
    "    seed=SEED,\n",
    ")"
   ]
  },
  {
   "cell_type": "code",
   "execution_count": 10,
   "metadata": {},
   "outputs": [],
   "source": [
    "reward_net = BasicShapedRewardNet(\n",
    "    observation_space=env.observation_space,\n",
    "    action_space=env.action_space,\n",
    "    normalize_input_layer=RunningNorm,\n",
    ")"
   ]
  },
  {
   "cell_type": "code",
   "execution_count": 11,
   "metadata": {},
   "outputs": [],
   "source": [
    "airl_trainer = AIRL(\n",
    "    demonstrations=rollouts,\n",
    "    demo_batch_size=2048,\n",
    "    gen_replay_buffer_capacity=512,\n",
    "    n_disc_updates_per_round=16,\n",
    "    venv=env,\n",
    "    gen_algo=learner,\n",
    "    reward_net=reward_net,\n",
    ")"
   ]
  },
  {
   "cell_type": "code",
   "execution_count": 12,
   "metadata": {},
   "outputs": [],
   "source": [
    "env.seed(SEED)\n",
    "learner_rewards_before_training, _ = evaluate_policy(\n",
    "    learner, env, 100, return_episode_rewards=True,\n",
    ")"
   ]
  },
  {
   "cell_type": "code",
   "execution_count": null,
   "metadata": {},
   "outputs": [],
   "source": [
    "airl_trainer.train(20000)  # Train for 2_000_000 steps to match expert.\n",
    "env.seed(SEED)\n",
    "learner_rewards_after_training, _ = evaluate_policy(\n",
    "    learner, env, 100, return_episode_rewards=True,\n",
    ")"
   ]
  },
  {
   "cell_type": "code",
   "execution_count": null,
   "metadata": {},
   "outputs": [],
   "source": [
    "print(\"mean reward after training:\", np.mean(learner_rewards_after_training))\n",
    "print(\"mean reward before training:\", np.mean(learner_rewards_before_training))"
   ]
  }
 ],
 "metadata": {
  "kernelspec": {
   "display_name": ".env",
   "language": "python",
   "name": "python3"
  },
  "language_info": {
   "codemirror_mode": {
    "name": "ipython",
    "version": 3
   },
   "file_extension": ".py",
   "mimetype": "text/x-python",
   "name": "python",
   "nbconvert_exporter": "python",
   "pygments_lexer": "ipython3",
   "version": "3.10.13"
  }
 },
 "nbformat": 4,
 "nbformat_minor": 2
}
