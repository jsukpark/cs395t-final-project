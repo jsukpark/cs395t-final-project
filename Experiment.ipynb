{
 "cells": [
  {
   "cell_type": "markdown",
   "metadata": {},
   "source": [
    "### Getting Started"
   ]
  },
  {
   "cell_type": "code",
   "execution_count": null,
   "metadata": {},
   "outputs": [],
   "source": [
    "import os\n",
    "import shutil\n",
    "\n",
    "import numpy as np\n",
    "import gymnasium as gym\n",
    "from gymnasium.wrappers import RecordVideo, TimeLimit\n",
    "from stable_baselines3 import PPO\n",
    "from seals.util import AbsorbAfterDoneWrapper"
   ]
  },
  {
   "cell_type": "code",
   "execution_count": null,
   "metadata": {},
   "outputs": [],
   "source": [
    "env_ppo = gym.make(\"Acrobot-v1\", render_mode=\"rgb_array\")\n",
    "env_ppo = AbsorbAfterDoneWrapper(env_ppo)\n",
    "env_ppo = TimeLimit(env_ppo, max_episode_steps=512)"
   ]
  },
  {
   "cell_type": "markdown",
   "metadata": {},
   "source": [
    "### Training \"expert\" policy"
   ]
  },
  {
   "cell_type": "code",
   "execution_count": null,
   "metadata": {},
   "outputs": [],
   "source": [
    "make_videos = False\n",
    "if make_videos:\n",
    "    def wrap_around_video_recorder(env, folder):\n",
    "        return RecordVideo(\n",
    "            env, folder,\n",
    "            episode_trigger=(lambda episode_id: True),\n",
    "        )\n",
    "    \n",
    "    # Initialize video recording output directory\n",
    "    output_folder = os.path.join(os.getcwd(), 'gym-results', 'oracle')\n",
    "    os.makedirs(output_folder, exist_ok=True)\n",
    "    \n",
    "    train_output_folder = os.path.join(output_folder, 'train')\n",
    "    shutil.rmtree(train_output_folder, ignore_errors=True)\n",
    "    os.makedirs(train_output_folder, exist_ok=True)\n",
    "    \n",
    "    # Wrap around video recorder\n",
    "    env_ppo = wrap_around_video_recorder(\n",
    "        env_ppo,\n",
    "        train_output_folder,\n",
    "    )\n",
    "\n",
    "# Train a policy\n",
    "model = PPO(\"MlpPolicy\", env_ppo, verbose=1, seed=0).learn(total_timesteps=16384)\n",
    "env_ppo.close()\n",
    "model.save('my-model')"
   ]
  },
  {
   "cell_type": "markdown",
   "metadata": {},
   "source": [
    "### Imitation Learning Using AIRL"
   ]
  },
  {
   "cell_type": "code",
   "execution_count": null,
   "metadata": {},
   "outputs": [],
   "source": [
    "SEED = 42"
   ]
  },
  {
   "cell_type": "code",
   "execution_count": null,
   "metadata": {},
   "outputs": [],
   "source": [
    "from imitation.util.util import make_vec_env\n",
    "from imitation.data.wrappers import RolloutInfoWrapper\n",
    "from stable_baselines3.common.monitor import Monitor\n",
    "\n",
    "\n",
    "airl_log_dir = './gym-results/airl/'\n",
    "\n",
    "\n",
    "env_airl = make_vec_env(\n",
    "    'Acrobot-v1',\n",
    "    rng=np.random.default_rng(SEED),\n",
    "    n_envs=8,\n",
    "    post_wrappers=[\n",
    "        lambda x, _: AbsorbAfterDoneWrapper(x),\n",
    "        lambda x, _: TimeLimit(x, max_episode_steps=512),\n",
    "        lambda x, _: Monitor(x, filename=airl_log_dir),\n",
    "        lambda x, _: RolloutInfoWrapper(x),  # to compute rollouts\n",
    "    ],\n",
    ")\n",
    "env_airl.envs"
   ]
  },
  {
   "cell_type": "code",
   "execution_count": null,
   "metadata": {},
   "outputs": [],
   "source": [
    "#expert = model.policy\n",
    "from imitation.policies.serialize import load_policy\n",
    "expert = load_policy(\"ppo\", env_airl, path=\"my-model.zip\")\n",
    "expert"
   ]
  },
  {
   "cell_type": "code",
   "execution_count": null,
   "metadata": {},
   "outputs": [],
   "source": [
    "from imitation.data import rollout\n",
    "rollouts = rollout.rollout(\n",
    "    expert,\n",
    "    env_airl,\n",
    "    rollout.make_sample_until(min_episodes=60),\n",
    "    rng=np.random.default_rng(SEED),\n",
    ")"
   ]
  },
  {
   "cell_type": "code",
   "execution_count": null,
   "metadata": {},
   "outputs": [],
   "source": [
    "from stable_baselines3 import PPO\n",
    "from stable_baselines3.ppo import MlpPolicy\n",
    "\n",
    "learner = PPO(\n",
    "    env=env_airl,\n",
    "    policy=MlpPolicy,\n",
    "    batch_size=64,\n",
    "    ent_coef=0.0,\n",
    "    learning_rate=0.0005,\n",
    "    gamma=0.95,\n",
    "    clip_range=0.1,\n",
    "    vf_coef=0.1,\n",
    "    n_epochs=5,\n",
    "    seed=SEED,\n",
    "    tensorboard_log=airl_log_dir,\n",
    ")\n",
    "# same as PPO2\n",
    "# multi agent learning, parallelism: https://stable-baselines.readthedocs.io/en/master/guide/vec_envs.html"
   ]
  },
  {
   "cell_type": "code",
   "execution_count": null,
   "metadata": {},
   "outputs": [],
   "source": [
    "from imitation.rewards.reward_nets import BasicShapedRewardNet\n",
    "from imitation.util.networks import RunningNorm\n",
    "\n",
    "reward_net = BasicShapedRewardNet(\n",
    "    observation_space=env_airl.observation_space,\n",
    "    action_space=env_airl.action_space,\n",
    "    normalize_input_layer=RunningNorm,\n",
    ")"
   ]
  },
  {
   "cell_type": "code",
   "execution_count": null,
   "metadata": {},
   "outputs": [],
   "source": [
    "from imitation.algorithms.adversarial.airl import AIRL\n",
    "\n",
    "airl_trainer = AIRL(\n",
    "    demonstrations=rollouts,\n",
    "    demo_batch_size=2048,\n",
    "    gen_replay_buffer_capacity=512,\n",
    "    n_disc_updates_per_round=16,\n",
    "    venv=env_airl,\n",
    "    gen_algo=learner,\n",
    "    reward_net=reward_net,\n",
    "    log_dir=airl_log_dir,\n",
    ")"
   ]
  },
  {
   "cell_type": "code",
   "execution_count": null,
   "metadata": {},
   "outputs": [],
   "source": [
    "from stable_baselines3.common.evaluation import evaluate_policy\n",
    "\n",
    "env_airl.seed(SEED)\n",
    "learner_rollouts_before_training = rollout.rollout(\n",
    "    learner,\n",
    "    env_airl,\n",
    "    rollout.make_sample_until(min_episodes=100),\n",
    "    rng=np.random.default_rng(SEED),\n",
    ")\n",
    "# learner_rewards_before_training, _ = evaluate_policy(\n",
    "#     learner,\n",
    "#     env_airl,\n",
    "#     n_eval_episodes=100,\n",
    "#     return_episode_rewards=True,\n",
    "#     warn=True,\n",
    "# )"
   ]
  },
  {
   "cell_type": "code",
   "execution_count": null,
   "metadata": {},
   "outputs": [],
   "source": [
    "N_STEPS = 2000000              # Train for 2_000_000 steps to match expert.\n",
    "airl_trainer.train(N_STEPS)\n",
    "\n",
    "env_airl.seed(SEED)\n",
    "learner_rollouts_after_training = rollout.rollout(\n",
    "    learner,\n",
    "    env_airl,\n",
    "    rollout.make_sample_until(min_episodes=100),\n",
    "    rng=np.random.default_rng(SEED),\n",
    ")\n",
    "# learner_rewards_after_training, _ = evaluate_policy(\n",
    "#     learner,\n",
    "#     env_airl,\n",
    "#     n_eval_episodes=100,\n",
    "#     return_episode_rewards=True,\n",
    "# )"
   ]
  },
  {
   "cell_type": "code",
   "execution_count": null,
   "metadata": {},
   "outputs": [],
   "source": [
    "# print(\"mean reward after training:\", np.mean(learner_rewards_after_training))\n",
    "# print(\"mean reward before training:\", np.mean(learner_rewards_before_training))"
   ]
  },
  {
   "cell_type": "markdown",
   "metadata": {},
   "source": [
    "### Imitation Learning Using Our Improvement"
   ]
  },
  {
   "cell_type": "code",
   "execution_count": null,
   "metadata": {},
   "outputs": [],
   "source": []
  }
 ],
 "metadata": {
  "kernelspec": {
   "display_name": "Python 3 (ipykernel)",
   "language": "python",
   "name": "python3"
  },
  "language_info": {
   "codemirror_mode": {
    "name": "ipython",
    "version": 3
   },
   "file_extension": ".py",
   "mimetype": "text/x-python",
   "name": "python",
   "nbconvert_exporter": "python",
   "pygments_lexer": "ipython3",
   "version": "3.10.13"
  }
 },
 "nbformat": 4,
 "nbformat_minor": 4
}
