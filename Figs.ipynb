{
 "cells": [
  {
   "cell_type": "code",
   "execution_count": null,
   "id": "805805d6-d1ef-4e25-9c51-8dd722b4c03e",
   "metadata": {},
   "outputs": [],
   "source": [
    "import matplotlib.pyplot as plt\n",
    "import matplotlib.animation as animation\n",
    "import torch, time, sys\n",
    "import numpy as np\n",
    "import scipy.integrate\n",
    "solve_ivp = scipy.integrate.solve_ivp"
   ]
  },
  {
   "cell_type": "code",
   "execution_count": null,
   "id": "fb32104b-6ae5-414f-8a3f-d9550ee9d1af",
   "metadata": {},
   "outputs": [],
   "source": [
    "import os\n",
    "\n",
    "cwd = os.getcwd()  # Get the current working directory (cwd)\n",
    "files = os.listdir(cwd)  # Get all the files in that directory\n",
    "print(\"Files in %r: %s\" % (cwd, files))"
   ]
  },
  {
   "cell_type": "code",
   "execution_count": null,
   "id": "1445344f-2d1a-4b2d-95a0-8770147af1fd",
   "metadata": {},
   "outputs": [],
   "source": [
    "import pickle\n",
    "dbfile = open('expert_rollout.pickle', 'rb')    \n",
    "expert_rollout = pickle.load(dbfile)\n",
    "dbfile.close()\n",
    "\n",
    "obs_expert_0 =np.transpose(np.array(expert_rollout[0].obs))\n",
    "obs_expert_1 =np.transpose(np.array(expert_rollout[1].obs))"
   ]
  },
  {
   "cell_type": "code",
   "execution_count": null,
   "id": "5fd82df9-02f8-4d96-ab22-7754cb3776e1",
   "metadata": {},
   "outputs": [],
   "source": [
    "lw = 3 #linewidth\n",
    "fs=9\n",
    "ts=15\n",
    "tpad = 7\n",
    "ls=12\n",
    "\n",
    "fig = plt.figure(figsize=[15,4], dpi=100)\n",
    "plt.subplot(1,3,1)\n",
    "plt.title('Trajectories', fontsize=ts, pad=tpad)\n",
    "colors = ['orange', 'purple']\n",
    "\n",
    "plt.plot(obs_expert_0[1], obs_expert_0[2], '-', c=colors[0], label='True path, roll out {}'.format(0), linewidth=2)\n",
    "    \n",
    "plt.plot(obs_expert_1[1], obs_expert_1[2], '--', c=colors[1], label='True path, roll out {}'.format(1), linewidth=2)\n",
    "\n",
    "plt.axis('equal')\n",
    "plt.xlabel('$x$', fontsize=ls) ; plt.ylabel('$y$', fontsize=ls)\n",
    "plt.legend(fontsize=fs)\n",
    "\"\"\"\n",
    "plt.subplot(1,3,2)\n",
    "real_pe, real_ke, real_etot = potential_energy(orbit), kinetic_energy(orbit), total_energy(orbit)\n",
    "plt.title('Ground truth energy', fontsize=ts, pad=tpad)\n",
    "plt.xlabel('Time')\n",
    "plt.plot(settings['t_eval'], real_pe, 'g:', label='Potential', linewidth=lw)\n",
    "plt.plot(settings['t_eval'], real_ke, 'c-.', label='Kinetic', linewidth=lw)\n",
    "plt.plot(settings['t_eval'], real_etot, 'k-', label='Total', linewidth=lw)\n",
    "plt.legend(fontsize=fs)\n",
    "plt.xlim(*settings['t_span'])\n",
    "ymin = np.min([real_pe.min(), real_ke.min(), real_etot.min()])\n",
    "ymax = np.max([real_pe.max(), real_ke.max(), real_etot.max()])\n",
    "plt.ylim(ymin, ymax)\n",
    "\n",
    "plt.subplot(1,3,3)\n",
    "plt.title('Baseline NN energy', fontsize=ts, pad=tpad)\n",
    "plt.xlabel('Time')\n",
    "plt.plot(settings['t_eval'], potential_energy(base_orbit), 'g:', label='Potential', linewidth=lw)\n",
    "plt.plot(settings['t_eval'], kinetic_energy(base_orbit), 'c-.', label='Kinetic', linewidth=lw)\n",
    "plt.plot(settings['t_eval'], total_energy(base_orbit), 'k-', label='Total', linewidth=lw)\n",
    "plt.legend(fontsize=fs)\n",
    "plt.xlim(*settings['t_span'])\n",
    "plt.ylim(ymin, ymax)\n",
    "\"\"\"\n",
    "plt.tight_layout() ; plt.show()\n",
    "#fig.savefig('{}/orbits-base-example.{}'.format(args.fig_dir, FORMAT))"
   ]
  },
  {
   "cell_type": "code",
   "execution_count": null,
   "id": "3210520a-079c-4a62-a3c3-395563f7a07a",
   "metadata": {},
   "outputs": [],
   "source": []
  }
 ],
 "metadata": {
  "kernelspec": {
   "display_name": "Python 3 (ipykernel)",
   "language": "python",
   "name": "python3"
  },
  "language_info": {
   "codemirror_mode": {
    "name": "ipython",
    "version": 3
   },
   "file_extension": ".py",
   "mimetype": "text/x-python",
   "name": "python",
   "nbconvert_exporter": "python",
   "pygments_lexer": "ipython3",
   "version": "3.11.5"
  }
 },
 "nbformat": 4,
 "nbformat_minor": 5
}
