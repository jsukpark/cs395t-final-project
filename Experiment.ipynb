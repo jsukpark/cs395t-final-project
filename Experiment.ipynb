{
 "cells": [
  {
   "cell_type": "code",
   "execution_count": null,
   "metadata": {},
   "outputs": [],
   "source": [
    "import os\n",
    "import shutil\n",
    "from functools import partial\n",
    "\n",
    "import numpy as np\n",
    "import gymnasium as gym\n",
    "from gymnasium import Wrapper, Env\n",
    "from gymnasium.wrappers import RecordVideo, TimeLimit\n",
    "from stable_baselines3 import PPO\n",
    "from seals.util import AbsorbAfterDoneWrapper"
   ]
  },
  {
   "cell_type": "code",
   "execution_count": null,
   "metadata": {},
   "outputs": [],
   "source": [
    "env = gym.make(\"Acrobot-v1\", render_mode=\"rgb_array\")\n",
    "env = TimeLimit(AbsorbAfterDoneWrapper(env), max_episode_steps=512)"
   ]
  },
  {
   "cell_type": "code",
   "execution_count": null,
   "metadata": {},
   "outputs": [],
   "source": [
    "def wrap_around_video_recorder(env, folder):\n",
    "    return RecordVideo(\n",
    "        env, folder,\n",
    "        episode_trigger=(lambda episode_id: True),\n",
    "    )\n",
    "\n",
    "\n",
    "# Initialize video recording output directory\n",
    "output_folder = os.path.join(os.getcwd(), 'gym-results', 'oracle')\n",
    "os.makedirs(output_folder, exist_ok=True)\n",
    "\n",
    "train_output_folder = os.path.join(output_folder, 'train')\n",
    "shutil.rmtree(train_output_folder, ignore_errors=True)\n",
    "os.makedirs(train_output_folder, exist_ok=True)\n",
    "\n",
    "# Wrap around video recorder\n",
    "env = wrap_around_video_recorder(\n",
    "    env,\n",
    "    train_output_folder,\n",
    ")\n",
    "\n",
    "# Train a policy\n",
    "model = PPO(\"MlpPolicy\", env, verbose=1, seed=0).learn(total_timesteps=16384)\n",
    "env.close()\n",
    "model.save('my-model')"
   ]
  },
  {
   "cell_type": "markdown",
   "metadata": {},
   "source": [
    "We now generate oracle dataset using the trained policy model."
   ]
  },
  {
   "cell_type": "code",
   "execution_count": null,
   "metadata": {},
   "outputs": [],
   "source": [
    "# # Generate oracle data using the trained policy\n",
    "# test_output_folder = os.path.join(output_folder, 'test')\n",
    "# shutil.rmtree(test_output_folder, ignore_errors=True)\n",
    "# os.makedirs(test_output_folder, exist_ok=True)\n",
    "\n",
    "# env = wrap_around_video_recorder(\n",
    "#     get_env(),\n",
    "#     test_output_folder,\n",
    "# )\n",
    "\n",
    "# trajectories = []  # trajectories is a list of lists\n",
    "# seed = 1\n",
    "# trajectories.append([])\n",
    "# obs, info = env.reset(seed=seed)\n",
    "# T = 10000\n",
    "# for i in range(T):\n",
    "#     trajectories[-1].append(obs)\n",
    "#     action, _state = model.predict(obs, deterministic=True)\n",
    "#     trajectories[-1].append(action)\n",
    "#     obs, reward, done, truncated, info = env.step(action)\n",
    "#     trajectories[-1].append(reward)\n",
    "#     if done or truncated:\n",
    "#         if i + 1 == T:\n",
    "#             # will close outside the loop, no need to reset\n",
    "#             continue\n",
    "#         trajectories[-1].append(obs)\n",
    "#         seed += 1  # try a new seed\n",
    "#         trajectories.append([])\n",
    "#         obs, info = env.reset(seed=seed)\n",
    "# trajectories[-1].append(obs)\n",
    "# env.close()"
   ]
  },
  {
   "cell_type": "code",
   "execution_count": null,
   "metadata": {},
   "outputs": [],
   "source": [
    "# data_output_folder = os.path.join(output_folder, 'data')\n",
    "# shutil.rmtree(data_output_folder, ignore_errors=True)\n",
    "# os.makedirs(data_output_folder, exist_ok=True)\n",
    "\n",
    "# for e_idx, trajectory in enumerate(trajectories):\n",
    "#     assert len(trajectory) % 3 == 1\n",
    "#     states, actions, rewards = [], [], []\n",
    "#     for idx, elem in enumerate(trajectory):\n",
    "#         if idx % 3 == 0:    # state\n",
    "#             states.append(elem)\n",
    "#         elif idx % 3 == 1:  # action\n",
    "#             actions.append(elem)\n",
    "#         else:               # reward\n",
    "#             rewards.append(elem)\n",
    "#     data = {\n",
    "#         'states': np.stack(states),\n",
    "#         'actions': np.stack(actions),\n",
    "#         'rewards': np.array(rewards),\n",
    "#     }\n",
    "#     filename = f'episode-{e_idx}.npz'\n",
    "#     filepath = os.path.join(data_output_folder, filename)\n",
    "#     np.savez_compressed(filepath, **data)\n"
   ]
  },
  {
   "cell_type": "markdown",
   "metadata": {},
   "source": [
    "### Imitation Learning Using AIRL"
   ]
  },
  {
   "cell_type": "code",
   "execution_count": null,
   "metadata": {},
   "outputs": [],
   "source": [
    "# model.save('my-model')\n",
    "\n",
    "# from stable_baselines3.ppo import MlpPolicy\n",
    "# newmodel = PPO.load('my-model.zip')\n",
    "# type(newmodel)"
   ]
  },
  {
   "cell_type": "code",
   "execution_count": null,
   "metadata": {},
   "outputs": [],
   "source": [
    "from stable_baselines3.common.evaluation import evaluate_policy\n",
    "\n",
    "from imitation.algorithms.adversarial.airl import AIRL\n",
    "from imitation.data import rollout\n",
    "from imitation.data.wrappers import RolloutInfoWrapper\n",
    "from imitation.policies.serialize import load_policy\n",
    "from imitation.rewards.reward_nets import BasicShapedRewardNet\n",
    "from imitation.util.networks import RunningNorm\n",
    "from imitation.util.util import make_vec_env"
   ]
  },
  {
   "cell_type": "code",
   "execution_count": null,
   "metadata": {},
   "outputs": [],
   "source": [
    "SEED = 42"
   ]
  },
  {
   "cell_type": "code",
   "execution_count": null,
   "metadata": {},
   "outputs": [],
   "source": [
    "env = make_vec_env(\n",
    "    \"Acrobot-v1\",\n",
    "    rng=np.random.default_rng(SEED),\n",
    "    n_envs=8,\n",
    "    post_wrappers=[\n",
    "        lambda env, _: AbsorbAfterDoneWrapper(env),\n",
    "        lambda env, _: TimeLimit(env, max_episode_steps=512),\n",
    "        lambda env, _: RolloutInfoWrapper(env),  # to compute rollouts\n",
    "    ],\n",
    ")"
   ]
  },
  {
   "cell_type": "code",
   "execution_count": null,
   "metadata": {},
   "outputs": [],
   "source": [
    "expert = model.policy\n",
    "expert"
   ]
  },
  {
   "cell_type": "code",
   "execution_count": null,
   "metadata": {},
   "outputs": [],
   "source": [
    "rollouts = rollout.rollout(\n",
    "    expert,\n",
    "    env,\n",
    "    rollout.make_sample_until(min_episodes=60),\n",
    "    rng=np.random.default_rng(SEED),\n",
    ")"
   ]
  },
  {
   "cell_type": "code",
   "execution_count": null,
   "metadata": {},
   "outputs": [],
   "source": [
    "learner = PPO(\n",
    "    env=env,\n",
    "    policy=\"MlpPolicy\",\n",
    "    batch_size=64,\n",
    "    ent_coef=0.0,\n",
    "    learning_rate=0.0005,\n",
    "    gamma=0.95,\n",
    "    clip_range=0.1,\n",
    "    vf_coef=0.1,\n",
    "    n_epochs=5,\n",
    "    seed=SEED,\n",
    ")\n",
    "#same as PPO2\n",
    "#multi agent learning, parallelism: https://stable-baselines.readthedocs.io/en/master/guide/vec_envs.html"
   ]
  },
  {
   "cell_type": "code",
   "execution_count": null,
   "metadata": {},
   "outputs": [],
   "source": [
    "reward_net = BasicShapedRewardNet(\n",
    "    observation_space=env.observation_space,\n",
    "    action_space=env.action_space,\n",
    "    normalize_input_layer=RunningNorm,\n",
    ")"
   ]
  },
  {
   "cell_type": "code",
   "execution_count": null,
   "metadata": {},
   "outputs": [],
   "source": [
    "airl_trainer = AIRL(\n",
    "    demonstrations=rollouts,\n",
    "    demo_batch_size=2048,\n",
    "    gen_replay_buffer_capacity=512,\n",
    "    n_disc_updates_per_round=16,\n",
    "    venv=env,\n",
    "    gen_algo=learner,\n",
    "    reward_net=reward_net,\n",
    ")"
   ]
  },
  {
   "cell_type": "code",
   "execution_count": null,
   "metadata": {},
   "outputs": [],
   "source": [
    "env.seed(SEED)\n",
    "learner_rewards_before_training, _ = evaluate_policy(\n",
    "    learner, env, 100, return_episode_rewards=True,\n",
    ")\n"
   ]
  },
  {
   "cell_type": "code",
   "execution_count": null,
   "metadata": {},
   "outputs": [],
   "source": [
    "airl_trainer.train(20000)  # Train for 2_000_000 steps to match expert.\n",
    "env.seed(SEED)\n",
    "learner_rewards_after_training, _ = evaluate_policy(\n",
    "    learner, env, 100, return_episode_rewards=True,\n",
    ")\n",
    "#check if evaluate policy has option  has option deterministic=True\n"
   ]
  },
  {
   "cell_type": "code",
   "execution_count": null,
   "metadata": {},
   "outputs": [],
   "source": [
    "print(\"mean reward after training:\", np.mean(learner_rewards_after_training))\n",
    "print(\"mean reward before training:\", np.mean(learner_rewards_before_training))"
   ]
  },
  {
   "cell_type": "code",
   "execution_count": null,
   "metadata": {},
   "outputs": [],
   "source": [
    "#EvalCallback for time series of learning curve\n",
    "#RL evaluation source: https://arxiv.org/abs/1709.06560"
   ]
  },
  {
   "cell_type": "code",
   "execution_count": null,
   "metadata": {},
   "outputs": [],
   "source": []
  }
 ],
 "metadata": {
  "kernelspec": {
   "display_name": "Python 3 (ipykernel)",
   "language": "python",
   "name": "python3"
  },
  "language_info": {
   "codemirror_mode": {
    "name": "ipython",
    "version": 3
   },
   "file_extension": ".py",
   "mimetype": "text/x-python",
   "name": "python",
   "nbconvert_exporter": "python",
   "pygments_lexer": "ipython3",
   "version": "3.11.5"
  }
 },
 "nbformat": 4,
 "nbformat_minor": 4
}
