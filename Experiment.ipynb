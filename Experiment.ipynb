{
 "cells": [
  {
   "cell_type": "code",
   "execution_count": 1,
   "metadata": {},
   "outputs": [
    {
     "name": "stderr",
     "output_type": "stream",
     "text": [
      "2023-12-08 20:56:31.289665: I tensorflow/core/platform/cpu_feature_guard.cc:182] This TensorFlow binary is optimized to use available CPU instructions in performance-critical operations.\n",
      "To enable the following instructions: AVX2 FMA, in other operations, rebuild TensorFlow with the appropriate compiler flags.\n",
      "/Users/jsukpk/Workstation/CSEM/cs395t-final-project/.env/lib/python3.10/site-packages/gymnasium/wrappers/record_video.py:94: UserWarning: \u001b[33mWARN: Overwriting existing videos at /Users/jsukpk/Workstation/CSEM/cs395t-final-project/gym-results/train folder (try specifying a different `video_folder` for the `RecordVideo` wrapper if this is not desired)\u001b[0m\n",
      "  logger.warn(\n"
     ]
    },
    {
     "name": "stdout",
     "output_type": "stream",
     "text": [
      "Using cpu device\n",
      "Wrapping the env with a `Monitor` wrapper\n",
      "Wrapping the env in a DummyVecEnv.\n",
      "Moviepy - Building video /Users/jsukpk/Workstation/CSEM/cs395t-final-project/gym-results/train/rl-video-episode-0.mp4.\n",
      "Moviepy - Writing video /Users/jsukpk/Workstation/CSEM/cs395t-final-project/gym-results/train/rl-video-episode-0.mp4\n",
      "\n"
     ]
    },
    {
     "name": "stderr",
     "output_type": "stream",
     "text": [
      "                                                               \r"
     ]
    },
    {
     "name": "stdout",
     "output_type": "stream",
     "text": [
      "Moviepy - Done !\n",
      "Moviepy - video ready /Users/jsukpk/Workstation/CSEM/cs395t-final-project/gym-results/train/rl-video-episode-0.mp4\n",
      "Moviepy - Building video /Users/jsukpk/Workstation/CSEM/cs395t-final-project/gym-results/train/rl-video-episode-1.mp4.\n",
      "Moviepy - Writing video /Users/jsukpk/Workstation/CSEM/cs395t-final-project/gym-results/train/rl-video-episode-1.mp4\n",
      "\n"
     ]
    },
    {
     "name": "stderr",
     "output_type": "stream",
     "text": [
      "                                                               \r"
     ]
    },
    {
     "name": "stdout",
     "output_type": "stream",
     "text": [
      "Moviepy - Done !\n",
      "Moviepy - video ready /Users/jsukpk/Workstation/CSEM/cs395t-final-project/gym-results/train/rl-video-episode-1.mp4\n",
      "Moviepy - Building video /Users/jsukpk/Workstation/CSEM/cs395t-final-project/gym-results/train/rl-video-episode-2.mp4.\n",
      "Moviepy - Writing video /Users/jsukpk/Workstation/CSEM/cs395t-final-project/gym-results/train/rl-video-episode-2.mp4\n",
      "\n"
     ]
    },
    {
     "name": "stderr",
     "output_type": "stream",
     "text": [
      "                                                               \r"
     ]
    },
    {
     "name": "stdout",
     "output_type": "stream",
     "text": [
      "Moviepy - Done !\n",
      "Moviepy - video ready /Users/jsukpk/Workstation/CSEM/cs395t-final-project/gym-results/train/rl-video-episode-2.mp4\n",
      "Moviepy - Building video /Users/jsukpk/Workstation/CSEM/cs395t-final-project/gym-results/train/rl-video-episode-3.mp4.\n",
      "Moviepy - Writing video /Users/jsukpk/Workstation/CSEM/cs395t-final-project/gym-results/train/rl-video-episode-3.mp4\n",
      "\n"
     ]
    },
    {
     "name": "stderr",
     "output_type": "stream",
     "text": [
      "                                                               \r"
     ]
    },
    {
     "name": "stdout",
     "output_type": "stream",
     "text": [
      "Moviepy - Done !\n",
      "Moviepy - video ready /Users/jsukpk/Workstation/CSEM/cs395t-final-project/gym-results/train/rl-video-episode-3.mp4\n",
      "---------------------------------\n",
      "| rollout/           |          |\n",
      "|    ep_len_mean     | 480      |\n",
      "|    ep_rew_mean     | -480     |\n",
      "| time/              |          |\n",
      "|    fps             | 124      |\n",
      "|    iterations      | 1        |\n",
      "|    time_elapsed    | 16       |\n",
      "|    total_timesteps | 2048     |\n",
      "---------------------------------\n",
      "Moviepy - Building video /Users/jsukpk/Workstation/CSEM/cs395t-final-project/gym-results/train/rl-video-episode-4.mp4.\n",
      "Moviepy - Writing video /Users/jsukpk/Workstation/CSEM/cs395t-final-project/gym-results/train/rl-video-episode-4.mp4\n",
      "\n"
     ]
    },
    {
     "name": "stderr",
     "output_type": "stream",
     "text": [
      "                                                               \r"
     ]
    },
    {
     "name": "stdout",
     "output_type": "stream",
     "text": [
      "Moviepy - Done !\n",
      "Moviepy - video ready /Users/jsukpk/Workstation/CSEM/cs395t-final-project/gym-results/train/rl-video-episode-4.mp4\n",
      "Moviepy - Building video /Users/jsukpk/Workstation/CSEM/cs395t-final-project/gym-results/train/rl-video-episode-5.mp4.\n",
      "Moviepy - Writing video /Users/jsukpk/Workstation/CSEM/cs395t-final-project/gym-results/train/rl-video-episode-5.mp4\n",
      "\n"
     ]
    },
    {
     "name": "stderr",
     "output_type": "stream",
     "text": [
      "                                                               \r"
     ]
    },
    {
     "name": "stdout",
     "output_type": "stream",
     "text": [
      "Moviepy - Done !\n",
      "Moviepy - video ready /Users/jsukpk/Workstation/CSEM/cs395t-final-project/gym-results/train/rl-video-episode-5.mp4\n",
      "Moviepy - Building video /Users/jsukpk/Workstation/CSEM/cs395t-final-project/gym-results/train/rl-video-episode-6.mp4.\n",
      "Moviepy - Writing video /Users/jsukpk/Workstation/CSEM/cs395t-final-project/gym-results/train/rl-video-episode-6.mp4\n",
      "\n"
     ]
    },
    {
     "name": "stderr",
     "output_type": "stream",
     "text": [
      "                                                               \r"
     ]
    },
    {
     "name": "stdout",
     "output_type": "stream",
     "text": [
      "Moviepy - Done !\n",
      "Moviepy - video ready /Users/jsukpk/Workstation/CSEM/cs395t-final-project/gym-results/train/rl-video-episode-6.mp4\n",
      "Moviepy - Building video /Users/jsukpk/Workstation/CSEM/cs395t-final-project/gym-results/train/rl-video-episode-7.mp4.\n",
      "Moviepy - Writing video /Users/jsukpk/Workstation/CSEM/cs395t-final-project/gym-results/train/rl-video-episode-7.mp4\n",
      "\n"
     ]
    },
    {
     "name": "stderr",
     "output_type": "stream",
     "text": [
      "                                                               \r"
     ]
    },
    {
     "name": "stdout",
     "output_type": "stream",
     "text": [
      "Moviepy - Done !\n",
      "Moviepy - video ready /Users/jsukpk/Workstation/CSEM/cs395t-final-project/gym-results/train/rl-video-episode-7.mp4\n",
      "------------------------------------------\n",
      "| rollout/                |              |\n",
      "|    ep_len_mean          | 496          |\n",
      "|    ep_rew_mean          | -496         |\n",
      "| time/                   |              |\n",
      "|    fps                  | 111          |\n",
      "|    iterations           | 2            |\n",
      "|    time_elapsed         | 36           |\n",
      "|    total_timesteps      | 4096         |\n",
      "| train/                  |              |\n",
      "|    approx_kl            | 0.0035563675 |\n",
      "|    clip_fraction        | 0.00444      |\n",
      "|    clip_range           | 0.2          |\n",
      "|    entropy_loss         | -1.1         |\n",
      "|    explained_variance   | -0.0304      |\n",
      "|    learning_rate        | 0.0003       |\n",
      "|    loss                 | 19.2         |\n",
      "|    n_updates            | 10           |\n",
      "|    policy_gradient_loss | -0.00257     |\n",
      "|    value_loss           | 144          |\n",
      "------------------------------------------\n",
      "Moviepy - Building video /Users/jsukpk/Workstation/CSEM/cs395t-final-project/gym-results/train/rl-video-episode-8.mp4.\n",
      "Moviepy - Writing video /Users/jsukpk/Workstation/CSEM/cs395t-final-project/gym-results/train/rl-video-episode-8.mp4\n",
      "\n"
     ]
    },
    {
     "name": "stderr",
     "output_type": "stream",
     "text": [
      "                                                               \r"
     ]
    },
    {
     "name": "stdout",
     "output_type": "stream",
     "text": [
      "Moviepy - Done !\n",
      "Moviepy - video ready /Users/jsukpk/Workstation/CSEM/cs395t-final-project/gym-results/train/rl-video-episode-8.mp4\n",
      "Moviepy - Building video /Users/jsukpk/Workstation/CSEM/cs395t-final-project/gym-results/train/rl-video-episode-9.mp4.\n",
      "Moviepy - Writing video /Users/jsukpk/Workstation/CSEM/cs395t-final-project/gym-results/train/rl-video-episode-9.mp4\n",
      "\n"
     ]
    },
    {
     "name": "stderr",
     "output_type": "stream",
     "text": [
      "                                                               \r"
     ]
    },
    {
     "name": "stdout",
     "output_type": "stream",
     "text": [
      "Moviepy - Done !\n",
      "Moviepy - video ready /Users/jsukpk/Workstation/CSEM/cs395t-final-project/gym-results/train/rl-video-episode-9.mp4\n",
      "Moviepy - Building video /Users/jsukpk/Workstation/CSEM/cs395t-final-project/gym-results/train/rl-video-episode-10.mp4.\n",
      "Moviepy - Writing video /Users/jsukpk/Workstation/CSEM/cs395t-final-project/gym-results/train/rl-video-episode-10.mp4\n",
      "\n"
     ]
    },
    {
     "name": "stderr",
     "output_type": "stream",
     "text": [
      "                                                               \r"
     ]
    },
    {
     "name": "stdout",
     "output_type": "stream",
     "text": [
      "Moviepy - Done !\n",
      "Moviepy - video ready /Users/jsukpk/Workstation/CSEM/cs395t-final-project/gym-results/train/rl-video-episode-10.mp4\n",
      "Moviepy - Building video /Users/jsukpk/Workstation/CSEM/cs395t-final-project/gym-results/train/rl-video-episode-11.mp4.\n",
      "Moviepy - Writing video /Users/jsukpk/Workstation/CSEM/cs395t-final-project/gym-results/train/rl-video-episode-11.mp4\n",
      "\n"
     ]
    },
    {
     "name": "stderr",
     "output_type": "stream",
     "text": [
      "                                                               \r"
     ]
    },
    {
     "name": "stdout",
     "output_type": "stream",
     "text": [
      "Moviepy - Done !\n",
      "Moviepy - video ready /Users/jsukpk/Workstation/CSEM/cs395t-final-project/gym-results/train/rl-video-episode-11.mp4\n",
      "----------------------------------------\n",
      "| rollout/                |            |\n",
      "|    ep_len_mean          | 502        |\n",
      "|    ep_rew_mean          | -501       |\n",
      "| time/                   |            |\n",
      "|    fps                  | 112        |\n",
      "|    iterations           | 3          |\n",
      "|    time_elapsed         | 54         |\n",
      "|    total_timesteps      | 6144       |\n",
      "| train/                  |            |\n",
      "|    approx_kl            | 0.00415776 |\n",
      "|    clip_fraction        | 0.00229    |\n",
      "|    clip_range           | 0.2        |\n",
      "|    entropy_loss         | -1.09      |\n",
      "|    explained_variance   | 0.00241    |\n",
      "|    learning_rate        | 0.0003     |\n",
      "|    loss                 | 21.7       |\n",
      "|    n_updates            | 20         |\n",
      "|    policy_gradient_loss | -0.00096   |\n",
      "|    value_loss           | 109        |\n",
      "----------------------------------------\n",
      "Moviepy - Building video /Users/jsukpk/Workstation/CSEM/cs395t-final-project/gym-results/train/rl-video-episode-12.mp4.\n",
      "Moviepy - Writing video /Users/jsukpk/Workstation/CSEM/cs395t-final-project/gym-results/train/rl-video-episode-12.mp4\n",
      "\n"
     ]
    },
    {
     "name": "stderr",
     "output_type": "stream",
     "text": [
      "                                                               \r"
     ]
    },
    {
     "name": "stdout",
     "output_type": "stream",
     "text": [
      "Moviepy - Done !\n",
      "Moviepy - video ready /Users/jsukpk/Workstation/CSEM/cs395t-final-project/gym-results/train/rl-video-episode-12.mp4\n",
      "Moviepy - Building video /Users/jsukpk/Workstation/CSEM/cs395t-final-project/gym-results/train/rl-video-episode-13.mp4.\n",
      "Moviepy - Writing video /Users/jsukpk/Workstation/CSEM/cs395t-final-project/gym-results/train/rl-video-episode-13.mp4\n",
      "\n"
     ]
    },
    {
     "name": "stderr",
     "output_type": "stream",
     "text": [
      "                                                               \r"
     ]
    },
    {
     "name": "stdout",
     "output_type": "stream",
     "text": [
      "Moviepy - Done !\n",
      "Moviepy - video ready /Users/jsukpk/Workstation/CSEM/cs395t-final-project/gym-results/train/rl-video-episode-13.mp4\n",
      "Moviepy - Building video /Users/jsukpk/Workstation/CSEM/cs395t-final-project/gym-results/train/rl-video-episode-14.mp4.\n",
      "Moviepy - Writing video /Users/jsukpk/Workstation/CSEM/cs395t-final-project/gym-results/train/rl-video-episode-14.mp4\n",
      "\n"
     ]
    },
    {
     "name": "stderr",
     "output_type": "stream",
     "text": [
      "                                                               \r"
     ]
    },
    {
     "name": "stdout",
     "output_type": "stream",
     "text": [
      "Moviepy - Done !\n",
      "Moviepy - video ready /Users/jsukpk/Workstation/CSEM/cs395t-final-project/gym-results/train/rl-video-episode-14.mp4\n",
      "Moviepy - Building video /Users/jsukpk/Workstation/CSEM/cs395t-final-project/gym-results/train/rl-video-episode-15.mp4.\n",
      "Moviepy - Writing video /Users/jsukpk/Workstation/CSEM/cs395t-final-project/gym-results/train/rl-video-episode-15.mp4\n",
      "\n"
     ]
    },
    {
     "name": "stderr",
     "output_type": "stream",
     "text": [
      "                                                               \r"
     ]
    },
    {
     "name": "stdout",
     "output_type": "stream",
     "text": [
      "Moviepy - Done !\n",
      "Moviepy - video ready /Users/jsukpk/Workstation/CSEM/cs395t-final-project/gym-results/train/rl-video-episode-15.mp4\n",
      "-----------------------------------------\n",
      "| rollout/                |             |\n",
      "|    ep_len_mean          | 504         |\n",
      "|    ep_rew_mean          | -504        |\n",
      "| time/                   |             |\n",
      "|    fps                  | 112         |\n",
      "|    iterations           | 4           |\n",
      "|    time_elapsed         | 73          |\n",
      "|    total_timesteps      | 8192        |\n",
      "| train/                  |             |\n",
      "|    approx_kl            | 0.010258328 |\n",
      "|    clip_fraction        | 0.0551      |\n",
      "|    clip_range           | 0.2         |\n",
      "|    entropy_loss         | -1.09       |\n",
      "|    explained_variance   | 0.0025      |\n",
      "|    learning_rate        | 0.0003      |\n",
      "|    loss                 | 20.8        |\n",
      "|    n_updates            | 30          |\n",
      "|    policy_gradient_loss | -0.00454    |\n",
      "|    value_loss           | 98.8        |\n",
      "-----------------------------------------\n",
      "Moviepy - Building video /Users/jsukpk/Workstation/CSEM/cs395t-final-project/gym-results/train/rl-video-episode-16.mp4.\n",
      "Moviepy - Writing video /Users/jsukpk/Workstation/CSEM/cs395t-final-project/gym-results/train/rl-video-episode-16.mp4\n",
      "\n"
     ]
    },
    {
     "name": "stderr",
     "output_type": "stream",
     "text": [
      "                                                               \r"
     ]
    },
    {
     "name": "stdout",
     "output_type": "stream",
     "text": [
      "Moviepy - Done !\n",
      "Moviepy - video ready /Users/jsukpk/Workstation/CSEM/cs395t-final-project/gym-results/train/rl-video-episode-16.mp4\n",
      "Moviepy - Building video /Users/jsukpk/Workstation/CSEM/cs395t-final-project/gym-results/train/rl-video-episode-17.mp4.\n",
      "Moviepy - Writing video /Users/jsukpk/Workstation/CSEM/cs395t-final-project/gym-results/train/rl-video-episode-17.mp4\n",
      "\n"
     ]
    },
    {
     "name": "stderr",
     "output_type": "stream",
     "text": [
      "                                                               \r"
     ]
    },
    {
     "name": "stdout",
     "output_type": "stream",
     "text": [
      "Moviepy - Done !\n",
      "Moviepy - video ready /Users/jsukpk/Workstation/CSEM/cs395t-final-project/gym-results/train/rl-video-episode-17.mp4\n",
      "Moviepy - Building video /Users/jsukpk/Workstation/CSEM/cs395t-final-project/gym-results/train/rl-video-episode-18.mp4.\n",
      "Moviepy - Writing video /Users/jsukpk/Workstation/CSEM/cs395t-final-project/gym-results/train/rl-video-episode-18.mp4\n",
      "\n"
     ]
    },
    {
     "name": "stderr",
     "output_type": "stream",
     "text": [
      "                                                               \r"
     ]
    },
    {
     "name": "stdout",
     "output_type": "stream",
     "text": [
      "Moviepy - Done !\n",
      "Moviepy - video ready /Users/jsukpk/Workstation/CSEM/cs395t-final-project/gym-results/train/rl-video-episode-18.mp4\n",
      "Moviepy - Building video /Users/jsukpk/Workstation/CSEM/cs395t-final-project/gym-results/train/rl-video-episode-19.mp4.\n",
      "Moviepy - Writing video /Users/jsukpk/Workstation/CSEM/cs395t-final-project/gym-results/train/rl-video-episode-19.mp4\n",
      "\n"
     ]
    },
    {
     "name": "stderr",
     "output_type": "stream",
     "text": [
      "                                                               \r"
     ]
    },
    {
     "name": "stdout",
     "output_type": "stream",
     "text": [
      "Moviepy - Done !\n",
      "Moviepy - video ready /Users/jsukpk/Workstation/CSEM/cs395t-final-project/gym-results/train/rl-video-episode-19.mp4\n",
      "-----------------------------------------\n",
      "| rollout/                |             |\n",
      "|    ep_len_mean          | 506         |\n",
      "|    ep_rew_mean          | -506        |\n",
      "| time/                   |             |\n",
      "|    fps                  | 112         |\n",
      "|    iterations           | 5           |\n",
      "|    time_elapsed         | 91          |\n",
      "|    total_timesteps      | 10240       |\n",
      "| train/                  |             |\n",
      "|    approx_kl            | 0.009465012 |\n",
      "|    clip_fraction        | 0.0242      |\n",
      "|    clip_range           | 0.2         |\n",
      "|    entropy_loss         | -1.09       |\n",
      "|    explained_variance   | -0.00254    |\n",
      "|    learning_rate        | 0.0003      |\n",
      "|    loss                 | 15.7        |\n",
      "|    n_updates            | 40          |\n",
      "|    policy_gradient_loss | -0.00291    |\n",
      "|    value_loss           | 79.4        |\n",
      "-----------------------------------------\n",
      "Moviepy - Building video /Users/jsukpk/Workstation/CSEM/cs395t-final-project/gym-results/train/rl-video-episode-20.mp4.\n",
      "Moviepy - Writing video /Users/jsukpk/Workstation/CSEM/cs395t-final-project/gym-results/train/rl-video-episode-20.mp4\n",
      "\n"
     ]
    },
    {
     "name": "stderr",
     "output_type": "stream",
     "text": [
      "                                                               \r"
     ]
    },
    {
     "name": "stdout",
     "output_type": "stream",
     "text": [
      "Moviepy - Done !\n",
      "Moviepy - video ready /Users/jsukpk/Workstation/CSEM/cs395t-final-project/gym-results/train/rl-video-episode-20.mp4\n"
     ]
    }
   ],
   "source": [
    "import os\n",
    "import shutil\n",
    "\n",
    "import gymnasium as gym\n",
    "from gymnasium.wrappers import RecordVideo\n",
    "from stable_baselines3 import PPO\n",
    "\n",
    "# Initialize video recording output directory\n",
    "output_folder = os.path.join(os.getcwd(), 'gym-results')\n",
    "os.makedirs(output_folder, exist_ok=True)\n",
    "\n",
    "train_output_folder = os.path.join(output_folder, 'train')\n",
    "shutil.rmtree(train_output_folder, ignore_errors=True)\n",
    "os.makedirs(train_output_folder, exist_ok=True)\n",
    "\n",
    "# Environment\n",
    "env = RecordVideo(\n",
    "    gym.make(\"Acrobot-v1\", max_episode_steps=512, render_mode=\"rgb_array\"),\n",
    "    train_output_folder,\n",
    "    episode_trigger=(lambda episode_id: True),\n",
    ")\n",
    "# Train a policy\n",
    "model = PPO(\"MlpPolicy\", env, verbose=1, seed=0).learn(total_timesteps=10000)\n",
    "env.close()"
   ]
  },
  {
   "cell_type": "code",
   "execution_count": 2,
   "metadata": {},
   "outputs": [
    {
     "name": "stderr",
     "output_type": "stream",
     "text": [
      "/Users/jsukpk/Workstation/CSEM/cs395t-final-project/.env/lib/python3.10/site-packages/gymnasium/wrappers/record_video.py:94: UserWarning: \u001b[33mWARN: Overwriting existing videos at /Users/jsukpk/Workstation/CSEM/cs395t-final-project/gym-results/test folder (try specifying a different `video_folder` for the `RecordVideo` wrapper if this is not desired)\u001b[0m\n",
      "  logger.warn(\n"
     ]
    },
    {
     "name": "stdout",
     "output_type": "stream",
     "text": [
      "Moviepy - Building video /Users/jsukpk/Workstation/CSEM/cs395t-final-project/gym-results/test/rl-video-episode-0.mp4.\n",
      "Moviepy - Writing video /Users/jsukpk/Workstation/CSEM/cs395t-final-project/gym-results/test/rl-video-episode-0.mp4\n",
      "\n"
     ]
    },
    {
     "name": "stderr",
     "output_type": "stream",
     "text": [
      "                                                               \r"
     ]
    },
    {
     "name": "stdout",
     "output_type": "stream",
     "text": [
      "Moviepy - Done !\n",
      "Moviepy - video ready /Users/jsukpk/Workstation/CSEM/cs395t-final-project/gym-results/test/rl-video-episode-0.mp4\n",
      "Moviepy - Building video /Users/jsukpk/Workstation/CSEM/cs395t-final-project/gym-results/test/rl-video-episode-1.mp4.\n",
      "Moviepy - Writing video /Users/jsukpk/Workstation/CSEM/cs395t-final-project/gym-results/test/rl-video-episode-1.mp4\n",
      "\n"
     ]
    },
    {
     "name": "stderr",
     "output_type": "stream",
     "text": [
      "                                                               \r"
     ]
    },
    {
     "name": "stdout",
     "output_type": "stream",
     "text": [
      "Moviepy - Done !\n",
      "Moviepy - video ready /Users/jsukpk/Workstation/CSEM/cs395t-final-project/gym-results/test/rl-video-episode-1.mp4\n",
      "Moviepy - Building video /Users/jsukpk/Workstation/CSEM/cs395t-final-project/gym-results/test/rl-video-episode-2.mp4.\n",
      "Moviepy - Writing video /Users/jsukpk/Workstation/CSEM/cs395t-final-project/gym-results/test/rl-video-episode-2.mp4\n",
      "\n"
     ]
    },
    {
     "name": "stderr",
     "output_type": "stream",
     "text": [
      "                                                               \r"
     ]
    },
    {
     "name": "stdout",
     "output_type": "stream",
     "text": [
      "Moviepy - Done !\n",
      "Moviepy - video ready /Users/jsukpk/Workstation/CSEM/cs395t-final-project/gym-results/test/rl-video-episode-2.mp4\n",
      "Moviepy - Building video /Users/jsukpk/Workstation/CSEM/cs395t-final-project/gym-results/test/rl-video-episode-3.mp4.\n",
      "Moviepy - Writing video /Users/jsukpk/Workstation/CSEM/cs395t-final-project/gym-results/test/rl-video-episode-3.mp4\n",
      "\n"
     ]
    },
    {
     "name": "stderr",
     "output_type": "stream",
     "text": [
      "                                                               \r"
     ]
    },
    {
     "name": "stdout",
     "output_type": "stream",
     "text": [
      "Moviepy - Done !\n",
      "Moviepy - video ready /Users/jsukpk/Workstation/CSEM/cs395t-final-project/gym-results/test/rl-video-episode-3.mp4\n",
      "Moviepy - Building video /Users/jsukpk/Workstation/CSEM/cs395t-final-project/gym-results/test/rl-video-episode-4.mp4.\n",
      "Moviepy - Writing video /Users/jsukpk/Workstation/CSEM/cs395t-final-project/gym-results/test/rl-video-episode-4.mp4\n",
      "\n"
     ]
    },
    {
     "name": "stderr",
     "output_type": "stream",
     "text": [
      "                                                               \r"
     ]
    },
    {
     "name": "stdout",
     "output_type": "stream",
     "text": [
      "Moviepy - Done !\n",
      "Moviepy - video ready /Users/jsukpk/Workstation/CSEM/cs395t-final-project/gym-results/test/rl-video-episode-4.mp4\n",
      "Moviepy - Building video /Users/jsukpk/Workstation/CSEM/cs395t-final-project/gym-results/test/rl-video-episode-5.mp4.\n",
      "Moviepy - Writing video /Users/jsukpk/Workstation/CSEM/cs395t-final-project/gym-results/test/rl-video-episode-5.mp4\n",
      "\n"
     ]
    },
    {
     "name": "stderr",
     "output_type": "stream",
     "text": [
      "                                                               \r"
     ]
    },
    {
     "name": "stdout",
     "output_type": "stream",
     "text": [
      "Moviepy - Done !\n",
      "Moviepy - video ready /Users/jsukpk/Workstation/CSEM/cs395t-final-project/gym-results/test/rl-video-episode-5.mp4\n",
      "Moviepy - Building video /Users/jsukpk/Workstation/CSEM/cs395t-final-project/gym-results/test/rl-video-episode-6.mp4.\n",
      "Moviepy - Writing video /Users/jsukpk/Workstation/CSEM/cs395t-final-project/gym-results/test/rl-video-episode-6.mp4\n",
      "\n"
     ]
    },
    {
     "name": "stderr",
     "output_type": "stream",
     "text": [
      "                                                               \r"
     ]
    },
    {
     "name": "stdout",
     "output_type": "stream",
     "text": [
      "Moviepy - Done !\n",
      "Moviepy - video ready /Users/jsukpk/Workstation/CSEM/cs395t-final-project/gym-results/test/rl-video-episode-6.mp4\n",
      "Moviepy - Building video /Users/jsukpk/Workstation/CSEM/cs395t-final-project/gym-results/test/rl-video-episode-7.mp4.\n",
      "Moviepy - Writing video /Users/jsukpk/Workstation/CSEM/cs395t-final-project/gym-results/test/rl-video-episode-7.mp4\n",
      "\n"
     ]
    },
    {
     "name": "stderr",
     "output_type": "stream",
     "text": [
      "                                                               \r"
     ]
    },
    {
     "name": "stdout",
     "output_type": "stream",
     "text": [
      "Moviepy - Done !\n",
      "Moviepy - video ready /Users/jsukpk/Workstation/CSEM/cs395t-final-project/gym-results/test/rl-video-episode-7.mp4\n",
      "Moviepy - Building video /Users/jsukpk/Workstation/CSEM/cs395t-final-project/gym-results/test/rl-video-episode-8.mp4.\n",
      "Moviepy - Writing video /Users/jsukpk/Workstation/CSEM/cs395t-final-project/gym-results/test/rl-video-episode-8.mp4\n",
      "\n"
     ]
    },
    {
     "name": "stderr",
     "output_type": "stream",
     "text": [
      "                                                               \r"
     ]
    },
    {
     "name": "stdout",
     "output_type": "stream",
     "text": [
      "Moviepy - Done !\n",
      "Moviepy - video ready /Users/jsukpk/Workstation/CSEM/cs395t-final-project/gym-results/test/rl-video-episode-8.mp4\n",
      "Moviepy - Building video /Users/jsukpk/Workstation/CSEM/cs395t-final-project/gym-results/test/rl-video-episode-9.mp4.\n",
      "Moviepy - Writing video /Users/jsukpk/Workstation/CSEM/cs395t-final-project/gym-results/test/rl-video-episode-9.mp4\n",
      "\n"
     ]
    },
    {
     "name": "stderr",
     "output_type": "stream",
     "text": [
      "                                                               \r"
     ]
    },
    {
     "name": "stdout",
     "output_type": "stream",
     "text": [
      "Moviepy - Done !\n",
      "Moviepy - video ready /Users/jsukpk/Workstation/CSEM/cs395t-final-project/gym-results/test/rl-video-episode-9.mp4\n",
      "Moviepy - Building video /Users/jsukpk/Workstation/CSEM/cs395t-final-project/gym-results/test/rl-video-episode-10.mp4.\n",
      "Moviepy - Writing video /Users/jsukpk/Workstation/CSEM/cs395t-final-project/gym-results/test/rl-video-episode-10.mp4\n",
      "\n"
     ]
    },
    {
     "name": "stderr",
     "output_type": "stream",
     "text": [
      "                                                               \r"
     ]
    },
    {
     "name": "stdout",
     "output_type": "stream",
     "text": [
      "Moviepy - Done !\n",
      "Moviepy - video ready /Users/jsukpk/Workstation/CSEM/cs395t-final-project/gym-results/test/rl-video-episode-10.mp4\n",
      "Moviepy - Building video /Users/jsukpk/Workstation/CSEM/cs395t-final-project/gym-results/test/rl-video-episode-11.mp4.\n",
      "Moviepy - Writing video /Users/jsukpk/Workstation/CSEM/cs395t-final-project/gym-results/test/rl-video-episode-11.mp4\n",
      "\n"
     ]
    },
    {
     "name": "stderr",
     "output_type": "stream",
     "text": [
      "                                                               \r"
     ]
    },
    {
     "name": "stdout",
     "output_type": "stream",
     "text": [
      "Moviepy - Done !\n",
      "Moviepy - video ready /Users/jsukpk/Workstation/CSEM/cs395t-final-project/gym-results/test/rl-video-episode-11.mp4\n",
      "Moviepy - Building video /Users/jsukpk/Workstation/CSEM/cs395t-final-project/gym-results/test/rl-video-episode-12.mp4.\n",
      "Moviepy - Writing video /Users/jsukpk/Workstation/CSEM/cs395t-final-project/gym-results/test/rl-video-episode-12.mp4\n",
      "\n"
     ]
    },
    {
     "name": "stderr",
     "output_type": "stream",
     "text": [
      "                                                               \r"
     ]
    },
    {
     "name": "stdout",
     "output_type": "stream",
     "text": [
      "Moviepy - Done !\n",
      "Moviepy - video ready /Users/jsukpk/Workstation/CSEM/cs395t-final-project/gym-results/test/rl-video-episode-12.mp4\n",
      "Moviepy - Building video /Users/jsukpk/Workstation/CSEM/cs395t-final-project/gym-results/test/rl-video-episode-13.mp4.\n",
      "Moviepy - Writing video /Users/jsukpk/Workstation/CSEM/cs395t-final-project/gym-results/test/rl-video-episode-13.mp4\n",
      "\n"
     ]
    },
    {
     "name": "stderr",
     "output_type": "stream",
     "text": [
      "                                                               \r"
     ]
    },
    {
     "name": "stdout",
     "output_type": "stream",
     "text": [
      "Moviepy - Done !\n",
      "Moviepy - video ready /Users/jsukpk/Workstation/CSEM/cs395t-final-project/gym-results/test/rl-video-episode-13.mp4\n",
      "Moviepy - Building video /Users/jsukpk/Workstation/CSEM/cs395t-final-project/gym-results/test/rl-video-episode-14.mp4.\n",
      "Moviepy - Writing video /Users/jsukpk/Workstation/CSEM/cs395t-final-project/gym-results/test/rl-video-episode-14.mp4\n",
      "\n"
     ]
    },
    {
     "name": "stderr",
     "output_type": "stream",
     "text": [
      "                                                               \r"
     ]
    },
    {
     "name": "stdout",
     "output_type": "stream",
     "text": [
      "Moviepy - Done !\n",
      "Moviepy - video ready /Users/jsukpk/Workstation/CSEM/cs395t-final-project/gym-results/test/rl-video-episode-14.mp4\n",
      "Moviepy - Building video /Users/jsukpk/Workstation/CSEM/cs395t-final-project/gym-results/test/rl-video-episode-15.mp4.\n",
      "Moviepy - Writing video /Users/jsukpk/Workstation/CSEM/cs395t-final-project/gym-results/test/rl-video-episode-15.mp4\n",
      "\n"
     ]
    },
    {
     "name": "stderr",
     "output_type": "stream",
     "text": [
      "                                                               \r"
     ]
    },
    {
     "name": "stdout",
     "output_type": "stream",
     "text": [
      "Moviepy - Done !\n",
      "Moviepy - video ready /Users/jsukpk/Workstation/CSEM/cs395t-final-project/gym-results/test/rl-video-episode-15.mp4\n",
      "Moviepy - Building video /Users/jsukpk/Workstation/CSEM/cs395t-final-project/gym-results/test/rl-video-episode-16.mp4.\n",
      "Moviepy - Writing video /Users/jsukpk/Workstation/CSEM/cs395t-final-project/gym-results/test/rl-video-episode-16.mp4\n",
      "\n"
     ]
    },
    {
     "name": "stderr",
     "output_type": "stream",
     "text": [
      "                                                               \r"
     ]
    },
    {
     "name": "stdout",
     "output_type": "stream",
     "text": [
      "Moviepy - Done !\n",
      "Moviepy - video ready /Users/jsukpk/Workstation/CSEM/cs395t-final-project/gym-results/test/rl-video-episode-16.mp4\n",
      "Moviepy - Building video /Users/jsukpk/Workstation/CSEM/cs395t-final-project/gym-results/test/rl-video-episode-17.mp4.\n",
      "Moviepy - Writing video /Users/jsukpk/Workstation/CSEM/cs395t-final-project/gym-results/test/rl-video-episode-17.mp4\n",
      "\n"
     ]
    },
    {
     "name": "stderr",
     "output_type": "stream",
     "text": [
      "                                                               \r"
     ]
    },
    {
     "name": "stdout",
     "output_type": "stream",
     "text": [
      "Moviepy - Done !\n",
      "Moviepy - video ready /Users/jsukpk/Workstation/CSEM/cs395t-final-project/gym-results/test/rl-video-episode-17.mp4\n",
      "Moviepy - Building video /Users/jsukpk/Workstation/CSEM/cs395t-final-project/gym-results/test/rl-video-episode-18.mp4.\n",
      "Moviepy - Writing video /Users/jsukpk/Workstation/CSEM/cs395t-final-project/gym-results/test/rl-video-episode-18.mp4\n",
      "\n"
     ]
    },
    {
     "name": "stderr",
     "output_type": "stream",
     "text": [
      "                                                               \r"
     ]
    },
    {
     "name": "stdout",
     "output_type": "stream",
     "text": [
      "Moviepy - Done !\n",
      "Moviepy - video ready /Users/jsukpk/Workstation/CSEM/cs395t-final-project/gym-results/test/rl-video-episode-18.mp4\n",
      "Moviepy - Building video /Users/jsukpk/Workstation/CSEM/cs395t-final-project/gym-results/test/rl-video-episode-19.mp4.\n",
      "Moviepy - Writing video /Users/jsukpk/Workstation/CSEM/cs395t-final-project/gym-results/test/rl-video-episode-19.mp4\n",
      "\n"
     ]
    },
    {
     "name": "stderr",
     "output_type": "stream",
     "text": [
      "                                                               \r"
     ]
    },
    {
     "name": "stdout",
     "output_type": "stream",
     "text": [
      "Moviepy - Done !\n",
      "Moviepy - video ready /Users/jsukpk/Workstation/CSEM/cs395t-final-project/gym-results/test/rl-video-episode-19.mp4\n",
      "Moviepy - Building video /Users/jsukpk/Workstation/CSEM/cs395t-final-project/gym-results/test/rl-video-episode-20.mp4.\n",
      "Moviepy - Writing video /Users/jsukpk/Workstation/CSEM/cs395t-final-project/gym-results/test/rl-video-episode-20.mp4\n",
      "\n"
     ]
    },
    {
     "name": "stderr",
     "output_type": "stream",
     "text": [
      "                                                               \r"
     ]
    },
    {
     "name": "stdout",
     "output_type": "stream",
     "text": [
      "Moviepy - Done !\n",
      "Moviepy - video ready /Users/jsukpk/Workstation/CSEM/cs395t-final-project/gym-results/test/rl-video-episode-20.mp4\n",
      "Moviepy - Building video /Users/jsukpk/Workstation/CSEM/cs395t-final-project/gym-results/test/rl-video-episode-21.mp4.\n",
      "Moviepy - Writing video /Users/jsukpk/Workstation/CSEM/cs395t-final-project/gym-results/test/rl-video-episode-21.mp4\n",
      "\n"
     ]
    },
    {
     "name": "stderr",
     "output_type": "stream",
     "text": [
      "                                                               \r"
     ]
    },
    {
     "name": "stdout",
     "output_type": "stream",
     "text": [
      "Moviepy - Done !\n",
      "Moviepy - video ready /Users/jsukpk/Workstation/CSEM/cs395t-final-project/gym-results/test/rl-video-episode-21.mp4\n",
      "Moviepy - Building video /Users/jsukpk/Workstation/CSEM/cs395t-final-project/gym-results/test/rl-video-episode-22.mp4.\n",
      "Moviepy - Writing video /Users/jsukpk/Workstation/CSEM/cs395t-final-project/gym-results/test/rl-video-episode-22.mp4\n",
      "\n"
     ]
    },
    {
     "name": "stderr",
     "output_type": "stream",
     "text": [
      "                                                               \r"
     ]
    },
    {
     "name": "stdout",
     "output_type": "stream",
     "text": [
      "Moviepy - Done !\n",
      "Moviepy - video ready /Users/jsukpk/Workstation/CSEM/cs395t-final-project/gym-results/test/rl-video-episode-22.mp4\n",
      "Moviepy - Building video /Users/jsukpk/Workstation/CSEM/cs395t-final-project/gym-results/test/rl-video-episode-23.mp4.\n",
      "Moviepy - Writing video /Users/jsukpk/Workstation/CSEM/cs395t-final-project/gym-results/test/rl-video-episode-23.mp4\n",
      "\n"
     ]
    },
    {
     "name": "stderr",
     "output_type": "stream",
     "text": [
      "                                                               \r"
     ]
    },
    {
     "name": "stdout",
     "output_type": "stream",
     "text": [
      "Moviepy - Done !\n",
      "Moviepy - video ready /Users/jsukpk/Workstation/CSEM/cs395t-final-project/gym-results/test/rl-video-episode-23.mp4\n",
      "Moviepy - Building video /Users/jsukpk/Workstation/CSEM/cs395t-final-project/gym-results/test/rl-video-episode-24.mp4.\n",
      "Moviepy - Writing video /Users/jsukpk/Workstation/CSEM/cs395t-final-project/gym-results/test/rl-video-episode-24.mp4\n",
      "\n"
     ]
    },
    {
     "name": "stderr",
     "output_type": "stream",
     "text": [
      "                                                               \r"
     ]
    },
    {
     "name": "stdout",
     "output_type": "stream",
     "text": [
      "Moviepy - Done !\n",
      "Moviepy - video ready /Users/jsukpk/Workstation/CSEM/cs395t-final-project/gym-results/test/rl-video-episode-24.mp4\n",
      "Moviepy - Building video /Users/jsukpk/Workstation/CSEM/cs395t-final-project/gym-results/test/rl-video-episode-25.mp4.\n",
      "Moviepy - Writing video /Users/jsukpk/Workstation/CSEM/cs395t-final-project/gym-results/test/rl-video-episode-25.mp4\n",
      "\n"
     ]
    },
    {
     "name": "stderr",
     "output_type": "stream",
     "text": [
      "                                                               \r"
     ]
    },
    {
     "name": "stdout",
     "output_type": "stream",
     "text": [
      "Moviepy - Done !\n",
      "Moviepy - video ready /Users/jsukpk/Workstation/CSEM/cs395t-final-project/gym-results/test/rl-video-episode-25.mp4\n",
      "Moviepy - Building video /Users/jsukpk/Workstation/CSEM/cs395t-final-project/gym-results/test/rl-video-episode-26.mp4.\n",
      "Moviepy - Writing video /Users/jsukpk/Workstation/CSEM/cs395t-final-project/gym-results/test/rl-video-episode-26.mp4\n",
      "\n"
     ]
    },
    {
     "name": "stderr",
     "output_type": "stream",
     "text": [
      "                                                               \r"
     ]
    },
    {
     "name": "stdout",
     "output_type": "stream",
     "text": [
      "Moviepy - Done !\n",
      "Moviepy - video ready /Users/jsukpk/Workstation/CSEM/cs395t-final-project/gym-results/test/rl-video-episode-26.mp4\n",
      "Moviepy - Building video /Users/jsukpk/Workstation/CSEM/cs395t-final-project/gym-results/test/rl-video-episode-27.mp4.\n",
      "Moviepy - Writing video /Users/jsukpk/Workstation/CSEM/cs395t-final-project/gym-results/test/rl-video-episode-27.mp4\n",
      "\n"
     ]
    },
    {
     "name": "stderr",
     "output_type": "stream",
     "text": [
      "                                                               \r"
     ]
    },
    {
     "name": "stdout",
     "output_type": "stream",
     "text": [
      "Moviepy - Done !\n",
      "Moviepy - video ready /Users/jsukpk/Workstation/CSEM/cs395t-final-project/gym-results/test/rl-video-episode-27.mp4\n",
      "Moviepy - Building video /Users/jsukpk/Workstation/CSEM/cs395t-final-project/gym-results/test/rl-video-episode-28.mp4.\n",
      "Moviepy - Writing video /Users/jsukpk/Workstation/CSEM/cs395t-final-project/gym-results/test/rl-video-episode-28.mp4\n",
      "\n"
     ]
    },
    {
     "name": "stderr",
     "output_type": "stream",
     "text": [
      "                                                               \r"
     ]
    },
    {
     "name": "stdout",
     "output_type": "stream",
     "text": [
      "Moviepy - Done !\n",
      "Moviepy - video ready /Users/jsukpk/Workstation/CSEM/cs395t-final-project/gym-results/test/rl-video-episode-28.mp4\n",
      "Moviepy - Building video /Users/jsukpk/Workstation/CSEM/cs395t-final-project/gym-results/test/rl-video-episode-29.mp4.\n",
      "Moviepy - Writing video /Users/jsukpk/Workstation/CSEM/cs395t-final-project/gym-results/test/rl-video-episode-29.mp4\n",
      "\n"
     ]
    },
    {
     "name": "stderr",
     "output_type": "stream",
     "text": [
      "                                                               \r"
     ]
    },
    {
     "name": "stdout",
     "output_type": "stream",
     "text": [
      "Moviepy - Done !\n",
      "Moviepy - video ready /Users/jsukpk/Workstation/CSEM/cs395t-final-project/gym-results/test/rl-video-episode-29.mp4\n",
      "Moviepy - Building video /Users/jsukpk/Workstation/CSEM/cs395t-final-project/gym-results/test/rl-video-episode-30.mp4.\n",
      "Moviepy - Writing video /Users/jsukpk/Workstation/CSEM/cs395t-final-project/gym-results/test/rl-video-episode-30.mp4\n",
      "\n"
     ]
    },
    {
     "name": "stderr",
     "output_type": "stream",
     "text": [
      "                                                               \r"
     ]
    },
    {
     "name": "stdout",
     "output_type": "stream",
     "text": [
      "Moviepy - Done !\n",
      "Moviepy - video ready /Users/jsukpk/Workstation/CSEM/cs395t-final-project/gym-results/test/rl-video-episode-30.mp4\n",
      "Moviepy - Building video /Users/jsukpk/Workstation/CSEM/cs395t-final-project/gym-results/test/rl-video-episode-31.mp4.\n",
      "Moviepy - Writing video /Users/jsukpk/Workstation/CSEM/cs395t-final-project/gym-results/test/rl-video-episode-31.mp4\n",
      "\n"
     ]
    },
    {
     "name": "stderr",
     "output_type": "stream",
     "text": [
      "                                                               \r"
     ]
    },
    {
     "name": "stdout",
     "output_type": "stream",
     "text": [
      "Moviepy - Done !\n",
      "Moviepy - video ready /Users/jsukpk/Workstation/CSEM/cs395t-final-project/gym-results/test/rl-video-episode-31.mp4\n",
      "Moviepy - Building video /Users/jsukpk/Workstation/CSEM/cs395t-final-project/gym-results/test/rl-video-episode-32.mp4.\n",
      "Moviepy - Writing video /Users/jsukpk/Workstation/CSEM/cs395t-final-project/gym-results/test/rl-video-episode-32.mp4\n",
      "\n"
     ]
    },
    {
     "name": "stderr",
     "output_type": "stream",
     "text": [
      "                                                               \r"
     ]
    },
    {
     "name": "stdout",
     "output_type": "stream",
     "text": [
      "Moviepy - Done !\n",
      "Moviepy - video ready /Users/jsukpk/Workstation/CSEM/cs395t-final-project/gym-results/test/rl-video-episode-32.mp4\n",
      "Moviepy - Building video /Users/jsukpk/Workstation/CSEM/cs395t-final-project/gym-results/test/rl-video-episode-33.mp4.\n",
      "Moviepy - Writing video /Users/jsukpk/Workstation/CSEM/cs395t-final-project/gym-results/test/rl-video-episode-33.mp4\n",
      "\n"
     ]
    },
    {
     "name": "stderr",
     "output_type": "stream",
     "text": [
      "                                                               \r"
     ]
    },
    {
     "name": "stdout",
     "output_type": "stream",
     "text": [
      "Moviepy - Done !\n",
      "Moviepy - video ready /Users/jsukpk/Workstation/CSEM/cs395t-final-project/gym-results/test/rl-video-episode-33.mp4\n",
      "Moviepy - Building video /Users/jsukpk/Workstation/CSEM/cs395t-final-project/gym-results/test/rl-video-episode-34.mp4.\n",
      "Moviepy - Writing video /Users/jsukpk/Workstation/CSEM/cs395t-final-project/gym-results/test/rl-video-episode-34.mp4\n",
      "\n"
     ]
    },
    {
     "name": "stderr",
     "output_type": "stream",
     "text": [
      "                                                               \r"
     ]
    },
    {
     "name": "stdout",
     "output_type": "stream",
     "text": [
      "Moviepy - Done !\n",
      "Moviepy - video ready /Users/jsukpk/Workstation/CSEM/cs395t-final-project/gym-results/test/rl-video-episode-34.mp4\n",
      "Moviepy - Building video /Users/jsukpk/Workstation/CSEM/cs395t-final-project/gym-results/test/rl-video-episode-35.mp4.\n",
      "Moviepy - Writing video /Users/jsukpk/Workstation/CSEM/cs395t-final-project/gym-results/test/rl-video-episode-35.mp4\n",
      "\n"
     ]
    },
    {
     "name": "stderr",
     "output_type": "stream",
     "text": [
      "                                                               \r"
     ]
    },
    {
     "name": "stdout",
     "output_type": "stream",
     "text": [
      "Moviepy - Done !\n",
      "Moviepy - video ready /Users/jsukpk/Workstation/CSEM/cs395t-final-project/gym-results/test/rl-video-episode-35.mp4\n",
      "Moviepy - Building video /Users/jsukpk/Workstation/CSEM/cs395t-final-project/gym-results/test/rl-video-episode-36.mp4.\n",
      "Moviepy - Writing video /Users/jsukpk/Workstation/CSEM/cs395t-final-project/gym-results/test/rl-video-episode-36.mp4\n",
      "\n"
     ]
    },
    {
     "name": "stderr",
     "output_type": "stream",
     "text": [
      "                                                               \r"
     ]
    },
    {
     "name": "stdout",
     "output_type": "stream",
     "text": [
      "Moviepy - Done !\n",
      "Moviepy - video ready /Users/jsukpk/Workstation/CSEM/cs395t-final-project/gym-results/test/rl-video-episode-36.mp4\n",
      "Moviepy - Building video /Users/jsukpk/Workstation/CSEM/cs395t-final-project/gym-results/test/rl-video-episode-37.mp4.\n",
      "Moviepy - Writing video /Users/jsukpk/Workstation/CSEM/cs395t-final-project/gym-results/test/rl-video-episode-37.mp4\n",
      "\n"
     ]
    },
    {
     "name": "stderr",
     "output_type": "stream",
     "text": [
      "                                                               \r"
     ]
    },
    {
     "name": "stdout",
     "output_type": "stream",
     "text": [
      "Moviepy - Done !\n",
      "Moviepy - video ready /Users/jsukpk/Workstation/CSEM/cs395t-final-project/gym-results/test/rl-video-episode-37.mp4\n",
      "Moviepy - Building video /Users/jsukpk/Workstation/CSEM/cs395t-final-project/gym-results/test/rl-video-episode-38.mp4.\n",
      "Moviepy - Writing video /Users/jsukpk/Workstation/CSEM/cs395t-final-project/gym-results/test/rl-video-episode-38.mp4\n",
      "\n"
     ]
    },
    {
     "name": "stderr",
     "output_type": "stream",
     "text": [
      "                                                               \r"
     ]
    },
    {
     "name": "stdout",
     "output_type": "stream",
     "text": [
      "Moviepy - Done !\n",
      "Moviepy - video ready /Users/jsukpk/Workstation/CSEM/cs395t-final-project/gym-results/test/rl-video-episode-38.mp4\n",
      "Moviepy - Building video /Users/jsukpk/Workstation/CSEM/cs395t-final-project/gym-results/test/rl-video-episode-39.mp4.\n",
      "Moviepy - Writing video /Users/jsukpk/Workstation/CSEM/cs395t-final-project/gym-results/test/rl-video-episode-39.mp4\n",
      "\n"
     ]
    },
    {
     "name": "stderr",
     "output_type": "stream",
     "text": [
      "                                                               \r"
     ]
    },
    {
     "name": "stdout",
     "output_type": "stream",
     "text": [
      "Moviepy - Done !\n",
      "Moviepy - video ready /Users/jsukpk/Workstation/CSEM/cs395t-final-project/gym-results/test/rl-video-episode-39.mp4\n",
      "Moviepy - Building video /Users/jsukpk/Workstation/CSEM/cs395t-final-project/gym-results/test/rl-video-episode-40.mp4.\n",
      "Moviepy - Writing video /Users/jsukpk/Workstation/CSEM/cs395t-final-project/gym-results/test/rl-video-episode-40.mp4\n",
      "\n"
     ]
    },
    {
     "name": "stderr",
     "output_type": "stream",
     "text": [
      "                                                               \r"
     ]
    },
    {
     "name": "stdout",
     "output_type": "stream",
     "text": [
      "Moviepy - Done !\n",
      "Moviepy - video ready /Users/jsukpk/Workstation/CSEM/cs395t-final-project/gym-results/test/rl-video-episode-40.mp4\n",
      "Moviepy - Building video /Users/jsukpk/Workstation/CSEM/cs395t-final-project/gym-results/test/rl-video-episode-41.mp4.\n",
      "Moviepy - Writing video /Users/jsukpk/Workstation/CSEM/cs395t-final-project/gym-results/test/rl-video-episode-41.mp4\n",
      "\n"
     ]
    },
    {
     "name": "stderr",
     "output_type": "stream",
     "text": [
      "                                                               \r"
     ]
    },
    {
     "name": "stdout",
     "output_type": "stream",
     "text": [
      "Moviepy - Done !\n",
      "Moviepy - video ready /Users/jsukpk/Workstation/CSEM/cs395t-final-project/gym-results/test/rl-video-episode-41.mp4\n",
      "Moviepy - Building video /Users/jsukpk/Workstation/CSEM/cs395t-final-project/gym-results/test/rl-video-episode-42.mp4.\n",
      "Moviepy - Writing video /Users/jsukpk/Workstation/CSEM/cs395t-final-project/gym-results/test/rl-video-episode-42.mp4\n",
      "\n"
     ]
    },
    {
     "name": "stderr",
     "output_type": "stream",
     "text": [
      "                                                               \r"
     ]
    },
    {
     "name": "stdout",
     "output_type": "stream",
     "text": [
      "Moviepy - Done !\n",
      "Moviepy - video ready /Users/jsukpk/Workstation/CSEM/cs395t-final-project/gym-results/test/rl-video-episode-42.mp4\n",
      "Moviepy - Building video /Users/jsukpk/Workstation/CSEM/cs395t-final-project/gym-results/test/rl-video-episode-43.mp4.\n",
      "Moviepy - Writing video /Users/jsukpk/Workstation/CSEM/cs395t-final-project/gym-results/test/rl-video-episode-43.mp4\n",
      "\n"
     ]
    },
    {
     "name": "stderr",
     "output_type": "stream",
     "text": [
      "                                                               \r"
     ]
    },
    {
     "name": "stdout",
     "output_type": "stream",
     "text": [
      "Moviepy - Done !\n",
      "Moviepy - video ready /Users/jsukpk/Workstation/CSEM/cs395t-final-project/gym-results/test/rl-video-episode-43.mp4\n",
      "Moviepy - Building video /Users/jsukpk/Workstation/CSEM/cs395t-final-project/gym-results/test/rl-video-episode-44.mp4.\n",
      "Moviepy - Writing video /Users/jsukpk/Workstation/CSEM/cs395t-final-project/gym-results/test/rl-video-episode-44.mp4\n",
      "\n"
     ]
    },
    {
     "name": "stderr",
     "output_type": "stream",
     "text": [
      "                                                               \r"
     ]
    },
    {
     "name": "stdout",
     "output_type": "stream",
     "text": [
      "Moviepy - Done !\n",
      "Moviepy - video ready /Users/jsukpk/Workstation/CSEM/cs395t-final-project/gym-results/test/rl-video-episode-44.mp4\n",
      "Moviepy - Building video /Users/jsukpk/Workstation/CSEM/cs395t-final-project/gym-results/test/rl-video-episode-45.mp4.\n",
      "Moviepy - Writing video /Users/jsukpk/Workstation/CSEM/cs395t-final-project/gym-results/test/rl-video-episode-45.mp4\n",
      "\n"
     ]
    },
    {
     "name": "stderr",
     "output_type": "stream",
     "text": [
      "                                                              \r"
     ]
    },
    {
     "name": "stdout",
     "output_type": "stream",
     "text": [
      "Moviepy - Done !\n",
      "Moviepy - video ready /Users/jsukpk/Workstation/CSEM/cs395t-final-project/gym-results/test/rl-video-episode-45.mp4\n",
      "Moviepy - Building video /Users/jsukpk/Workstation/CSEM/cs395t-final-project/gym-results/test/rl-video-episode-46.mp4.\n",
      "Moviepy - Writing video /Users/jsukpk/Workstation/CSEM/cs395t-final-project/gym-results/test/rl-video-episode-46.mp4\n",
      "\n"
     ]
    },
    {
     "name": "stderr",
     "output_type": "stream",
     "text": [
      "                                                               \r"
     ]
    },
    {
     "name": "stdout",
     "output_type": "stream",
     "text": [
      "Moviepy - Done !\n",
      "Moviepy - video ready /Users/jsukpk/Workstation/CSEM/cs395t-final-project/gym-results/test/rl-video-episode-46.mp4\n",
      "Moviepy - Building video /Users/jsukpk/Workstation/CSEM/cs395t-final-project/gym-results/test/rl-video-episode-47.mp4.\n",
      "Moviepy - Writing video /Users/jsukpk/Workstation/CSEM/cs395t-final-project/gym-results/test/rl-video-episode-47.mp4\n",
      "\n"
     ]
    },
    {
     "name": "stderr",
     "output_type": "stream",
     "text": [
      "                                                               \r"
     ]
    },
    {
     "name": "stdout",
     "output_type": "stream",
     "text": [
      "Moviepy - Done !\n",
      "Moviepy - video ready /Users/jsukpk/Workstation/CSEM/cs395t-final-project/gym-results/test/rl-video-episode-47.mp4\n",
      "Moviepy - Building video /Users/jsukpk/Workstation/CSEM/cs395t-final-project/gym-results/test/rl-video-episode-48.mp4.\n",
      "Moviepy - Writing video /Users/jsukpk/Workstation/CSEM/cs395t-final-project/gym-results/test/rl-video-episode-48.mp4\n",
      "\n"
     ]
    },
    {
     "name": "stderr",
     "output_type": "stream",
     "text": [
      "                                                               \r"
     ]
    },
    {
     "name": "stdout",
     "output_type": "stream",
     "text": [
      "Moviepy - Done !\n",
      "Moviepy - video ready /Users/jsukpk/Workstation/CSEM/cs395t-final-project/gym-results/test/rl-video-episode-48.mp4\n",
      "Moviepy - Building video /Users/jsukpk/Workstation/CSEM/cs395t-final-project/gym-results/test/rl-video-episode-49.mp4.\n",
      "Moviepy - Writing video /Users/jsukpk/Workstation/CSEM/cs395t-final-project/gym-results/test/rl-video-episode-49.mp4\n",
      "\n"
     ]
    },
    {
     "name": "stderr",
     "output_type": "stream",
     "text": [
      "                                                               \r"
     ]
    },
    {
     "name": "stdout",
     "output_type": "stream",
     "text": [
      "Moviepy - Done !\n",
      "Moviepy - video ready /Users/jsukpk/Workstation/CSEM/cs395t-final-project/gym-results/test/rl-video-episode-49.mp4\n",
      "Moviepy - Building video /Users/jsukpk/Workstation/CSEM/cs395t-final-project/gym-results/test/rl-video-episode-50.mp4.\n",
      "Moviepy - Writing video /Users/jsukpk/Workstation/CSEM/cs395t-final-project/gym-results/test/rl-video-episode-50.mp4\n",
      "\n"
     ]
    },
    {
     "name": "stderr",
     "output_type": "stream",
     "text": [
      "                                                               \r"
     ]
    },
    {
     "name": "stdout",
     "output_type": "stream",
     "text": [
      "Moviepy - Done !\n",
      "Moviepy - video ready /Users/jsukpk/Workstation/CSEM/cs395t-final-project/gym-results/test/rl-video-episode-50.mp4\n",
      "Moviepy - Building video /Users/jsukpk/Workstation/CSEM/cs395t-final-project/gym-results/test/rl-video-episode-51.mp4.\n",
      "Moviepy - Writing video /Users/jsukpk/Workstation/CSEM/cs395t-final-project/gym-results/test/rl-video-episode-51.mp4\n",
      "\n"
     ]
    },
    {
     "name": "stderr",
     "output_type": "stream",
     "text": [
      "                                                               \r"
     ]
    },
    {
     "name": "stdout",
     "output_type": "stream",
     "text": [
      "Moviepy - Done !\n",
      "Moviepy - video ready /Users/jsukpk/Workstation/CSEM/cs395t-final-project/gym-results/test/rl-video-episode-51.mp4\n",
      "Moviepy - Building video /Users/jsukpk/Workstation/CSEM/cs395t-final-project/gym-results/test/rl-video-episode-52.mp4.\n",
      "Moviepy - Writing video /Users/jsukpk/Workstation/CSEM/cs395t-final-project/gym-results/test/rl-video-episode-52.mp4\n",
      "\n"
     ]
    },
    {
     "name": "stderr",
     "output_type": "stream",
     "text": [
      "                                                               \r"
     ]
    },
    {
     "name": "stdout",
     "output_type": "stream",
     "text": [
      "Moviepy - Done !\n",
      "Moviepy - video ready /Users/jsukpk/Workstation/CSEM/cs395t-final-project/gym-results/test/rl-video-episode-52.mp4\n",
      "Moviepy - Building video /Users/jsukpk/Workstation/CSEM/cs395t-final-project/gym-results/test/rl-video-episode-53.mp4.\n",
      "Moviepy - Writing video /Users/jsukpk/Workstation/CSEM/cs395t-final-project/gym-results/test/rl-video-episode-53.mp4\n",
      "\n"
     ]
    },
    {
     "name": "stderr",
     "output_type": "stream",
     "text": [
      "                                                               \r"
     ]
    },
    {
     "name": "stdout",
     "output_type": "stream",
     "text": [
      "Moviepy - Done !\n",
      "Moviepy - video ready /Users/jsukpk/Workstation/CSEM/cs395t-final-project/gym-results/test/rl-video-episode-53.mp4\n",
      "Moviepy - Building video /Users/jsukpk/Workstation/CSEM/cs395t-final-project/gym-results/test/rl-video-episode-54.mp4.\n",
      "Moviepy - Writing video /Users/jsukpk/Workstation/CSEM/cs395t-final-project/gym-results/test/rl-video-episode-54.mp4\n",
      "\n"
     ]
    },
    {
     "name": "stderr",
     "output_type": "stream",
     "text": [
      "                                                               \r"
     ]
    },
    {
     "name": "stdout",
     "output_type": "stream",
     "text": [
      "Moviepy - Done !\n",
      "Moviepy - video ready /Users/jsukpk/Workstation/CSEM/cs395t-final-project/gym-results/test/rl-video-episode-54.mp4\n",
      "Moviepy - Building video /Users/jsukpk/Workstation/CSEM/cs395t-final-project/gym-results/test/rl-video-episode-55.mp4.\n",
      "Moviepy - Writing video /Users/jsukpk/Workstation/CSEM/cs395t-final-project/gym-results/test/rl-video-episode-55.mp4\n",
      "\n"
     ]
    },
    {
     "name": "stderr",
     "output_type": "stream",
     "text": [
      "                                                               \r"
     ]
    },
    {
     "name": "stdout",
     "output_type": "stream",
     "text": [
      "Moviepy - Done !\n",
      "Moviepy - video ready /Users/jsukpk/Workstation/CSEM/cs395t-final-project/gym-results/test/rl-video-episode-55.mp4\n",
      "Moviepy - Building video /Users/jsukpk/Workstation/CSEM/cs395t-final-project/gym-results/test/rl-video-episode-56.mp4.\n",
      "Moviepy - Writing video /Users/jsukpk/Workstation/CSEM/cs395t-final-project/gym-results/test/rl-video-episode-56.mp4\n",
      "\n"
     ]
    },
    {
     "name": "stderr",
     "output_type": "stream",
     "text": [
      "                                                               \r"
     ]
    },
    {
     "name": "stdout",
     "output_type": "stream",
     "text": [
      "Moviepy - Done !\n",
      "Moviepy - video ready /Users/jsukpk/Workstation/CSEM/cs395t-final-project/gym-results/test/rl-video-episode-56.mp4\n",
      "Moviepy - Building video /Users/jsukpk/Workstation/CSEM/cs395t-final-project/gym-results/test/rl-video-episode-57.mp4.\n",
      "Moviepy - Writing video /Users/jsukpk/Workstation/CSEM/cs395t-final-project/gym-results/test/rl-video-episode-57.mp4\n",
      "\n"
     ]
    },
    {
     "name": "stderr",
     "output_type": "stream",
     "text": [
      "                                                               \r"
     ]
    },
    {
     "name": "stdout",
     "output_type": "stream",
     "text": [
      "Moviepy - Done !\n",
      "Moviepy - video ready /Users/jsukpk/Workstation/CSEM/cs395t-final-project/gym-results/test/rl-video-episode-57.mp4\n",
      "Moviepy - Building video /Users/jsukpk/Workstation/CSEM/cs395t-final-project/gym-results/test/rl-video-episode-58.mp4.\n",
      "Moviepy - Writing video /Users/jsukpk/Workstation/CSEM/cs395t-final-project/gym-results/test/rl-video-episode-58.mp4\n",
      "\n"
     ]
    },
    {
     "name": "stderr",
     "output_type": "stream",
     "text": [
      "                                                               \r"
     ]
    },
    {
     "name": "stdout",
     "output_type": "stream",
     "text": [
      "Moviepy - Done !\n",
      "Moviepy - video ready /Users/jsukpk/Workstation/CSEM/cs395t-final-project/gym-results/test/rl-video-episode-58.mp4\n",
      "Moviepy - Building video /Users/jsukpk/Workstation/CSEM/cs395t-final-project/gym-results/test/rl-video-episode-59.mp4.\n",
      "Moviepy - Writing video /Users/jsukpk/Workstation/CSEM/cs395t-final-project/gym-results/test/rl-video-episode-59.mp4\n",
      "\n"
     ]
    },
    {
     "name": "stderr",
     "output_type": "stream",
     "text": [
      "                                                               \r"
     ]
    },
    {
     "name": "stdout",
     "output_type": "stream",
     "text": [
      "Moviepy - Done !\n",
      "Moviepy - video ready /Users/jsukpk/Workstation/CSEM/cs395t-final-project/gym-results/test/rl-video-episode-59.mp4\n",
      "Moviepy - Building video /Users/jsukpk/Workstation/CSEM/cs395t-final-project/gym-results/test/rl-video-episode-60.mp4.\n",
      "Moviepy - Writing video /Users/jsukpk/Workstation/CSEM/cs395t-final-project/gym-results/test/rl-video-episode-60.mp4\n",
      "\n"
     ]
    },
    {
     "name": "stderr",
     "output_type": "stream",
     "text": [
      "                                                               \r"
     ]
    },
    {
     "name": "stdout",
     "output_type": "stream",
     "text": [
      "Moviepy - Done !\n",
      "Moviepy - video ready /Users/jsukpk/Workstation/CSEM/cs395t-final-project/gym-results/test/rl-video-episode-60.mp4\n",
      "Moviepy - Building video /Users/jsukpk/Workstation/CSEM/cs395t-final-project/gym-results/test/rl-video-episode-61.mp4.\n",
      "Moviepy - Writing video /Users/jsukpk/Workstation/CSEM/cs395t-final-project/gym-results/test/rl-video-episode-61.mp4\n",
      "\n"
     ]
    },
    {
     "name": "stderr",
     "output_type": "stream",
     "text": [
      "                                                               \r"
     ]
    },
    {
     "name": "stdout",
     "output_type": "stream",
     "text": [
      "Moviepy - Done !\n",
      "Moviepy - video ready /Users/jsukpk/Workstation/CSEM/cs395t-final-project/gym-results/test/rl-video-episode-61.mp4\n",
      "Moviepy - Building video /Users/jsukpk/Workstation/CSEM/cs395t-final-project/gym-results/test/rl-video-episode-62.mp4.\n",
      "Moviepy - Writing video /Users/jsukpk/Workstation/CSEM/cs395t-final-project/gym-results/test/rl-video-episode-62.mp4\n",
      "\n"
     ]
    },
    {
     "name": "stderr",
     "output_type": "stream",
     "text": [
      "                                                               \r"
     ]
    },
    {
     "name": "stdout",
     "output_type": "stream",
     "text": [
      "Moviepy - Done !\n",
      "Moviepy - video ready /Users/jsukpk/Workstation/CSEM/cs395t-final-project/gym-results/test/rl-video-episode-62.mp4\n",
      "Moviepy - Building video /Users/jsukpk/Workstation/CSEM/cs395t-final-project/gym-results/test/rl-video-episode-63.mp4.\n",
      "Moviepy - Writing video /Users/jsukpk/Workstation/CSEM/cs395t-final-project/gym-results/test/rl-video-episode-63.mp4\n",
      "\n"
     ]
    },
    {
     "name": "stderr",
     "output_type": "stream",
     "text": [
      "                                                               \r"
     ]
    },
    {
     "name": "stdout",
     "output_type": "stream",
     "text": [
      "Moviepy - Done !\n",
      "Moviepy - video ready /Users/jsukpk/Workstation/CSEM/cs395t-final-project/gym-results/test/rl-video-episode-63.mp4\n",
      "Moviepy - Building video /Users/jsukpk/Workstation/CSEM/cs395t-final-project/gym-results/test/rl-video-episode-64.mp4.\n",
      "Moviepy - Writing video /Users/jsukpk/Workstation/CSEM/cs395t-final-project/gym-results/test/rl-video-episode-64.mp4\n",
      "\n"
     ]
    },
    {
     "name": "stderr",
     "output_type": "stream",
     "text": [
      "                                                               \r"
     ]
    },
    {
     "name": "stdout",
     "output_type": "stream",
     "text": [
      "Moviepy - Done !\n",
      "Moviepy - video ready /Users/jsukpk/Workstation/CSEM/cs395t-final-project/gym-results/test/rl-video-episode-64.mp4\n",
      "Moviepy - Building video /Users/jsukpk/Workstation/CSEM/cs395t-final-project/gym-results/test/rl-video-episode-65.mp4.\n",
      "Moviepy - Writing video /Users/jsukpk/Workstation/CSEM/cs395t-final-project/gym-results/test/rl-video-episode-65.mp4\n",
      "\n"
     ]
    },
    {
     "name": "stderr",
     "output_type": "stream",
     "text": [
      "                                                   "
     ]
    },
    {
     "name": "stdout",
     "output_type": "stream",
     "text": [
      "Moviepy - Done !\n",
      "Moviepy - video ready /Users/jsukpk/Workstation/CSEM/cs395t-final-project/gym-results/test/rl-video-episode-65.mp4\n"
     ]
    },
    {
     "name": "stderr",
     "output_type": "stream",
     "text": [
      "\r"
     ]
    }
   ],
   "source": [
    "# Test the trained policy\n",
    "test_output_folder = os.path.join(output_folder, 'test')\n",
    "shutil.rmtree(test_output_folder, ignore_errors=True)\n",
    "os.makedirs(test_output_folder, exist_ok=True)\n",
    "env = RecordVideo(\n",
    "    gym.make(\"Acrobot-v1\", max_episode_steps=512, render_mode=\"rgb_array\"),\n",
    "    test_output_folder,\n",
    "    episode_trigger=(lambda episode_id: True),\n",
    ")\n",
    "seed = 1\n",
    "obs, info = env.reset(seed=seed)\n",
    "T = 10000\n",
    "for i in range(T):\n",
    "    action, _state = model.predict(obs, deterministic=True)\n",
    "    obs, reward, done, truncated, info = env.step(action)\n",
    "    if done or truncated:\n",
    "        if i + 1 == T:\n",
    "            # will close outside the loop, no need to reset\n",
    "            continue\n",
    "        seed += 1\n",
    "        obs, info = env.reset(seed=seed)\n",
    "env.close()"
   ]
  }
 ],
 "metadata": {
  "kernelspec": {
   "display_name": ".env",
   "language": "python",
   "name": "python3"
  },
  "language_info": {
   "codemirror_mode": {
    "name": "ipython",
    "version": 3
   },
   "file_extension": ".py",
   "mimetype": "text/x-python",
   "name": "python",
   "nbconvert_exporter": "python",
   "pygments_lexer": "ipython3",
   "version": "3.10.13"
  }
 },
 "nbformat": 4,
 "nbformat_minor": 2
}
