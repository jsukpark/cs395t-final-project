{
 "cells": [
  {
   "cell_type": "code",
   "execution_count": 1,
   "metadata": {},
   "outputs": [
    {
     "name": "stderr",
     "output_type": "stream",
     "text": [
      "2023-12-11 11:03:16.462839: I tensorflow/core/platform/cpu_feature_guard.cc:182] This TensorFlow binary is optimized to use available CPU instructions in performance-critical operations.\n",
      "To enable the following instructions: AVX2 FMA, in other operations, rebuild TensorFlow with the appropriate compiler flags.\n"
     ]
    }
   ],
   "source": [
    "import os\n",
    "import shutil\n",
    "\n",
    "import numpy as np\n",
    "import gymnasium as gym\n",
    "from gymnasium import Wrapper, Env\n",
    "from gymnasium.wrappers import RecordVideo\n",
    "from stable_baselines3 import PPO\n"
   ]
  },
  {
   "cell_type": "code",
   "execution_count": 2,
   "metadata": {},
   "outputs": [],
   "source": [
    "def obs_to_state(obs):\n",
    "    c1, s1, c2, s2, o1, o2 = obs\n",
    "    t1, t2 = np.arccos(c1), np.arccos(c2)\n",
    "    if s1 < 0: t1 = -t1\n",
    "    if s2 < 0: t2 = -t2\n",
    "    return np.array([t1, t2, o1, o2])\n",
    "\n",
    "\n",
    "# TODO: Get this to work; we need episode lengths to be constant. See:\n",
    "# https://imitation.readthedocs.io/en/latest/main-concepts/variable_horizon.html\n",
    "class FixEpisodeLength(Wrapper):\n",
    "    def __init__(self, env: Env):\n",
    "        super().__init__(env)\n",
    "        self.freeze = False\n",
    "        self.last_obs = None\n",
    "        self.success_reward = None\n",
    "    \n",
    "    def step(self, action):\n",
    "        obs, reward, done, truncated, info = self.env.step(action)\n",
    "        if self.freeze:\n",
    "            obs, reward = self.last_obs, self.success_reward\n",
    "            # self.env.state = obs_to_state(obs)  # TODO: Acrobat-specific\n",
    "        elif done:\n",
    "            self.freeze = True\n",
    "            self.success_reward = reward\n",
    "        self.last_obs = obs\n",
    "        return obs, reward, False, truncated, info\n",
    "    \n",
    "    def reset(self, **kwargs):\n",
    "        self.freeze = False\n",
    "        self.last_obs = None\n",
    "        self.success_reward = None\n",
    "        return self.env.reset(**kwargs)\n",
    "\n",
    "\n",
    "env = gym.make(\"Acrobot-v1\", max_episode_steps=512, render_mode=\"rgb_array\")\n",
    "# env = FixEpisodeLength(env)"
   ]
  },
  {
   "cell_type": "code",
   "execution_count": 3,
   "metadata": {},
   "outputs": [
    {
     "name": "stderr",
     "output_type": "stream",
     "text": [
      "/Users/jsukpk/Workstation/CSEM/cs395t-final-project/.env/lib/python3.10/site-packages/gymnasium/wrappers/record_video.py:94: UserWarning: \u001b[33mWARN: Overwriting existing videos at /Users/jsukpk/Workstation/CSEM/cs395t-final-project/gym-results/oracle/train folder (try specifying a different `video_folder` for the `RecordVideo` wrapper if this is not desired)\u001b[0m\n",
      "  logger.warn(\n"
     ]
    },
    {
     "name": "stdout",
     "output_type": "stream",
     "text": [
      "Using cpu device\n",
      "Wrapping the env with a `Monitor` wrapper\n",
      "Wrapping the env in a DummyVecEnv.\n",
      "Moviepy - Building video /Users/jsukpk/Workstation/CSEM/cs395t-final-project/gym-results/oracle/train/rl-video-episode-0.mp4.\n",
      "Moviepy - Writing video /Users/jsukpk/Workstation/CSEM/cs395t-final-project/gym-results/oracle/train/rl-video-episode-0.mp4\n",
      "\n"
     ]
    },
    {
     "name": "stderr",
     "output_type": "stream",
     "text": [
      "                                                               \r"
     ]
    },
    {
     "name": "stdout",
     "output_type": "stream",
     "text": [
      "Moviepy - Done !\n",
      "Moviepy - video ready /Users/jsukpk/Workstation/CSEM/cs395t-final-project/gym-results/oracle/train/rl-video-episode-0.mp4\n",
      "Moviepy - Building video /Users/jsukpk/Workstation/CSEM/cs395t-final-project/gym-results/oracle/train/rl-video-episode-1.mp4.\n",
      "Moviepy - Writing video /Users/jsukpk/Workstation/CSEM/cs395t-final-project/gym-results/oracle/train/rl-video-episode-1.mp4\n",
      "\n"
     ]
    },
    {
     "name": "stderr",
     "output_type": "stream",
     "text": [
      "                                                               \r"
     ]
    },
    {
     "name": "stdout",
     "output_type": "stream",
     "text": [
      "Moviepy - Done !\n",
      "Moviepy - video ready /Users/jsukpk/Workstation/CSEM/cs395t-final-project/gym-results/oracle/train/rl-video-episode-1.mp4\n",
      "Moviepy - Building video /Users/jsukpk/Workstation/CSEM/cs395t-final-project/gym-results/oracle/train/rl-video-episode-2.mp4.\n",
      "Moviepy - Writing video /Users/jsukpk/Workstation/CSEM/cs395t-final-project/gym-results/oracle/train/rl-video-episode-2.mp4\n",
      "\n"
     ]
    },
    {
     "name": "stderr",
     "output_type": "stream",
     "text": [
      "                                                               \r"
     ]
    },
    {
     "name": "stdout",
     "output_type": "stream",
     "text": [
      "Moviepy - Done !\n",
      "Moviepy - video ready /Users/jsukpk/Workstation/CSEM/cs395t-final-project/gym-results/oracle/train/rl-video-episode-2.mp4\n",
      "Moviepy - Building video /Users/jsukpk/Workstation/CSEM/cs395t-final-project/gym-results/oracle/train/rl-video-episode-3.mp4.\n",
      "Moviepy - Writing video /Users/jsukpk/Workstation/CSEM/cs395t-final-project/gym-results/oracle/train/rl-video-episode-3.mp4\n",
      "\n"
     ]
    },
    {
     "name": "stderr",
     "output_type": "stream",
     "text": [
      "                                                               \r"
     ]
    },
    {
     "name": "stdout",
     "output_type": "stream",
     "text": [
      "Moviepy - Done !\n",
      "Moviepy - video ready /Users/jsukpk/Workstation/CSEM/cs395t-final-project/gym-results/oracle/train/rl-video-episode-3.mp4\n",
      "---------------------------------\n",
      "| rollout/           |          |\n",
      "|    ep_len_mean     | 480      |\n",
      "|    ep_rew_mean     | -480     |\n",
      "| time/              |          |\n",
      "|    fps             | 127      |\n",
      "|    iterations      | 1        |\n",
      "|    time_elapsed    | 16       |\n",
      "|    total_timesteps | 2048     |\n",
      "---------------------------------\n",
      "Moviepy - Building video /Users/jsukpk/Workstation/CSEM/cs395t-final-project/gym-results/oracle/train/rl-video-episode-4.mp4.\n",
      "Moviepy - Writing video /Users/jsukpk/Workstation/CSEM/cs395t-final-project/gym-results/oracle/train/rl-video-episode-4.mp4\n",
      "\n"
     ]
    },
    {
     "name": "stderr",
     "output_type": "stream",
     "text": [
      "                                                               \r"
     ]
    },
    {
     "name": "stdout",
     "output_type": "stream",
     "text": [
      "Moviepy - Done !\n",
      "Moviepy - video ready /Users/jsukpk/Workstation/CSEM/cs395t-final-project/gym-results/oracle/train/rl-video-episode-4.mp4\n",
      "Moviepy - Building video /Users/jsukpk/Workstation/CSEM/cs395t-final-project/gym-results/oracle/train/rl-video-episode-5.mp4.\n",
      "Moviepy - Writing video /Users/jsukpk/Workstation/CSEM/cs395t-final-project/gym-results/oracle/train/rl-video-episode-5.mp4\n",
      "\n"
     ]
    },
    {
     "name": "stderr",
     "output_type": "stream",
     "text": [
      "                                                               \r"
     ]
    },
    {
     "name": "stdout",
     "output_type": "stream",
     "text": [
      "Moviepy - Done !\n",
      "Moviepy - video ready /Users/jsukpk/Workstation/CSEM/cs395t-final-project/gym-results/oracle/train/rl-video-episode-5.mp4\n",
      "Moviepy - Building video /Users/jsukpk/Workstation/CSEM/cs395t-final-project/gym-results/oracle/train/rl-video-episode-6.mp4.\n",
      "Moviepy - Writing video /Users/jsukpk/Workstation/CSEM/cs395t-final-project/gym-results/oracle/train/rl-video-episode-6.mp4\n",
      "\n"
     ]
    },
    {
     "name": "stderr",
     "output_type": "stream",
     "text": [
      "                                                               \r"
     ]
    },
    {
     "name": "stdout",
     "output_type": "stream",
     "text": [
      "Moviepy - Done !\n",
      "Moviepy - video ready /Users/jsukpk/Workstation/CSEM/cs395t-final-project/gym-results/oracle/train/rl-video-episode-6.mp4\n",
      "Moviepy - Building video /Users/jsukpk/Workstation/CSEM/cs395t-final-project/gym-results/oracle/train/rl-video-episode-7.mp4.\n",
      "Moviepy - Writing video /Users/jsukpk/Workstation/CSEM/cs395t-final-project/gym-results/oracle/train/rl-video-episode-7.mp4\n",
      "\n"
     ]
    },
    {
     "name": "stderr",
     "output_type": "stream",
     "text": [
      "                                                               \r"
     ]
    },
    {
     "name": "stdout",
     "output_type": "stream",
     "text": [
      "Moviepy - Done !\n",
      "Moviepy - video ready /Users/jsukpk/Workstation/CSEM/cs395t-final-project/gym-results/oracle/train/rl-video-episode-7.mp4\n",
      "------------------------------------------\n",
      "| rollout/                |              |\n",
      "|    ep_len_mean          | 496          |\n",
      "|    ep_rew_mean          | -496         |\n",
      "| time/                   |              |\n",
      "|    fps                  | 124          |\n",
      "|    iterations           | 2            |\n",
      "|    time_elapsed         | 33           |\n",
      "|    total_timesteps      | 4096         |\n",
      "| train/                  |              |\n",
      "|    approx_kl            | 0.0035563675 |\n",
      "|    clip_fraction        | 0.00444      |\n",
      "|    clip_range           | 0.2          |\n",
      "|    entropy_loss         | -1.1         |\n",
      "|    explained_variance   | -0.0304      |\n",
      "|    learning_rate        | 0.0003       |\n",
      "|    loss                 | 19.2         |\n",
      "|    n_updates            | 10           |\n",
      "|    policy_gradient_loss | -0.00257     |\n",
      "|    value_loss           | 144          |\n",
      "------------------------------------------\n",
      "Moviepy - Building video /Users/jsukpk/Workstation/CSEM/cs395t-final-project/gym-results/oracle/train/rl-video-episode-8.mp4.\n",
      "Moviepy - Writing video /Users/jsukpk/Workstation/CSEM/cs395t-final-project/gym-results/oracle/train/rl-video-episode-8.mp4\n",
      "\n"
     ]
    },
    {
     "name": "stderr",
     "output_type": "stream",
     "text": [
      "                                                               \r"
     ]
    },
    {
     "name": "stdout",
     "output_type": "stream",
     "text": [
      "Moviepy - Done !\n",
      "Moviepy - video ready /Users/jsukpk/Workstation/CSEM/cs395t-final-project/gym-results/oracle/train/rl-video-episode-8.mp4\n",
      "Moviepy - Building video /Users/jsukpk/Workstation/CSEM/cs395t-final-project/gym-results/oracle/train/rl-video-episode-9.mp4.\n",
      "Moviepy - Writing video /Users/jsukpk/Workstation/CSEM/cs395t-final-project/gym-results/oracle/train/rl-video-episode-9.mp4\n",
      "\n"
     ]
    },
    {
     "name": "stderr",
     "output_type": "stream",
     "text": [
      "                                                               \r"
     ]
    },
    {
     "name": "stdout",
     "output_type": "stream",
     "text": [
      "Moviepy - Done !\n",
      "Moviepy - video ready /Users/jsukpk/Workstation/CSEM/cs395t-final-project/gym-results/oracle/train/rl-video-episode-9.mp4\n",
      "Moviepy - Building video /Users/jsukpk/Workstation/CSEM/cs395t-final-project/gym-results/oracle/train/rl-video-episode-10.mp4.\n",
      "Moviepy - Writing video /Users/jsukpk/Workstation/CSEM/cs395t-final-project/gym-results/oracle/train/rl-video-episode-10.mp4\n",
      "\n"
     ]
    },
    {
     "name": "stderr",
     "output_type": "stream",
     "text": [
      "                                                               \r"
     ]
    },
    {
     "name": "stdout",
     "output_type": "stream",
     "text": [
      "Moviepy - Done !\n",
      "Moviepy - video ready /Users/jsukpk/Workstation/CSEM/cs395t-final-project/gym-results/oracle/train/rl-video-episode-10.mp4\n",
      "Moviepy - Building video /Users/jsukpk/Workstation/CSEM/cs395t-final-project/gym-results/oracle/train/rl-video-episode-11.mp4.\n",
      "Moviepy - Writing video /Users/jsukpk/Workstation/CSEM/cs395t-final-project/gym-results/oracle/train/rl-video-episode-11.mp4\n",
      "\n"
     ]
    },
    {
     "name": "stderr",
     "output_type": "stream",
     "text": [
      "                                                               \r"
     ]
    },
    {
     "name": "stdout",
     "output_type": "stream",
     "text": [
      "Moviepy - Done !\n",
      "Moviepy - video ready /Users/jsukpk/Workstation/CSEM/cs395t-final-project/gym-results/oracle/train/rl-video-episode-11.mp4\n",
      "----------------------------------------\n",
      "| rollout/                |            |\n",
      "|    ep_len_mean          | 502        |\n",
      "|    ep_rew_mean          | -501       |\n",
      "| time/                   |            |\n",
      "|    fps                  | 121        |\n",
      "|    iterations           | 3          |\n",
      "|    time_elapsed         | 50         |\n",
      "|    total_timesteps      | 6144       |\n",
      "| train/                  |            |\n",
      "|    approx_kl            | 0.00415776 |\n",
      "|    clip_fraction        | 0.00229    |\n",
      "|    clip_range           | 0.2        |\n",
      "|    entropy_loss         | -1.09      |\n",
      "|    explained_variance   | 0.00241    |\n",
      "|    learning_rate        | 0.0003     |\n",
      "|    loss                 | 21.7       |\n",
      "|    n_updates            | 20         |\n",
      "|    policy_gradient_loss | -0.00096   |\n",
      "|    value_loss           | 109        |\n",
      "----------------------------------------\n",
      "Moviepy - Building video /Users/jsukpk/Workstation/CSEM/cs395t-final-project/gym-results/oracle/train/rl-video-episode-12.mp4.\n",
      "Moviepy - Writing video /Users/jsukpk/Workstation/CSEM/cs395t-final-project/gym-results/oracle/train/rl-video-episode-12.mp4\n",
      "\n"
     ]
    },
    {
     "name": "stderr",
     "output_type": "stream",
     "text": [
      "                                                               \r"
     ]
    },
    {
     "name": "stdout",
     "output_type": "stream",
     "text": [
      "Moviepy - Done !\n",
      "Moviepy - video ready /Users/jsukpk/Workstation/CSEM/cs395t-final-project/gym-results/oracle/train/rl-video-episode-12.mp4\n",
      "Moviepy - Building video /Users/jsukpk/Workstation/CSEM/cs395t-final-project/gym-results/oracle/train/rl-video-episode-13.mp4.\n",
      "Moviepy - Writing video /Users/jsukpk/Workstation/CSEM/cs395t-final-project/gym-results/oracle/train/rl-video-episode-13.mp4\n",
      "\n"
     ]
    },
    {
     "name": "stderr",
     "output_type": "stream",
     "text": [
      "                                                               \r"
     ]
    },
    {
     "name": "stdout",
     "output_type": "stream",
     "text": [
      "Moviepy - Done !\n",
      "Moviepy - video ready /Users/jsukpk/Workstation/CSEM/cs395t-final-project/gym-results/oracle/train/rl-video-episode-13.mp4\n",
      "Moviepy - Building video /Users/jsukpk/Workstation/CSEM/cs395t-final-project/gym-results/oracle/train/rl-video-episode-14.mp4.\n",
      "Moviepy - Writing video /Users/jsukpk/Workstation/CSEM/cs395t-final-project/gym-results/oracle/train/rl-video-episode-14.mp4\n",
      "\n"
     ]
    },
    {
     "name": "stderr",
     "output_type": "stream",
     "text": [
      "                                                               \r"
     ]
    },
    {
     "name": "stdout",
     "output_type": "stream",
     "text": [
      "Moviepy - Done !\n",
      "Moviepy - video ready /Users/jsukpk/Workstation/CSEM/cs395t-final-project/gym-results/oracle/train/rl-video-episode-14.mp4\n",
      "Moviepy - Building video /Users/jsukpk/Workstation/CSEM/cs395t-final-project/gym-results/oracle/train/rl-video-episode-15.mp4.\n",
      "Moviepy - Writing video /Users/jsukpk/Workstation/CSEM/cs395t-final-project/gym-results/oracle/train/rl-video-episode-15.mp4\n",
      "\n"
     ]
    },
    {
     "name": "stderr",
     "output_type": "stream",
     "text": [
      "                                                               \r"
     ]
    },
    {
     "name": "stdout",
     "output_type": "stream",
     "text": [
      "Moviepy - Done !\n",
      "Moviepy - video ready /Users/jsukpk/Workstation/CSEM/cs395t-final-project/gym-results/oracle/train/rl-video-episode-15.mp4\n",
      "-----------------------------------------\n",
      "| rollout/                |             |\n",
      "|    ep_len_mean          | 504         |\n",
      "|    ep_rew_mean          | -504        |\n",
      "| time/                   |             |\n",
      "|    fps                  | 122         |\n",
      "|    iterations           | 4           |\n",
      "|    time_elapsed         | 66          |\n",
      "|    total_timesteps      | 8192        |\n",
      "| train/                  |             |\n",
      "|    approx_kl            | 0.010258328 |\n",
      "|    clip_fraction        | 0.0551      |\n",
      "|    clip_range           | 0.2         |\n",
      "|    entropy_loss         | -1.09       |\n",
      "|    explained_variance   | 0.0025      |\n",
      "|    learning_rate        | 0.0003      |\n",
      "|    loss                 | 20.8        |\n",
      "|    n_updates            | 30          |\n",
      "|    policy_gradient_loss | -0.00454    |\n",
      "|    value_loss           | 98.8        |\n",
      "-----------------------------------------\n",
      "Moviepy - Building video /Users/jsukpk/Workstation/CSEM/cs395t-final-project/gym-results/oracle/train/rl-video-episode-16.mp4.\n",
      "Moviepy - Writing video /Users/jsukpk/Workstation/CSEM/cs395t-final-project/gym-results/oracle/train/rl-video-episode-16.mp4\n",
      "\n"
     ]
    },
    {
     "name": "stderr",
     "output_type": "stream",
     "text": [
      "                                                               \r"
     ]
    },
    {
     "name": "stdout",
     "output_type": "stream",
     "text": [
      "Moviepy - Done !\n",
      "Moviepy - video ready /Users/jsukpk/Workstation/CSEM/cs395t-final-project/gym-results/oracle/train/rl-video-episode-16.mp4\n",
      "Moviepy - Building video /Users/jsukpk/Workstation/CSEM/cs395t-final-project/gym-results/oracle/train/rl-video-episode-17.mp4.\n",
      "Moviepy - Writing video /Users/jsukpk/Workstation/CSEM/cs395t-final-project/gym-results/oracle/train/rl-video-episode-17.mp4\n",
      "\n"
     ]
    },
    {
     "name": "stderr",
     "output_type": "stream",
     "text": [
      "                                                               \r"
     ]
    },
    {
     "name": "stdout",
     "output_type": "stream",
     "text": [
      "Moviepy - Done !\n",
      "Moviepy - video ready /Users/jsukpk/Workstation/CSEM/cs395t-final-project/gym-results/oracle/train/rl-video-episode-17.mp4\n",
      "Moviepy - Building video /Users/jsukpk/Workstation/CSEM/cs395t-final-project/gym-results/oracle/train/rl-video-episode-18.mp4.\n",
      "Moviepy - Writing video /Users/jsukpk/Workstation/CSEM/cs395t-final-project/gym-results/oracle/train/rl-video-episode-18.mp4\n",
      "\n"
     ]
    },
    {
     "name": "stderr",
     "output_type": "stream",
     "text": [
      "                                                               \r"
     ]
    },
    {
     "name": "stdout",
     "output_type": "stream",
     "text": [
      "Moviepy - Done !\n",
      "Moviepy - video ready /Users/jsukpk/Workstation/CSEM/cs395t-final-project/gym-results/oracle/train/rl-video-episode-18.mp4\n",
      "Moviepy - Building video /Users/jsukpk/Workstation/CSEM/cs395t-final-project/gym-results/oracle/train/rl-video-episode-19.mp4.\n",
      "Moviepy - Writing video /Users/jsukpk/Workstation/CSEM/cs395t-final-project/gym-results/oracle/train/rl-video-episode-19.mp4\n",
      "\n"
     ]
    },
    {
     "name": "stderr",
     "output_type": "stream",
     "text": [
      "                                                               \r"
     ]
    },
    {
     "name": "stdout",
     "output_type": "stream",
     "text": [
      "Moviepy - Done !\n",
      "Moviepy - video ready /Users/jsukpk/Workstation/CSEM/cs395t-final-project/gym-results/oracle/train/rl-video-episode-19.mp4\n",
      "-----------------------------------------\n",
      "| rollout/                |             |\n",
      "|    ep_len_mean          | 506         |\n",
      "|    ep_rew_mean          | -506        |\n",
      "| time/                   |             |\n",
      "|    fps                  | 121         |\n",
      "|    iterations           | 5           |\n",
      "|    time_elapsed         | 84          |\n",
      "|    total_timesteps      | 10240       |\n",
      "| train/                  |             |\n",
      "|    approx_kl            | 0.009465012 |\n",
      "|    clip_fraction        | 0.0242      |\n",
      "|    clip_range           | 0.2         |\n",
      "|    entropy_loss         | -1.09       |\n",
      "|    explained_variance   | -0.00254    |\n",
      "|    learning_rate        | 0.0003      |\n",
      "|    loss                 | 15.7        |\n",
      "|    n_updates            | 40          |\n",
      "|    policy_gradient_loss | -0.00291    |\n",
      "|    value_loss           | 79.4        |\n",
      "-----------------------------------------\n",
      "Moviepy - Building video /Users/jsukpk/Workstation/CSEM/cs395t-final-project/gym-results/oracle/train/rl-video-episode-20.mp4.\n",
      "Moviepy - Writing video /Users/jsukpk/Workstation/CSEM/cs395t-final-project/gym-results/oracle/train/rl-video-episode-20.mp4\n",
      "\n"
     ]
    },
    {
     "name": "stderr",
     "output_type": "stream",
     "text": [
      "                                                               \r"
     ]
    },
    {
     "name": "stdout",
     "output_type": "stream",
     "text": [
      "Moviepy - Done !\n",
      "Moviepy - video ready /Users/jsukpk/Workstation/CSEM/cs395t-final-project/gym-results/oracle/train/rl-video-episode-20.mp4\n",
      "Moviepy - Building video /Users/jsukpk/Workstation/CSEM/cs395t-final-project/gym-results/oracle/train/rl-video-episode-21.mp4.\n",
      "Moviepy - Writing video /Users/jsukpk/Workstation/CSEM/cs395t-final-project/gym-results/oracle/train/rl-video-episode-21.mp4\n",
      "\n"
     ]
    },
    {
     "name": "stderr",
     "output_type": "stream",
     "text": [
      "                                                               \r"
     ]
    },
    {
     "name": "stdout",
     "output_type": "stream",
     "text": [
      "Moviepy - Done !\n",
      "Moviepy - video ready /Users/jsukpk/Workstation/CSEM/cs395t-final-project/gym-results/oracle/train/rl-video-episode-21.mp4\n",
      "Moviepy - Building video /Users/jsukpk/Workstation/CSEM/cs395t-final-project/gym-results/oracle/train/rl-video-episode-22.mp4.\n",
      "Moviepy - Writing video /Users/jsukpk/Workstation/CSEM/cs395t-final-project/gym-results/oracle/train/rl-video-episode-22.mp4\n",
      "\n"
     ]
    },
    {
     "name": "stderr",
     "output_type": "stream",
     "text": [
      "                                                               \r"
     ]
    },
    {
     "name": "stdout",
     "output_type": "stream",
     "text": [
      "Moviepy - Done !\n",
      "Moviepy - video ready /Users/jsukpk/Workstation/CSEM/cs395t-final-project/gym-results/oracle/train/rl-video-episode-22.mp4\n",
      "Moviepy - Building video /Users/jsukpk/Workstation/CSEM/cs395t-final-project/gym-results/oracle/train/rl-video-episode-23.mp4.\n",
      "Moviepy - Writing video /Users/jsukpk/Workstation/CSEM/cs395t-final-project/gym-results/oracle/train/rl-video-episode-23.mp4\n",
      "\n"
     ]
    },
    {
     "name": "stderr",
     "output_type": "stream",
     "text": [
      "                                                               \r"
     ]
    },
    {
     "name": "stdout",
     "output_type": "stream",
     "text": [
      "Moviepy - Done !\n",
      "Moviepy - video ready /Users/jsukpk/Workstation/CSEM/cs395t-final-project/gym-results/oracle/train/rl-video-episode-23.mp4\n",
      "-----------------------------------------\n",
      "| rollout/                |             |\n",
      "|    ep_len_mean          | 507         |\n",
      "|    ep_rew_mean          | -507        |\n",
      "| time/                   |             |\n",
      "|    fps                  | 121         |\n",
      "|    iterations           | 6           |\n",
      "|    time_elapsed         | 100         |\n",
      "|    total_timesteps      | 12288       |\n",
      "| train/                  |             |\n",
      "|    approx_kl            | 0.005470176 |\n",
      "|    clip_fraction        | 0.0214      |\n",
      "|    clip_range           | 0.2         |\n",
      "|    entropy_loss         | -1.08       |\n",
      "|    explained_variance   | 0.00941     |\n",
      "|    learning_rate        | 0.0003      |\n",
      "|    loss                 | 11.2        |\n",
      "|    n_updates            | 50          |\n",
      "|    policy_gradient_loss | -0.00271    |\n",
      "|    value_loss           | 64.1        |\n",
      "-----------------------------------------\n",
      "Moviepy - Building video /Users/jsukpk/Workstation/CSEM/cs395t-final-project/gym-results/oracle/train/rl-video-episode-24.mp4.\n",
      "Moviepy - Writing video /Users/jsukpk/Workstation/CSEM/cs395t-final-project/gym-results/oracle/train/rl-video-episode-24.mp4\n",
      "\n"
     ]
    },
    {
     "name": "stderr",
     "output_type": "stream",
     "text": [
      "                                                               \r"
     ]
    },
    {
     "name": "stdout",
     "output_type": "stream",
     "text": [
      "Moviepy - Done !\n",
      "Moviepy - video ready /Users/jsukpk/Workstation/CSEM/cs395t-final-project/gym-results/oracle/train/rl-video-episode-24.mp4\n",
      "Moviepy - Building video /Users/jsukpk/Workstation/CSEM/cs395t-final-project/gym-results/oracle/train/rl-video-episode-25.mp4.\n",
      "Moviepy - Writing video /Users/jsukpk/Workstation/CSEM/cs395t-final-project/gym-results/oracle/train/rl-video-episode-25.mp4\n",
      "\n"
     ]
    },
    {
     "name": "stderr",
     "output_type": "stream",
     "text": [
      "                                                               \r"
     ]
    },
    {
     "name": "stdout",
     "output_type": "stream",
     "text": [
      "Moviepy - Done !\n",
      "Moviepy - video ready /Users/jsukpk/Workstation/CSEM/cs395t-final-project/gym-results/oracle/train/rl-video-episode-25.mp4\n",
      "Moviepy - Building video /Users/jsukpk/Workstation/CSEM/cs395t-final-project/gym-results/oracle/train/rl-video-episode-26.mp4.\n",
      "Moviepy - Writing video /Users/jsukpk/Workstation/CSEM/cs395t-final-project/gym-results/oracle/train/rl-video-episode-26.mp4\n",
      "\n"
     ]
    },
    {
     "name": "stderr",
     "output_type": "stream",
     "text": [
      "                                                               \r"
     ]
    },
    {
     "name": "stdout",
     "output_type": "stream",
     "text": [
      "Moviepy - Done !\n",
      "Moviepy - video ready /Users/jsukpk/Workstation/CSEM/cs395t-final-project/gym-results/oracle/train/rl-video-episode-26.mp4\n",
      "Moviepy - Building video /Users/jsukpk/Workstation/CSEM/cs395t-final-project/gym-results/oracle/train/rl-video-episode-27.mp4.\n",
      "Moviepy - Writing video /Users/jsukpk/Workstation/CSEM/cs395t-final-project/gym-results/oracle/train/rl-video-episode-27.mp4\n",
      "\n"
     ]
    },
    {
     "name": "stderr",
     "output_type": "stream",
     "text": [
      "                                                               \r"
     ]
    },
    {
     "name": "stdout",
     "output_type": "stream",
     "text": [
      "Moviepy - Done !\n",
      "Moviepy - video ready /Users/jsukpk/Workstation/CSEM/cs395t-final-project/gym-results/oracle/train/rl-video-episode-27.mp4\n",
      "Moviepy - Building video /Users/jsukpk/Workstation/CSEM/cs395t-final-project/gym-results/oracle/train/rl-video-episode-28.mp4.\n",
      "Moviepy - Writing video /Users/jsukpk/Workstation/CSEM/cs395t-final-project/gym-results/oracle/train/rl-video-episode-28.mp4\n",
      "\n"
     ]
    },
    {
     "name": "stderr",
     "output_type": "stream",
     "text": [
      "                                                               \r"
     ]
    },
    {
     "name": "stdout",
     "output_type": "stream",
     "text": [
      "Moviepy - Done !\n",
      "Moviepy - video ready /Users/jsukpk/Workstation/CSEM/cs395t-final-project/gym-results/oracle/train/rl-video-episode-28.mp4\n",
      "------------------------------------------\n",
      "| rollout/                |              |\n",
      "|    ep_len_mean          | 490          |\n",
      "|    ep_rew_mean          | -489         |\n",
      "| time/                   |              |\n",
      "|    fps                  | 121          |\n",
      "|    iterations           | 7            |\n",
      "|    time_elapsed         | 118          |\n",
      "|    total_timesteps      | 14336        |\n",
      "| train/                  |              |\n",
      "|    approx_kl            | 0.0072997166 |\n",
      "|    clip_fraction        | 0.029        |\n",
      "|    clip_range           | 0.2          |\n",
      "|    entropy_loss         | -1.08        |\n",
      "|    explained_variance   | -0.0522      |\n",
      "|    learning_rate        | 0.0003       |\n",
      "|    loss                 | 13.7         |\n",
      "|    n_updates            | 60           |\n",
      "|    policy_gradient_loss | -0.0036      |\n",
      "|    value_loss           | 58.8         |\n",
      "------------------------------------------\n",
      "Moviepy - Building video /Users/jsukpk/Workstation/CSEM/cs395t-final-project/gym-results/oracle/train/rl-video-episode-29.mp4.\n",
      "Moviepy - Writing video /Users/jsukpk/Workstation/CSEM/cs395t-final-project/gym-results/oracle/train/rl-video-episode-29.mp4\n",
      "\n"
     ]
    },
    {
     "name": "stderr",
     "output_type": "stream",
     "text": [
      "                                                               \r"
     ]
    },
    {
     "name": "stdout",
     "output_type": "stream",
     "text": [
      "Moviepy - Done !\n",
      "Moviepy - video ready /Users/jsukpk/Workstation/CSEM/cs395t-final-project/gym-results/oracle/train/rl-video-episode-29.mp4\n",
      "Moviepy - Building video /Users/jsukpk/Workstation/CSEM/cs395t-final-project/gym-results/oracle/train/rl-video-episode-30.mp4.\n",
      "Moviepy - Writing video /Users/jsukpk/Workstation/CSEM/cs395t-final-project/gym-results/oracle/train/rl-video-episode-30.mp4\n",
      "\n"
     ]
    },
    {
     "name": "stderr",
     "output_type": "stream",
     "text": [
      "                                                               \r"
     ]
    },
    {
     "name": "stdout",
     "output_type": "stream",
     "text": [
      "Moviepy - Done !\n",
      "Moviepy - video ready /Users/jsukpk/Workstation/CSEM/cs395t-final-project/gym-results/oracle/train/rl-video-episode-30.mp4\n",
      "Moviepy - Building video /Users/jsukpk/Workstation/CSEM/cs395t-final-project/gym-results/oracle/train/rl-video-episode-31.mp4.\n",
      "Moviepy - Writing video /Users/jsukpk/Workstation/CSEM/cs395t-final-project/gym-results/oracle/train/rl-video-episode-31.mp4\n",
      "\n"
     ]
    },
    {
     "name": "stderr",
     "output_type": "stream",
     "text": [
      "                                                               \r"
     ]
    },
    {
     "name": "stdout",
     "output_type": "stream",
     "text": [
      "Moviepy - Done !\n",
      "Moviepy - video ready /Users/jsukpk/Workstation/CSEM/cs395t-final-project/gym-results/oracle/train/rl-video-episode-31.mp4\n",
      "Moviepy - Building video /Users/jsukpk/Workstation/CSEM/cs395t-final-project/gym-results/oracle/train/rl-video-episode-32.mp4.\n",
      "Moviepy - Writing video /Users/jsukpk/Workstation/CSEM/cs395t-final-project/gym-results/oracle/train/rl-video-episode-32.mp4\n",
      "\n"
     ]
    },
    {
     "name": "stderr",
     "output_type": "stream",
     "text": [
      "                                                               \r"
     ]
    },
    {
     "name": "stdout",
     "output_type": "stream",
     "text": [
      "Moviepy - Done !\n",
      "Moviepy - video ready /Users/jsukpk/Workstation/CSEM/cs395t-final-project/gym-results/oracle/train/rl-video-episode-32.mp4\n",
      "Moviepy - Building video /Users/jsukpk/Workstation/CSEM/cs395t-final-project/gym-results/oracle/train/rl-video-episode-33.mp4.\n",
      "Moviepy - Writing video /Users/jsukpk/Workstation/CSEM/cs395t-final-project/gym-results/oracle/train/rl-video-episode-33.mp4\n",
      "\n"
     ]
    },
    {
     "name": "stderr",
     "output_type": "stream",
     "text": [
      "                                                               \r"
     ]
    },
    {
     "name": "stdout",
     "output_type": "stream",
     "text": [
      "Moviepy - Done !\n",
      "Moviepy - video ready /Users/jsukpk/Workstation/CSEM/cs395t-final-project/gym-results/oracle/train/rl-video-episode-33.mp4\n",
      "Moviepy - Building video /Users/jsukpk/Workstation/CSEM/cs395t-final-project/gym-results/oracle/train/rl-video-episode-34.mp4.\n",
      "Moviepy - Writing video /Users/jsukpk/Workstation/CSEM/cs395t-final-project/gym-results/oracle/train/rl-video-episode-34.mp4\n",
      "\n"
     ]
    },
    {
     "name": "stderr",
     "output_type": "stream",
     "text": [
      "                                                               \r"
     ]
    },
    {
     "name": "stdout",
     "output_type": "stream",
     "text": [
      "Moviepy - Done !\n",
      "Moviepy - video ready /Users/jsukpk/Workstation/CSEM/cs395t-final-project/gym-results/oracle/train/rl-video-episode-34.mp4\n",
      "-----------------------------------------\n",
      "| rollout/                |             |\n",
      "|    ep_len_mean          | 462         |\n",
      "|    ep_rew_mean          | -462        |\n",
      "| time/                   |             |\n",
      "|    fps                  | 120         |\n",
      "|    iterations           | 8           |\n",
      "|    time_elapsed         | 135         |\n",
      "|    total_timesteps      | 16384       |\n",
      "| train/                  |             |\n",
      "|    approx_kl            | 0.008670201 |\n",
      "|    clip_fraction        | 0.104       |\n",
      "|    clip_range           | 0.2         |\n",
      "|    entropy_loss         | -1.05       |\n",
      "|    explained_variance   | 0.00981     |\n",
      "|    learning_rate        | 0.0003      |\n",
      "|    loss                 | 10.9        |\n",
      "|    n_updates            | 70          |\n",
      "|    policy_gradient_loss | -0.0107     |\n",
      "|    value_loss           | 65          |\n",
      "-----------------------------------------\n",
      "Moviepy - Building video /Users/jsukpk/Workstation/CSEM/cs395t-final-project/gym-results/oracle/train/rl-video-episode-35.mp4.\n",
      "Moviepy - Writing video /Users/jsukpk/Workstation/CSEM/cs395t-final-project/gym-results/oracle/train/rl-video-episode-35.mp4\n",
      "\n"
     ]
    },
    {
     "name": "stderr",
     "output_type": "stream",
     "text": [
      "                                                               \r"
     ]
    },
    {
     "name": "stdout",
     "output_type": "stream",
     "text": [
      "Moviepy - Done !\n",
      "Moviepy - video ready /Users/jsukpk/Workstation/CSEM/cs395t-final-project/gym-results/oracle/train/rl-video-episode-35.mp4\n"
     ]
    }
   ],
   "source": [
    "def wrap_around_video_recorder(env, folder):\n",
    "    return RecordVideo(\n",
    "        env, folder,\n",
    "        episode_trigger=(lambda episode_id: True),\n",
    "    )\n",
    "\n",
    "\n",
    "# Initialize video recording output directory\n",
    "output_folder = os.path.join(os.getcwd(), 'gym-results', 'oracle')\n",
    "os.makedirs(output_folder, exist_ok=True)\n",
    "\n",
    "train_output_folder = os.path.join(output_folder, 'train')\n",
    "shutil.rmtree(train_output_folder, ignore_errors=True)\n",
    "os.makedirs(train_output_folder, exist_ok=True)\n",
    "\n",
    "# Wrap around video recorder\n",
    "env = wrap_around_video_recorder(\n",
    "    env,\n",
    "    train_output_folder,\n",
    ")\n",
    "\n",
    "# Train a policy\n",
    "model = PPO(\"MlpPolicy\", env, verbose=1, seed=0).learn(total_timesteps=16384)\n",
    "env.close()\n",
    "model.save('my-model')"
   ]
  },
  {
   "cell_type": "markdown",
   "metadata": {},
   "source": [
    "We now generate oracle dataset using the trained policy model."
   ]
  },
  {
   "cell_type": "code",
   "execution_count": 4,
   "metadata": {},
   "outputs": [],
   "source": [
    "# # Generate oracle data using the trained policy\n",
    "# test_output_folder = os.path.join(output_folder, 'test')\n",
    "# shutil.rmtree(test_output_folder, ignore_errors=True)\n",
    "# os.makedirs(test_output_folder, exist_ok=True)\n",
    "\n",
    "# env = wrap_around_video_recorder(\n",
    "#     get_env(),\n",
    "#     test_output_folder,\n",
    "# )\n",
    "\n",
    "# trajectories = []  # trajectories is a list of lists\n",
    "# seed = 1\n",
    "# trajectories.append([])\n",
    "# obs, info = env.reset(seed=seed)\n",
    "# T = 10000\n",
    "# for i in range(T):\n",
    "#     trajectories[-1].append(obs)\n",
    "#     action, _state = model.predict(obs, deterministic=True)\n",
    "#     trajectories[-1].append(action)\n",
    "#     obs, reward, done, truncated, info = env.step(action)\n",
    "#     trajectories[-1].append(reward)\n",
    "#     if done or truncated:\n",
    "#         if i + 1 == T:\n",
    "#             # will close outside the loop, no need to reset\n",
    "#             continue\n",
    "#         trajectories[-1].append(obs)\n",
    "#         seed += 1  # try a new seed\n",
    "#         trajectories.append([])\n",
    "#         obs, info = env.reset(seed=seed)\n",
    "# trajectories[-1].append(obs)\n",
    "# env.close()"
   ]
  },
  {
   "cell_type": "code",
   "execution_count": 5,
   "metadata": {},
   "outputs": [],
   "source": [
    "# data_output_folder = os.path.join(output_folder, 'data')\n",
    "# shutil.rmtree(data_output_folder, ignore_errors=True)\n",
    "# os.makedirs(data_output_folder, exist_ok=True)\n",
    "\n",
    "# for e_idx, trajectory in enumerate(trajectories):\n",
    "#     assert len(trajectory) % 3 == 1\n",
    "#     states, actions, rewards = [], [], []\n",
    "#     for idx, elem in enumerate(trajectory):\n",
    "#         if idx % 3 == 0:    # state\n",
    "#             states.append(elem)\n",
    "#         elif idx % 3 == 1:  # action\n",
    "#             actions.append(elem)\n",
    "#         else:               # reward\n",
    "#             rewards.append(elem)\n",
    "#     data = {\n",
    "#         'states': np.stack(states),\n",
    "#         'actions': np.stack(actions),\n",
    "#         'rewards': np.array(rewards),\n",
    "#     }\n",
    "#     filename = f'episode-{e_idx}.npz'\n",
    "#     filepath = os.path.join(data_output_folder, filename)\n",
    "#     np.savez_compressed(filepath, **data)\n"
   ]
  },
  {
   "cell_type": "markdown",
   "metadata": {},
   "source": [
    "### Imitation Learning Using AIRL"
   ]
  },
  {
   "cell_type": "code",
   "execution_count": 6,
   "metadata": {},
   "outputs": [],
   "source": [
    "# model.save('my-model')\n",
    "\n",
    "# from stable_baselines3.ppo import MlpPolicy\n",
    "# newmodel = PPO.load('my-model.zip')\n",
    "# type(newmodel)"
   ]
  },
  {
   "cell_type": "code",
   "execution_count": 7,
   "metadata": {},
   "outputs": [
    {
     "name": "stderr",
     "output_type": "stream",
     "text": [
      "/Users/jsukpk/Workstation/CSEM/cs395t-final-project/.env/lib/python3.10/site-packages/tqdm/auto.py:21: TqdmWarning: IProgress not found. Please update jupyter and ipywidgets. See https://ipywidgets.readthedocs.io/en/stable/user_install.html\n",
      "  from .autonotebook import tqdm as notebook_tqdm\n"
     ]
    }
   ],
   "source": [
    "from stable_baselines3.common.evaluation import evaluate_policy\n",
    "\n",
    "from imitation.algorithms.adversarial.airl import AIRL\n",
    "from imitation.data import rollout\n",
    "from imitation.data.wrappers import RolloutInfoWrapper\n",
    "from imitation.policies.serialize import load_policy\n",
    "from imitation.rewards.reward_nets import BasicShapedRewardNet\n",
    "from imitation.util.networks import RunningNorm\n",
    "from imitation.util.util import make_vec_env"
   ]
  },
  {
   "cell_type": "code",
   "execution_count": 8,
   "metadata": {},
   "outputs": [],
   "source": [
    "SEED = 42"
   ]
  },
  {
   "cell_type": "code",
   "execution_count": 9,
   "metadata": {},
   "outputs": [],
   "source": [
    "env = make_vec_env(\n",
    "    \"Acrobot-v1\",\n",
    "    rng=np.random.default_rng(SEED),\n",
    "    n_envs=8,\n",
    "    post_wrappers=[\n",
    "        # FixEpisodeLength,\n",
    "        lambda env, _: RolloutInfoWrapper(env),  # to compute rollouts\n",
    "    ],\n",
    ")"
   ]
  },
  {
   "cell_type": "code",
   "execution_count": 10,
   "metadata": {},
   "outputs": [
    {
     "data": {
      "text/plain": [
       "ActorCriticPolicy(\n",
       "  (features_extractor): FlattenExtractor(\n",
       "    (flatten): Flatten(start_dim=1, end_dim=-1)\n",
       "  )\n",
       "  (pi_features_extractor): FlattenExtractor(\n",
       "    (flatten): Flatten(start_dim=1, end_dim=-1)\n",
       "  )\n",
       "  (vf_features_extractor): FlattenExtractor(\n",
       "    (flatten): Flatten(start_dim=1, end_dim=-1)\n",
       "  )\n",
       "  (mlp_extractor): MlpExtractor(\n",
       "    (policy_net): Sequential(\n",
       "      (0): Linear(in_features=6, out_features=64, bias=True)\n",
       "      (1): Tanh()\n",
       "      (2): Linear(in_features=64, out_features=64, bias=True)\n",
       "      (3): Tanh()\n",
       "    )\n",
       "    (value_net): Sequential(\n",
       "      (0): Linear(in_features=6, out_features=64, bias=True)\n",
       "      (1): Tanh()\n",
       "      (2): Linear(in_features=64, out_features=64, bias=True)\n",
       "      (3): Tanh()\n",
       "    )\n",
       "  )\n",
       "  (action_net): Linear(in_features=64, out_features=3, bias=True)\n",
       "  (value_net): Linear(in_features=64, out_features=1, bias=True)\n",
       ")"
      ]
     },
     "execution_count": 10,
     "metadata": {},
     "output_type": "execute_result"
    }
   ],
   "source": [
    "expert = model.policy\n",
    "expert"
   ]
  },
  {
   "cell_type": "code",
   "execution_count": 11,
   "metadata": {},
   "outputs": [],
   "source": [
    "rollouts = rollout.rollout(\n",
    "    expert,\n",
    "    env,\n",
    "    rollout.make_sample_until(min_episodes=60),\n",
    "    rng=np.random.default_rng(SEED),\n",
    ")"
   ]
  },
  {
   "cell_type": "code",
   "execution_count": 12,
   "metadata": {},
   "outputs": [],
   "source": [
    "learner = PPO(\n",
    "    env=env,\n",
    "    policy=\"MlpPolicy\",\n",
    "    batch_size=64,\n",
    "    ent_coef=0.0,\n",
    "    learning_rate=0.0005,\n",
    "    gamma=0.95,\n",
    "    clip_range=0.1,\n",
    "    vf_coef=0.1,\n",
    "    n_epochs=5,\n",
    "    seed=SEED,\n",
    ")"
   ]
  },
  {
   "cell_type": "code",
   "execution_count": 13,
   "metadata": {},
   "outputs": [],
   "source": [
    "reward_net = BasicShapedRewardNet(\n",
    "    observation_space=env.observation_space,\n",
    "    action_space=env.action_space,\n",
    "    normalize_input_layer=RunningNorm,\n",
    ")"
   ]
  },
  {
   "cell_type": "code",
   "execution_count": 14,
   "metadata": {},
   "outputs": [],
   "source": [
    "airl_trainer = AIRL(\n",
    "    demonstrations=rollouts,\n",
    "    demo_batch_size=2048,\n",
    "    gen_replay_buffer_capacity=512,\n",
    "    n_disc_updates_per_round=16,\n",
    "    venv=env,\n",
    "    gen_algo=learner,\n",
    "    reward_net=reward_net,\n",
    ")"
   ]
  },
  {
   "cell_type": "code",
   "execution_count": 15,
   "metadata": {},
   "outputs": [],
   "source": [
    "env.seed(SEED)\n",
    "learner_rewards_before_training, _ = evaluate_policy(\n",
    "    learner, env, 100, return_episode_rewards=True,\n",
    ")"
   ]
  },
  {
   "cell_type": "code",
   "execution_count": 16,
   "metadata": {},
   "outputs": [
    {
     "name": "stderr",
     "output_type": "stream",
     "text": [
      "round:   0%|          | 0/1 [00:00<?, ?it/s]"
     ]
    },
    {
     "name": "stdout",
     "output_type": "stream",
     "text": [
      "------------------------------------------\n",
      "| raw/                        |          |\n",
      "|    gen/rollout/ep_len_mean  | 497      |\n",
      "|    gen/rollout/ep_rew_mean  | -497     |\n",
      "|    gen/time/fps             | 2234     |\n",
      "|    gen/time/iterations      | 1        |\n",
      "|    gen/time/time_elapsed    | 7        |\n",
      "|    gen/time/total_timesteps | 16384    |\n",
      "------------------------------------------\n"
     ]
    },
    {
     "name": "stderr",
     "output_type": "stream",
     "text": [
      "round:   0%|          | 0/1 [00:13<?, ?it/s]\n"
     ]
    },
    {
     "ename": "ValueError",
     "evalue": "Episodes of different length detected: {392, 500}. Variable horizon environments are discouraged -- termination conditions leak information about reward. See https://imitation.readthedocs.io/en/latest/getting-started/variable-horizon.html for more information. If you are SURE you want to run imitation on a variable horizon task, then please pass in the flag: `allow_variable_horizon=True`.",
     "output_type": "error",
     "traceback": [
      "\u001b[0;31m---------------------------------------------------------------------------\u001b[0m",
      "\u001b[0;31mValueError\u001b[0m                                Traceback (most recent call last)",
      "Cell \u001b[0;32mIn[16], line 1\u001b[0m\n\u001b[0;32m----> 1\u001b[0m \u001b[43mairl_trainer\u001b[49m\u001b[38;5;241;43m.\u001b[39;49m\u001b[43mtrain\u001b[49m\u001b[43m(\u001b[49m\u001b[38;5;241;43m20000\u001b[39;49m\u001b[43m)\u001b[49m  \u001b[38;5;66;03m# Train for 2_000_000 steps to match expert.\u001b[39;00m\n\u001b[1;32m      2\u001b[0m env\u001b[38;5;241m.\u001b[39mseed(SEED)\n\u001b[1;32m      3\u001b[0m learner_rewards_after_training, _ \u001b[38;5;241m=\u001b[39m evaluate_policy(\n\u001b[1;32m      4\u001b[0m     learner, env, \u001b[38;5;241m100\u001b[39m, return_episode_rewards\u001b[38;5;241m=\u001b[39m\u001b[38;5;28;01mTrue\u001b[39;00m,\n\u001b[1;32m      5\u001b[0m )\n",
      "File \u001b[0;32m~/Workstation/CSEM/cs395t-final-project/.env/lib/python3.10/site-packages/imitation/algorithms/adversarial/common.py:454\u001b[0m, in \u001b[0;36mAdversarialTrainer.train\u001b[0;34m(self, total_timesteps, callback)\u001b[0m\n\u001b[1;32m    448\u001b[0m \u001b[38;5;28;01massert\u001b[39;00m n_rounds \u001b[38;5;241m>\u001b[39m\u001b[38;5;241m=\u001b[39m \u001b[38;5;241m1\u001b[39m, (\n\u001b[1;32m    449\u001b[0m     \u001b[38;5;124m\"\u001b[39m\u001b[38;5;124mNo updates (need at least \u001b[39m\u001b[38;5;124m\"\u001b[39m\n\u001b[1;32m    450\u001b[0m     \u001b[38;5;124mf\u001b[39m\u001b[38;5;124m\"\u001b[39m\u001b[38;5;132;01m{\u001b[39;00m\u001b[38;5;28mself\u001b[39m\u001b[38;5;241m.\u001b[39mgen_train_timesteps\u001b[38;5;132;01m}\u001b[39;00m\u001b[38;5;124m timesteps, have only \u001b[39m\u001b[38;5;124m\"\u001b[39m\n\u001b[1;32m    451\u001b[0m     \u001b[38;5;124mf\u001b[39m\u001b[38;5;124m\"\u001b[39m\u001b[38;5;124mtotal_timesteps=\u001b[39m\u001b[38;5;132;01m{\u001b[39;00mtotal_timesteps\u001b[38;5;132;01m}\u001b[39;00m\u001b[38;5;124m)!\u001b[39m\u001b[38;5;124m\"\u001b[39m\n\u001b[1;32m    452\u001b[0m )\n\u001b[1;32m    453\u001b[0m \u001b[38;5;28;01mfor\u001b[39;00m r \u001b[38;5;129;01min\u001b[39;00m tqdm\u001b[38;5;241m.\u001b[39mtqdm(\u001b[38;5;28mrange\u001b[39m(\u001b[38;5;241m0\u001b[39m, n_rounds), desc\u001b[38;5;241m=\u001b[39m\u001b[38;5;124m\"\u001b[39m\u001b[38;5;124mround\u001b[39m\u001b[38;5;124m\"\u001b[39m):\n\u001b[0;32m--> 454\u001b[0m     \u001b[38;5;28;43mself\u001b[39;49m\u001b[38;5;241;43m.\u001b[39;49m\u001b[43mtrain_gen\u001b[49m\u001b[43m(\u001b[49m\u001b[38;5;28;43mself\u001b[39;49m\u001b[38;5;241;43m.\u001b[39;49m\u001b[43mgen_train_timesteps\u001b[49m\u001b[43m)\u001b[49m\n\u001b[1;32m    455\u001b[0m     \u001b[38;5;28;01mfor\u001b[39;00m _ \u001b[38;5;129;01min\u001b[39;00m \u001b[38;5;28mrange\u001b[39m(\u001b[38;5;28mself\u001b[39m\u001b[38;5;241m.\u001b[39mn_disc_updates_per_round):\n\u001b[1;32m    456\u001b[0m         \u001b[38;5;28;01mwith\u001b[39;00m networks\u001b[38;5;241m.\u001b[39mtraining(\u001b[38;5;28mself\u001b[39m\u001b[38;5;241m.\u001b[39mreward_train):\n\u001b[1;32m    457\u001b[0m             \u001b[38;5;66;03m# switch to training mode (affects dropout, normalization)\u001b[39;00m\n",
      "File \u001b[0;32m~/Workstation/CSEM/cs395t-final-project/.env/lib/python3.10/site-packages/imitation/algorithms/adversarial/common.py:423\u001b[0m, in \u001b[0;36mAdversarialTrainer.train_gen\u001b[0;34m(self, total_timesteps, learn_kwargs)\u001b[0m\n\u001b[1;32m    420\u001b[0m     \u001b[38;5;28mself\u001b[39m\u001b[38;5;241m.\u001b[39m_global_step \u001b[38;5;241m+\u001b[39m\u001b[38;5;241m=\u001b[39m \u001b[38;5;241m1\u001b[39m\n\u001b[1;32m    422\u001b[0m gen_trajs, ep_lens \u001b[38;5;241m=\u001b[39m \u001b[38;5;28mself\u001b[39m\u001b[38;5;241m.\u001b[39mvenv_buffering\u001b[38;5;241m.\u001b[39mpop_trajectories()\n\u001b[0;32m--> 423\u001b[0m \u001b[38;5;28;43mself\u001b[39;49m\u001b[38;5;241;43m.\u001b[39;49m\u001b[43m_check_fixed_horizon\u001b[49m\u001b[43m(\u001b[49m\u001b[43mep_lens\u001b[49m\u001b[43m)\u001b[49m\n\u001b[1;32m    424\u001b[0m gen_samples \u001b[38;5;241m=\u001b[39m rollout\u001b[38;5;241m.\u001b[39mflatten_trajectories_with_rew(gen_trajs)\n\u001b[1;32m    425\u001b[0m \u001b[38;5;28mself\u001b[39m\u001b[38;5;241m.\u001b[39m_gen_replay_buffer\u001b[38;5;241m.\u001b[39mstore(gen_samples)\n",
      "File \u001b[0;32m~/Workstation/CSEM/cs395t-final-project/.env/lib/python3.10/site-packages/imitation/algorithms/base.py:99\u001b[0m, in \u001b[0;36mBaseImitationAlgorithm._check_fixed_horizon\u001b[0;34m(self, horizons)\u001b[0m\n\u001b[1;32m     96\u001b[0m     horizons\u001b[38;5;241m.\u001b[39madd(\u001b[38;5;28mself\u001b[39m\u001b[38;5;241m.\u001b[39m_horizon)\n\u001b[1;32m     98\u001b[0m \u001b[38;5;28;01mif\u001b[39;00m \u001b[38;5;28mlen\u001b[39m(horizons) \u001b[38;5;241m>\u001b[39m \u001b[38;5;241m1\u001b[39m:\n\u001b[0;32m---> 99\u001b[0m     \u001b[38;5;28;01mraise\u001b[39;00m \u001b[38;5;167;01mValueError\u001b[39;00m(\n\u001b[1;32m    100\u001b[0m         \u001b[38;5;124mf\u001b[39m\u001b[38;5;124m\"\u001b[39m\u001b[38;5;124mEpisodes of different length detected: \u001b[39m\u001b[38;5;132;01m{\u001b[39;00mhorizons\u001b[38;5;132;01m}\u001b[39;00m\u001b[38;5;124m. \u001b[39m\u001b[38;5;124m\"\u001b[39m\n\u001b[1;32m    101\u001b[0m         \u001b[38;5;124m\"\u001b[39m\u001b[38;5;124mVariable horizon environments are discouraged -- \u001b[39m\u001b[38;5;124m\"\u001b[39m\n\u001b[1;32m    102\u001b[0m         \u001b[38;5;124m\"\u001b[39m\u001b[38;5;124mtermination conditions leak information about reward. See \u001b[39m\u001b[38;5;124m\"\u001b[39m\n\u001b[1;32m    103\u001b[0m         \u001b[38;5;124m\"\u001b[39m\u001b[38;5;124mhttps://imitation.readthedocs.io/en/latest/getting-started/\u001b[39m\u001b[38;5;124m\"\u001b[39m\n\u001b[1;32m    104\u001b[0m         \u001b[38;5;124m\"\u001b[39m\u001b[38;5;124mvariable-horizon.html for more information. \u001b[39m\u001b[38;5;124m\"\u001b[39m\n\u001b[1;32m    105\u001b[0m         \u001b[38;5;124m\"\u001b[39m\u001b[38;5;124mIf you are SURE you want to run imitation on a \u001b[39m\u001b[38;5;124m\"\u001b[39m\n\u001b[1;32m    106\u001b[0m         \u001b[38;5;124m\"\u001b[39m\u001b[38;5;124mvariable horizon task, then please pass in the flag: \u001b[39m\u001b[38;5;124m\"\u001b[39m\n\u001b[1;32m    107\u001b[0m         \u001b[38;5;124m\"\u001b[39m\u001b[38;5;124m`allow_variable_horizon=True`.\u001b[39m\u001b[38;5;124m\"\u001b[39m,\n\u001b[1;32m    108\u001b[0m     )\n\u001b[1;32m    109\u001b[0m \u001b[38;5;28;01melif\u001b[39;00m \u001b[38;5;28mlen\u001b[39m(horizons) \u001b[38;5;241m==\u001b[39m \u001b[38;5;241m1\u001b[39m:\n\u001b[1;32m    110\u001b[0m     \u001b[38;5;28mself\u001b[39m\u001b[38;5;241m.\u001b[39m_horizon \u001b[38;5;241m=\u001b[39m horizons\u001b[38;5;241m.\u001b[39mpop()\n",
      "\u001b[0;31mValueError\u001b[0m: Episodes of different length detected: {392, 500}. Variable horizon environments are discouraged -- termination conditions leak information about reward. See https://imitation.readthedocs.io/en/latest/getting-started/variable-horizon.html for more information. If you are SURE you want to run imitation on a variable horizon task, then please pass in the flag: `allow_variable_horizon=True`."
     ]
    }
   ],
   "source": [
    "airl_trainer.train(20000)  # Train for 2_000_000 steps to match expert.\n",
    "env.seed(SEED)\n",
    "learner_rewards_after_training, _ = evaluate_policy(\n",
    "    learner, env, 100, return_episode_rewards=True,\n",
    ")"
   ]
  },
  {
   "cell_type": "code",
   "execution_count": null,
   "metadata": {},
   "outputs": [],
   "source": [
    "print(\"mean reward after training:\", np.mean(learner_rewards_after_training))\n",
    "print(\"mean reward before training:\", np.mean(learner_rewards_before_training))"
   ]
  }
 ],
 "metadata": {
  "kernelspec": {
   "display_name": ".env",
   "language": "python",
   "name": "python3"
  },
  "language_info": {
   "codemirror_mode": {
    "name": "ipython",
    "version": 3
   },
   "file_extension": ".py",
   "mimetype": "text/x-python",
   "name": "python",
   "nbconvert_exporter": "python",
   "pygments_lexer": "ipython3",
   "version": "3.10.13"
  }
 },
 "nbformat": 4,
 "nbformat_minor": 2
}
